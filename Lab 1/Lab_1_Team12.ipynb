{
  "nbformat": 4,
  "nbformat_minor": 0,
  "metadata": {
    "colab": {
      "name": "Lab 1_Team12.ipynb",
      "provenance": [],
      "toc_visible": true,
      "collapsed_sections": []
    },
    "kernelspec": {
      "name": "python3",
      "display_name": "Python 3"
    },
    "language_info": {
      "name": "python"
    }
  },
  "cells": [
    {
      "cell_type": "markdown",
      "source": [
        "#Εθνικό Μετσόβιο Πολυτχνείο\n",
        "Εργαστήριο Τεχνολογίας και Ανάλυσης Εικόνων και Βίντεο\n",
        "\n",
        "1η Ομαδική Άσκηση\n",
        "\n",
        "Βικέντιος Βιτάλης el18803 & Οδυσσέας Μοσχίδης el15110\n"
      ],
      "metadata": {
        "id": "OE-OgsSRGofP"
      }
    },
    {
      "cell_type": "markdown",
      "source": [
        "#1. Θεωρητικό μέρος"
      ],
      "metadata": {
        "id": "rWi5-BWdBHJn"
      }
    },
    {
      "cell_type": "markdown",
      "source": [
        "## Ζήτημα α)\n",
        "Το πρόβλημα στο οποίο αναφέρεται το άρθρο είναι η αναγκαιότητα ύπαρξης μιας μεθόδου αναπαράστασης των εικόνων τέτοια ώστε να επιτρέπει το μικρότερο δυνατό μέγεθος εικόνας (λιγότερα bits/pixel) χωρίς να υποβαθμίζει την ποιότητα της εικόνας.\n",
        "\n",
        "Οι κύριες ιδέες είναι οι εξής:\n",
        "Προτείνεται μια μέθοδος που συνδυάζει στοιχεία τεχνικών προβλέψεων και τεχνικών μετασχηματισμών η οποία είναι ιδιαίτερα αποδοτική υπολογιστικά. Βάση της μεθόδου αποτελεί η ιδέα πως τα γειτονικά pixels είναι ισχυρά συσχετισμένα. Έτσι, υπάρχει μεγάλο ποσοστό πλεονάζουσας πληροφορίας. Για την αποδοτική κωδικοποίηση πρέπει να γίνει αποσυσχέτιση των pixels. Πραγματοποιείται μια διαδικασία η οποία ισοδυναμεί με βαθυπερατό φιλτράρισμα της αρχικής εικόνας, χρησιμοποιώντας Gaussian-like σταθμισμένη συνάρτηση. Η προκύπτουσα βαθυπερατή εικόνα αφαιρείται από την αρχική δίνοντας μια εικόνα σφάλματος, της οποίας τα pixels είναι σε μεγάλο βαθμό αποσυσχετισμένα. Άρα αυτή παρουσιάζει χαμηλή εντροπία και variance. Το γεγονός αυτό μας επιτρέπει να παραστήσουμε την εικόνα σφάλματος με χρήση λιγότερων bits/pixel ενώ ταυτόχρονα και να την κβαντίσουμε χωρίς να προκύψουν σημαντικά σφάλματα. Η βαθυπερατή εικόνα μπορεί να υποδειγματοληπτηθεί χωρίς εμφάνιση φαινομένων aliasing. Η διαδικασία επαναλαμβάνεται εκτελώντας κάθε φορά βαθυπερατό φιλτράρισμα της βαθυπερατής εικόνας του προηγούμενου επιπέδου και λαμβάνοντας την διαφορά αυτής μείον της προκύπτουσας βαθυπερατής εικόνας. Αποτέλεσμα τελικά είναι ένα σύνολο βαθυπερατών εικόνων και ένα σύνολο επιπέδων εικόνων σφαλμάτων. Κάθε βαθυπερατή εικόνα υποδειγματοληπτείται, έτσι κάθε επίπεδο έχει μικρότερες διαστάσεις από το προηγούμενο. Συγκεκριμένα, μειωμένες στο μισό για μείωση συχνότητας δειγματοληψίας στην μέση. Τελικά, τα επίπεδα των βαθυπερατών εικόνων και εικόνων διαφοράς σχηματίζουν δυο \"πυραμίδες\". Η πρώτη λέγεται Gaussian και η δεύτερη λέγεται Laplacian. Η μέθοδος αυτή έχει σημαντικά αποτελέσματα. Αυτό συμβαίνει γιατί αποδυκνείεται πως μπορούμε να ανακατασκευάσουμε την αρχική εικόνα μόνο με χρήση της Laplacian πυραμίδας κι έτσι χρειάζεται να αποθηκεύσουμε μόνο αυτήν. Αν αναλογιστούμε πως αυτή μπορεί να κβαντιστεί ισχυρά με μικρή μόνο μείωση της τελικής ποιότητας της εικόνας, καταλαβαίνουμε πως τα οφέλη της μεθόδου αυτής είναι πολλά."
      ],
      "metadata": {
        "id": "ojLwfcFBAzvR"
      }
    },
    {
      "cell_type": "markdown",
      "source": [
        "## Ζήτημα β)\n",
        "Ο σκοπός του φίλτρου Gauss είναι να μειώσει την μέγιστη συχνότητα μιας εικόνας, δηλαδή να κάνει βαθυπερατό φιλτράρισμα. Έτσι, επιτυγχάνεται επίτρεψη δειγματοληψίας της προκύπτουσας εικόνας χωρίς εμφάνιση aliasing φαινομένων. Το Gaussian φιλτράρισμα πραγματοποιεί ένα είδος smoothing στην εικόνα, με αποτέλεσμα απότομες αλλαγές που δε θα αποτυπονώντουσαν σωστά στην εικόνα που προκύπτει στο επόμενο στάδιο δειγματοληψίας να είναι λιγότερο απότομες. Αν κάνουμε χρήση μόνο υποδειγματοληψίας και όχι smoothing, κατά πάσα πιθανότητα θα έχουμε προβλήματα αναδίπλωσης. Δηλαδή, δε θα μπορούμε να ανιχνεύσουμε τις απότομες αλλαγές σε σημεία της εικόνας, χάνοντας έτσι τις υψηλές συχνότητες, και η τελική εικόνα θα διαφέρει πολύ από την αρχική."
      ],
      "metadata": {
        "id": "gIP1VM1cA11i"
      }
    },
    {
      "cell_type": "markdown",
      "source": [
        "## Ζήτημα γ)\n",
        "Με την πυραμίδα Gauss ουσιαστικά αποθηκεύουμε τις βαθυπερατές και υποδειγματοληπτημένες εικόνες σε πολλαπλές κλίμακες ενώ αντίθετα, η Laplacian πυραμίδα αποθηκεύει την διαφορά ανάμεσα σε δύο διαδοχικά επίπεδα της πυραμίδας Gauss. Η διαφορά αυτή ουσιαστικά αποτελεί μια εικόνα σφάλματος και η συσχέτιση που εμφανίζει από pixel-σε-pixel είναι πολύ χαμηλότερη από την αρχική/Gaussian εικόνα. Έτσι, έχουμε συγκέντρωση των τιμών των pixel γύρω από το μηδέν. Με αποτέλεσμα χαμηλότερη εντροπία και variance. Mπορούμε να κάνουμε χρήση λιγότερων bits για την αναπαράσταση της εικόνας και να κβαντίσουμε τα επίπεδα της Laplacian πυραμίδας μειώνοντας την εντροπία και τα bits/pixel ακόμα περισσότερο, επιτυγχάνοντας καλή συμπίεση. Αυτά συμβαίνουν χωρίς να υποβαθμίζουμε ιδιαίτερα την ποιότητα ανακατασκευής της εικόνας. Για αυτούς τους λόγους είναι καλύτερη η χρήση της Laplacian πυραμίδας στα πλαίσια της εργασίας που διαπραγματεύεται το άρθρο."
      ],
      "metadata": {
        "id": "Mg8zULWxCKuo"
      }
    },
    {
      "cell_type": "markdown",
      "source": [
        "## Ζήτημα δ) \n",
        "Από τη στιγμή που δεν υπάρχει κβαντισμός που θα εισήγαγε σφάλματα, μπορούμε από την Laplacian πυραμίδα να ανακτήσουμε τέλεια την αρχική εικόνα $g_0$. Αυτό συμβαίνει από τις διαφορές των εικόνων για τα επίπεδα 0, 1,..., Ν-1 της Λαπλασιανής Πυραμίδας $L_0, L_1, ..., L_{N-1}$ και την βαθυπερατή εικόνα επιπέδου Ν, $L_N = g_N$. Έτσι, εκτελούμε την EXPAND διαδικασία κατα την οποία παρεμβάλλονται νέες τιμές στις ήδη υπάρχουσες τιμές της εικόνας με στόχο τον διπλασιασμό των διαστάσεων ώστε να έχει τις ίδιες διαστάσεις με την αρχική. Αρχίζοντας από το επίπεδο Ν, κάνουμε στην Laplacian εικόνα EXPAND και την προσθέτουμε με την εικόνα του επιπέδου Ν-1. Αντίστοιχα, στο επίπεδο N-2 κάνουμε στην Laplacian εικόνα EXPAND και την προσθέτουμε στην εικόνα του Ν-2 επιπέδου. Όμοια διαδικασία μέχρι να φτάσουμε στο επίπεδο μηδέν. Εκεί θα έχουμε την ανακατασκευασμένη αρχική εικόνα.\n",
        "\n",
        "$g_i = L_i + EXPAND(g_{i+1})\\quad i\\in\\{N-1, N-2, ..., 0\\}$\n",
        "\n",
        "Οφείλουμε να αναφέρουμε πως αντί της μεθόδου αυτής μπορούμε, σύμφωνα με τη πηγή μας, να κάνουμε στις Laplacian εικόνες EXPAND όσες φορές χρειάζεται για να αποκτήσουν τις διαστάσεις της αρχικής εικόνας και στην συνέχεια να προσθέσουμε όλα τα αποτελέσματα. Αυτή η μέθοδος όμως είναι υπολογιστικά ακριβή και λόγω των απαιτήσεων της σε πόρους δεν προτιμάται."
      ],
      "metadata": {
        "id": "8LTbYsA6EHXe"
      }
    },
    {
      "cell_type": "markdown",
      "source": [
        "# 2. Εργαστηριακό Μέρος\n"
      ],
      "metadata": {
        "id": "JykFYSy4GsYJ"
      }
    },
    {
      "cell_type": "markdown",
      "source": [
        "## Α. Υλοποίηση αλγορίθμου"
      ],
      "metadata": {
        "id": "CFim-bniGxvE"
      }
    },
    {
      "cell_type": "code",
      "source": [
        "import urllib.request\n",
        "import cv2\n",
        "import scipy\n",
        "import skimage\n",
        "from skimage import data\n",
        "from scipy.signal import convolve2d\n",
        "import numpy as np\n",
        "from matplotlib import pyplot as plt\n",
        "%matplotlib inline"
      ],
      "metadata": {
        "id": "nPaYYjdyHK9s"
      },
      "execution_count": null,
      "outputs": []
    },
    {
      "cell_type": "markdown",
      "source": [
        "Φόρτωση των εικόνων Lena, Camera:"
      ],
      "metadata": {
        "id": "cu-iuxu2HNKj"
      }
    },
    {
      "cell_type": "code",
      "source": [
        "# Φέρνουμε την εικόνα Lena \n",
        "HTTP_response = urllib.request.urlopen('http://www.image.ntua.gr/~tpar/LABimage/lena.png')"
      ],
      "metadata": {
        "id": "M0ewhUZ6HPlz"
      },
      "execution_count": null,
      "outputs": []
    },
    {
      "cell_type": "code",
      "source": [
        "arr = np.asarray(bytearray(HTTP_response.read()), dtype=np.uint8)\n",
        "BGR = cv2.imdecode(arr,-1)"
      ],
      "metadata": {
        "id": "dgw3-5STHPnN"
      },
      "execution_count": null,
      "outputs": []
    },
    {
      "cell_type": "code",
      "source": [
        "# Μετατρέπουμε σε Gray\n",
        "Lena_gray = cv2.cvtColor(BGR, cv2.COLOR_BGR2YCrCb)[:,:,0]\n",
        "plt.figure(figsize=(6, 6))\n",
        "plt.imshow(Lena_gray, cmap=\"gray\")\n",
        "plt.title('Lena grayscale')"
      ],
      "metadata": {
        "id": "JlzwEeeiHTTO"
      },
      "execution_count": null,
      "outputs": []
    },
    {
      "cell_type": "code",
      "source": [
        "# Διατήρηση χρώματος, μετατρέπουμε σε RGB\n",
        "Lena_RGB = cv2.cvtColor(BGR, cv2.COLOR_BGR2RGB)\n",
        "plt.figure(figsize=(6, 6))\n",
        "plt.imshow(Lena_RGB)\n",
        "plt.title('Lena RGB')"
      ],
      "metadata": {
        "id": "q30b-bxoHhdG"
      },
      "execution_count": null,
      "outputs": []
    },
    {
      "cell_type": "code",
      "source": [
        "Camera=skimage.data.camera()\n",
        "plt.figure(figsize=(6, 6))\n",
        "plt.imshow(Camera, cmap=\"gray\")\n",
        "plt.title('Camera grayscale')"
      ],
      "metadata": {
        "id": "JuQvz9kGHksH"
      },
      "execution_count": null,
      "outputs": []
    },
    {
      "cell_type": "markdown",
      "source": [
        "Βοηθητική συνάρτηση:"
      ],
      "metadata": {
        "id": "FcobQcLuHnRh"
      }
    },
    {
      "cell_type": "code",
      "source": [
        "# Βοηθητική συνάρτηση για να τυπώσουμε τη πυραμίδα\n",
        "def showPyramid(pyramid, case):\n",
        "    if (case=='gray'):                                                           # Grayscale εικόνα\n",
        "        f, ax = plt.subplots(1, len(pyramid), figsize=(20, 20))  \n",
        "        for i in range (0,len(pyramid)):\n",
        "            ax[i].imshow(pyramid[i], cmap=\"gray\")                                # Βάση της πυραμίδας\n",
        "            ax[i].set_title('Level {}'.format(i), fontsize=14)\n",
        "    else:\n",
        "        f, ax = plt.subplots(1, len(pyramid), figsize=(20, 20))                  # Έγχρωμη εικόνα\n",
        "        for i in range (0,len(pyramid)):\n",
        "            ax[i].imshow(pyramid[i].astype(int))                                 # Βάση της πυραμίδας\n",
        "            ax[i].set_title('Level {}'.format(i), fontsize=14)"
      ],
      "metadata": {
        "id": "yhXYsUkVHoa8"
      },
      "execution_count": null,
      "outputs": []
    },
    {
      "cell_type": "markdown",
      "source": [
        "## Ζήτημα α)"
      ],
      "metadata": {
        "id": "wy37j9qtG1XA"
      }
    },
    {
      "cell_type": "code",
      "source": [
        "def GKernel(a):\n",
        "  w = np.array([0.25 - a/2.0, 0.25, a, 0.25, 0.25 - a/2.0])                      # Μονοδιάστατος πυρήνας\n",
        "  return w*w.reshape(-1,1)                                                       # Δισδιάστατος πυρήνας"
      ],
      "metadata": {
        "id": "o5ljeSTOHrvE"
      },
      "execution_count": null,
      "outputs": []
    },
    {
      "cell_type": "markdown",
      "source": [
        "## Ζήτημα β)"
      ],
      "metadata": {
        "id": "7RoIaOCAH7l4"
      }
    },
    {
      "cell_type": "code",
      "source": [
        "def GREDUCE(I,h):\n",
        "  reduced_downsampled = None\n",
        "  low_pass_image = cv2.filter2D(I,-1,h)                                          # Συγκλίνουμε την εικόνα με τον παραγόμενο πυρήνα\n",
        "  reduced_downsampled = low_pass_image[::2,::2]                                  # Μειώνουμε τον ρυθμό δειγματοληψίας στο μισό\n",
        "  return reduced_downsampled"
      ],
      "metadata": {
        "id": "vGgk7EMQHsk1"
      },
      "execution_count": null,
      "outputs": []
    },
    {
      "cell_type": "markdown",
      "source": [
        "## Ζήτημα γ)"
      ],
      "metadata": {
        "id": "xV9u6MpUIDiO"
      }
    },
    {
      "cell_type": "code",
      "source": [
        "def GPyramid(I,a,depth):\n",
        "  pyramid = [I]\n",
        "  kernel = GKernel(a)\n",
        "  for i in range(0,depth-1):\n",
        "    gaussian_image = GREDUCE(pyramid[i],kernel)                                  # Εφαρμόζουμε GREDUCE στην εικόνα το προηγούμενο επιπέδου για να πάρουμε lowpass εικόνα στο επόμενο επίπεδο\n",
        "    pyramid.append(gaussian_image)\n",
        "  return pyramid"
      ],
      "metadata": {
        "id": "TFB-bm3DIGll"
      },
      "execution_count": null,
      "outputs": []
    },
    {
      "cell_type": "markdown",
      "source": [
        "## Ζήτημα δ)"
      ],
      "metadata": {
        "id": "U1vN2DW3IJkN"
      }
    },
    {
      "cell_type": "code",
      "source": [
        "def GEXPAND(I,h):\n",
        "  expanded_image = None\n",
        "  if (len(I.shape)==2):                                                          # Grayscale εικόνα\n",
        "    tmp_image = np.zeros((I.shape[0]*2, I.shape[1]*2), dtype=np.float64)         # Λαμβάνουμε έναν πίνακα με κάθε άλλο pixel ίδιο με την αρχική εικόνα, ενώ τα υπόλοιπα pixels είναι μηδενικά\n",
        "    tmp_image[::2,::2]=I                                                         # Θα χρησιμοποιηθούν αργότερα για την παρεμβολή των νέων τιμών κόμβων μεταξύ των δοσμένων τιμών\n",
        "  else:                                                                          # Έγχρωμη εικόνα\n",
        "    tmp_image = np.zeros((I.shape[0]*2, I.shape[1]*2, I.shape[2]), dtype=np.float64)\n",
        "    tmp_image[::2,::2,:]=I\n",
        "  expanded_image = 4*cv2.filter2D(tmp_image,-1,h)                                # Εξίσωση (2) της πηγής\n",
        "  return expanded_image"
      ],
      "metadata": {
        "id": "ZUEWx6D2IMa7"
      },
      "execution_count": null,
      "outputs": []
    },
    {
      "cell_type": "markdown",
      "source": [
        "## Ζήτημα ε)"
      ],
      "metadata": {
        "id": "p2iSjZx-IOc9"
      }
    },
    {
      "cell_type": "code",
      "source": [
        "def LPyramid(I,a,depth):\n",
        "  gaussian_pyramid = GPyramid(I,a,depth)\n",
        "  laplacian_pyramid = []                                                                    \n",
        "  kernel = GKernel(a)                                                            # Λαμβάνουμε τον παραγόμενο πυρήνα για την δοσμένη τιμή της παραμέτρου a\n",
        "  for i in range(0,depth-1):                                                \n",
        "    gaussian_image = gaussian_pyramid[i]\n",
        "    expanded_gaussian_image = GEXPAND(gaussian_pyramid[i+1],kernel)              # EXPAND την εικόνα κάθε επιπέδου για να λάβουμε τις ίδιες διαστάσεις όπως το προηγούμενο επίπεδο\n",
        "    laplacian_pyramid.append(gaussian_image - expanded_gaussian_image+128)       # Λαμβάνουμε την διαφορά των εικόνων, προσθέτουμε 128 ώστε να λάβουμε μόνο θετικές τιμές (κέντρο 128) \n",
        "                                                                                 # Αφαιρείται κατά την αποκατασκευή ώστε να μην επηρεαστούν τα αποτελέσματα, απαιτούμενο για το τύπωμα της οθόνης\n",
        "  laplacian_pyramid.append(gaussian_pyramid[depth-1])\n",
        "  return laplacian_pyramid"
      ],
      "metadata": {
        "id": "RfIhoVdFIRd6"
      },
      "execution_count": null,
      "outputs": []
    },
    {
      "cell_type": "markdown",
      "source": [
        "## Ζήτημα στ)\n"
      ],
      "metadata": {
        "id": "CC9jA3RSITuC"
      }
    },
    {
      "cell_type": "code",
      "source": [
        "def L_Pyramid_Decode(L,a):\n",
        "    kernel = GKernel(a)\n",
        "    sum_image=L[len(L)-1]\n",
        "    for i in range(len(L)-2, -1, -1):\n",
        "        expanded_image = GEXPAND(sum_image,kernel)                                # EXPAND εικόνας για να λάβουμε τις ίδιες διαστάσεις όπως το προηγούμενο επίπεδο\n",
        "        sum_image=L[i]+expanded_image-128                                         # Άθροισμα του προηγούμενο επιπέδου στο μέχρι τώρα άθροισμα της εικόνας που έχει υπολογιστεί \n",
        "    return sum_image   "
      ],
      "metadata": {
        "id": "Q1Vs5-1VIWck"
      },
      "execution_count": null,
      "outputs": []
    },
    {
      "cell_type": "markdown",
      "source": [
        "## Ζήτημα ζ)\n"
      ],
      "metadata": {
        "id": "V7oh8-HPIcTP"
      }
    },
    {
      "cell_type": "code",
      "source": [
        "def L_Quantization(L,bins):                                                       # Παράμετροι εισόδου είναι η εικόνα που θα κβαντιστεί και ο αριθμός των bins \n",
        "    if (len(L.shape)==2):                                                         # Grayscale εικόνα\n",
        "        C=np.zeros((L.shape[0], L.shape[1]), dtype=np.float64)\n",
        "        max_val=L.max()\n",
        "        n=256/bins                                                                # Μέγιστη τιμή είναι το 255, υπολογισμός bin size για n bins\n",
        "        for i in range (0,L.shape[0]):                                            # Για κάθε pixel\n",
        "            for j in range(0,L.shape[1]):\n",
        "                for m in range(0,bins):\n",
        "                    if (L[i][j]<=(m+1/2)*n and L[i][j]>=(m-1/2)*n):               # Εξίσωση (5) της πηγής\n",
        "                        C[i][j]=m*n\n",
        "                        break\n",
        "    else:                                                                         # Εικόνα με χρώμα\n",
        "        C=np.zeros((L.shape[0], L.shape[1],L.shape[2]), dtype=np.float64)\n",
        "        max_val=L.max()\n",
        "        n=255/bins                                                                # Μέγιστη τιμή είναι το 255, υπολογίζουμε το bin size για n bins\n",
        "        for i in range (0,L.shape[0]):                                            # Για κάθε pixel\n",
        "            for j in range(0,L.shape[1]):\n",
        "                for k in range(0,L.shape[2]):\n",
        "                    for m in range(0,bins):\n",
        "                        if (L[i][j][k]<=(m+1/2)*n and L[i][j][k]>=(m-1/2)*n):     # Εξίσωση (5) της πηγής\n",
        "                            C[i][j][k]=m*n\n",
        "                            break\n",
        "    return C"
      ],
      "metadata": {
        "id": "ELrlA7-9Ie6J"
      },
      "execution_count": null,
      "outputs": []
    },
    {
      "cell_type": "markdown",
      "source": [
        "## Β. Δοκιμές αλγορίθμου"
      ],
      "metadata": {
        "id": "-fbe64-lIh1L"
      }
    },
    {
      "cell_type": "markdown",
      "source": [
        "Παρουσιάζουμε αρχικά τις προκύπτουσες Gaussian πυραμίδες, για τις εικόνες Lena (grayscale, RGB), και Camera:"
      ],
      "metadata": {
        "id": "Grya-KkWIohJ"
      }
    },
    {
      "cell_type": "code",
      "source": [
        "# Υπολογισμός και τύπωμα Gaussian πυρμαίδας για κάθε εικόνα\n",
        "\n",
        "# Lena Grayscale\n",
        "Lena_gray_gaus=GPyramid(Lena_gray,0.4,5)\n",
        "showPyramid(Lena_gray_gaus,'gray')\n",
        "# Lena RGB\n",
        "Lena_RGB_gaus=GPyramid(Lena_RGB,0.4,5)\n",
        "showPyramid(Lena_RGB_gaus,'gray')\n",
        "# Camera\n",
        "Camera_gaus=GPyramid(Camera,0.4,5)\n",
        "showPyramid(Camera_gaus,'gray')"
      ],
      "metadata": {
        "id": "sqGsDx6FIqwp"
      },
      "execution_count": null,
      "outputs": []
    },
    {
      "cell_type": "markdown",
      "source": [
        "Κάθε επίπεδο είναι μια πιο ομαλοποιημένη έκδοση του προηγούμενου. Κάτι το οποίο αναμενόμενο δεδομένου ότι αποτελεί βαθυπερατό τμήμα του προηγούμενου σταδίου. Όσο προχωράμε σε επόμενα επίπεδα η εικόνα γίνεται πιο θολή."
      ],
      "metadata": {
        "id": "UBTpqbdVKGsm"
      }
    },
    {
      "cell_type": "markdown",
      "source": [
        "## Ζήτημα α)"
      ],
      "metadata": {
        "id": "9Kndp3veKaX2"
      }
    },
    {
      "cell_type": "markdown",
      "source": [
        "Παρουσιάζουμε τις προκύπτουσες Laplacian πυραμίδες, με χρήση της συνάρτησης L_Pyramid"
      ],
      "metadata": {
        "id": "9mNm9ZJIKchI"
      }
    },
    {
      "cell_type": "code",
      "source": [
        "#Laplacian πυραμίδα\n",
        "\n",
        "# Lena Grayscale\n",
        "Lena_gray_lap=LPyramid(Lena_gray,3/8,5)\n",
        "showPyramid(Lena_gray_lap, 'gray')\n",
        "# Lena RGB\n",
        "Lena_RGB_lap=LPyramid(Lena_RGB,3/8,5)\n",
        "showPyramid(Lena_RGB_lap,'RGB')\n",
        "# Camera\n",
        "Camera_lap=LPyramid(Camera,3/8,5)\n",
        "showPyramid(Camera_lap,'gray')"
      ],
      "metadata": {
        "id": "R4_ngpm_KevM"
      },
      "execution_count": null,
      "outputs": []
    },
    {
      "cell_type": "markdown",
      "source": [
        "Οι εικόνες στην Laplacian πυραμίδα εμφανίζονται να έχουν έντοντες λεπτομέρειες(πχ. ακμές). Οι πιο συγκεκριμένες λεπτομέρειες είναι λιγότερο ορατές σε χαμηλά επίπεδα. Όσο προχωράμε βλέπουμε coarse χαρακτηριστικά. Αυτό είναι λογικό αφολυ κάθε επίπεδο προκύπτει ως λεπτομέρεια εικόνας με όλο και πιο βαθυπερατό φάσμα στην Gaussian πυραμίδα.\n",
        "\n",
        "Στην συνέχεια παρουσιάζουμε την ανακατασκευή από την Laplacian πυραμίδα με χρήση της L_Pyramid_Decode και την αρχική εικόνα για λόγους σύγκρισης."
      ],
      "metadata": {
        "id": "mst1M02CKsP3"
      }
    },
    {
      "cell_type": "code",
      "source": [
        "# Σχεδιασμός ανακατασκευασμένων εικόνων \n",
        "\n",
        "# Lena Grayscale\n",
        "Lena_gray_dec=L_Pyramid_Decode(Lena_gray_lap,3/8)\n",
        "f1, (ax0,ax1)= plt.subplots(1, 2, figsize=(10, 10))\n",
        "ax0.imshow(Lena_gray_dec, cmap=\"gray\")\n",
        "ax0.set_title('Reconstructed', fontsize=14)\n",
        "ax1.imshow(Lena_gray, cmap=\"gray\")\n",
        "ax1.set_title('Original', fontsize=14)\n",
        "# Lena RGB\n",
        "Lena_RGB_dec=L_Pyramid_Decode(Lena_RGB_lap,3/8)\n",
        "f2, (ax0,ax1)= plt.subplots(1, 2, figsize=(10, 10))\n",
        "ax0.imshow(Lena_RGB_dec.astype(int), cmap=\"gray\")\n",
        "ax0.set_title('Reconstructed', fontsize=14)\n",
        "ax1.imshow(Lena_RGB, cmap=\"gray\")\n",
        "ax1.set_title('Original', fontsize=14)\n",
        "# Camera\n",
        "Camera_dec=L_Pyramid_Decode(Camera_lap,3/8)\n",
        "f3, (ax0,ax1)= plt.subplots(1, 2, figsize=(10, 10))\n",
        "ax0.imshow(Camera_dec, cmap=\"gray\")\n",
        "ax0.set_title('Reconstructed', fontsize=14)\n",
        "ax1.imshow(Camera, cmap=\"gray\")\n",
        "ax1.set_title('Original', fontsize=14)"
      ],
      "metadata": {
        "id": "qds0qq-dKh0Q"
      },
      "execution_count": null,
      "outputs": []
    },
    {
      "cell_type": "code",
      "source": [
        "# Ελέγχουμε αν η ανακατασκευή είναι χωρίς απώλειες\n",
        "print('Is reconstruction exact for Lena grayscale?', (Lena_gray==Lena_gray_dec).all())\n",
        "print('Is reconstruction exact for Lena RGB?',(Lena_RGB==Lena_RGB_dec).all())\n",
        "print('Is reconstruction exact for Camera?',(Camera==Camera_dec).all())"
      ],
      "metadata": {
        "id": "kriLV-9_LfK0"
      },
      "execution_count": null,
      "outputs": []
    },
    {
      "cell_type": "markdown",
      "source": [
        "Η ανακατασκευή της εικόνας από την Laplacian πυραμίδα γίνεται χωρίς απώλειες. Γεγονός που είναι αναμενόμενο από την θεωρητική ανάλυση. Προϋποθέτει όμως ότι κάνουμε χρήση της ίδιας τιμής για την παράμετρο a κατά την κωδικοποίηση και την αποκωδικοποίηση. Εν προκειμένη a = 3/8, ώστε να έχουμε ίδιο generating kernel. "
      ],
      "metadata": {
        "id": "Z6xrGHvCLhgb"
      }
    },
    {
      "cell_type": "markdown",
      "source": [
        "## Zήτημα β)"
      ],
      "metadata": {
        "id": "_yq-Un5_MCZI"
      }
    },
    {
      "cell_type": "markdown",
      "source": [
        "Αρχικά εμφανίζουμε την Laplacian πυραμίδα για μεταβλητό a στο διάστημα [0.2, ... ,0.7]. Επιλέξαμε να κάνουμε χρήση βήματος 0.1 και να παρουσιάσουμε πυραμίδες 5 επιπέδων (depth = 5). Εμφανίζουμε και την αρχική εικόνα για σύγκριση."
      ],
      "metadata": {
        "id": "Ddnz7CDYMEf5"
      }
    },
    {
      "cell_type": "code",
      "source": [
        "# Συνάρτηση για να δείξουμε την πυραμίδα για διαφορετικές τιμές της παραμέτρου a\n",
        "def showLaplacianForValuesOfa(I_original):                                          \n",
        "    for a in range (2,8):\n",
        "        a=a/10\n",
        "        pyramid=LPyramid(I_original,a,5)                                            # Υπολογίζουμε την Laplacian πυραμίδα για συγκεκριμένο a\n",
        "        if (len(I_original.shape)==2):                                              # Αν η εικόνα είναι Grayscale\n",
        "            f, ax = plt.subplots(1, len(pyramid)+1, figsize=(20, 20))               # Σχεδιασμός πυραμίδων\n",
        "            for i in range (0,len(pyramid)):\n",
        "                ax[i].imshow(pyramid[i], cmap=\"gray\") \n",
        "                ax[i].set_title('Level {} '.format(i)+'(a ='+str(a)+')', fontsize=14)\n",
        "            ax[i+1].imshow(I_original,cmap=\"gray\")\n",
        "            ax[i+1].set_title('Original image')\n",
        "        else:                                                                        # Αλλιώς αν η εικόνα είναι RGB\n",
        "            f, ax = plt.subplots(1, len(pyramid)+1, figsize=(20, 20))                # Σχεδιασμός πυραμίδων\n",
        "            for i in range (0,len(pyramid)):\n",
        "                ax[i].imshow(pyramid[i].astype(int)) \n",
        "                ax[i].set_title('Level {} '.format(i)+'(a ='+str(a)+')', fontsize=14)\n",
        "            ax[i+1].imshow(I_original)\n",
        "            ax[i+1].set_title('Original image')"
      ],
      "metadata": {
        "id": "EVpl_9trMyf8"
      },
      "execution_count": null,
      "outputs": []
    },
    {
      "cell_type": "markdown",
      "source": [
        "Για την εικόνα Lena grayscale:"
      ],
      "metadata": {
        "id": "ekQHZTOtM0Dq"
      }
    },
    {
      "cell_type": "code",
      "source": [
        "Lena_gray_decoded=showLaplacianForValuesOfa(Lena_gray)"
      ],
      "metadata": {
        "id": "B3blcjSHM2VT"
      },
      "execution_count": null,
      "outputs": []
    },
    {
      "cell_type": "markdown",
      "source": [
        "Για την εικόνα Lena RGB:"
      ],
      "metadata": {
        "id": "a5qjXhstM4gp"
      }
    },
    {
      "cell_type": "code",
      "source": [
        "Lena_RGB_decoded=showLaplacianForValuesOfa(Lena_RGB)"
      ],
      "metadata": {
        "id": "yO5YfvXgM6Od"
      },
      "execution_count": null,
      "outputs": []
    },
    {
      "cell_type": "markdown",
      "source": [
        "Για την εικόνα Camera:"
      ],
      "metadata": {
        "id": "Po9KZrrYM8TW"
      }
    },
    {
      "cell_type": "code",
      "source": [
        "Camera_decoded=showLaplacianForValuesOfa(Camera)"
      ],
      "metadata": {
        "id": "k6km59pWM9tk"
      },
      "execution_count": null,
      "outputs": []
    },
    {
      "cell_type": "markdown",
      "source": [
        "Η αύξηση της παραμέτρου a υποβαθμίζει οπτικά την ποιότητα των εικόνων της πυραμίδας. Οι μεταβάσεις των χρωμάτων είναι πιο απότομες όσο αυξάνεται η τιμή της a. Λογικό καθώς επηρέαζεται η μορφή του generating kernel. Οι μεγαλύτερες τιμές οδηγούν σε μεγαλύτερη συμμετοχή των κεντρικών pixel σε σχέση με τα ακριανά κατά τον υπολογισμό του σταθμισμένου μέσου όρου άνα pixel. Άρα οι μεταβάσεις γίνονται λιγότερο ομαλές. Ιδιαίτερα αντιληπτή η υποβάθμιση της ποιόητας γίνεται στο επίπεδο τρία (τέταρο επίπεδο) της κάθε πυραμίδας. Αν η παράμετρος a επηρεάζει το οπτικό αποτέλεσμα, όχι όμως την ανακατασκευή της εικόνας από την Laplacian πυραμίδα.\n",
        "\n",
        "Εν συνεχεία, για διάφορα a παρουσιάζουμε τα αθροίσματα της εικόνας που προκύπτουν κατά την αποκωδικοποίηση. Κατά την άθροιση κάθε φορά της Laplacian εικόνας με το μέχρι τώρα άθροισμα εικόνας, αφού διπλασιάσουμε τις διαστάσεις αυτού."
      ],
      "metadata": {
        "id": "zJIy2e-ZNDi7"
      }
    },
    {
      "cell_type": "code",
      "source": [
        "# Τροποποίηση της L_Pyramid_Decode, ώστε να τυπώνει ταυτόχρονα τα αθροίσματα εικόνας που υπολογίζει\n",
        "def L_Pyramid_Show_Decode_Levels(L,a):                                           # Παράμετροι εισόδου είναι η Laplacian πυραμίδα και η τιμή του a\n",
        "    f, ax = plt.subplots(1, len(L), figsize=(20, 20))  \n",
        "    kernel = GKernel(a)\n",
        "    sum_image=L[len(L)-1]\n",
        "    if (len(sum_image.shape)==2):                                                # Grayscale εικόνα\n",
        "      ax[0].imshow(L[len(L)-1].astype(int),cmap='gray')                          # Δείξε την lowpass εικόνα. Πάνω επίπεδο της πυραμίδας.\n",
        "    else:\n",
        "      ax[0].imshow(L[len(L)-1].astype(int))                                      # Χρώμα εικόνας                                  \n",
        "    ax[0].set_title('Level {} '.format(len(L)-1)+'(a ='+str(a)+')', fontsize=14)\n",
        "    tmp=0\n",
        "    for i in range(len(L)-2, -1, -1):\n",
        "        tmp=tmp+1\n",
        "        expanded_image = GEXPAND(sum_image,kernel)                               # EXPAND εικόνας για να λάβουμε τις ίδιες διαστάσεις όπως το προηγούμενο επίπεδο\n",
        "        sum_image=L[i]+expanded_image-128                                        # Άθροισμα του προηγούμενου επιπέδου στο συνολικό άθροισμα εικόνας που μέχρι τώρα έχει υπολογιστεί\n",
        "        if (len(sum_image.shape)==2):\n",
        "          ax[tmp].imshow(sum_image.astype(int),cmap='gray')                      # Δείξε την συνολική εικόνα\n",
        "        else:\n",
        "          ax[tmp].imshow(sum_image.astype(int)) \n",
        "        ax[tmp].set_title('Level {} '.format(i)+'(a ='+str(a)+')', fontsize=14)             \n",
        "    return sum_image    "
      ],
      "metadata": {
        "id": "kNT1jOpSOb2A"
      },
      "execution_count": null,
      "outputs": []
    },
    {
      "cell_type": "code",
      "source": [
        "# Συνάρτηση για να καλέσει την L_Pyramid_Show_Decode_Levels για διαφορετικές τιμές του a\n",
        "def showDecoded(I_original):                                                     # Παράμετρος εισόδου είναι η αρχική εικόνα\n",
        "    for a in range (2,8):\n",
        "        a=a/10\n",
        "        pyramid=LPyramid(I_original,a,5)\n",
        "        L_Pyramid_Show_Decode_Levels(pyramid,a)"
      ],
      "metadata": {
        "id": "z1bK8u4QOeFZ"
      },
      "execution_count": null,
      "outputs": []
    },
    {
      "cell_type": "markdown",
      "source": [
        "Για την εικόνα Lena grayscale:"
      ],
      "metadata": {
        "id": "WyK49MM1OfZF"
      }
    },
    {
      "cell_type": "code",
      "source": [
        "showDecoded(Lena_gray)"
      ],
      "metadata": {
        "id": "mJwXD7wnOgsI"
      },
      "execution_count": null,
      "outputs": []
    },
    {
      "cell_type": "markdown",
      "source": [
        "Για την εικόνα Lena RGB:"
      ],
      "metadata": {
        "id": "UIkqVP-cOjFf"
      }
    },
    {
      "cell_type": "code",
      "source": [
        "showDecoded(Lena_RGB)"
      ],
      "metadata": {
        "id": "8oxAkAnAOkSZ"
      },
      "execution_count": null,
      "outputs": []
    },
    {
      "cell_type": "markdown",
      "source": [
        "Για την εικόνα Camera:"
      ],
      "metadata": {
        "id": "gzphBgK5OmHx"
      }
    },
    {
      "cell_type": "code",
      "source": [
        "showDecoded(Camera)"
      ],
      "metadata": {
        "id": "DGb5-vtFOmQA"
      },
      "execution_count": null,
      "outputs": []
    },
    {
      "cell_type": "markdown",
      "source": [
        "Το Level 0 που εμφανίζουμε είναι σε κάθε περίπτωση το τελευταίο επίπεδο ανακατασκευής, δηλαδή η αρχική εικόνα. Παρατηρούμε επίσης:\n",
        "1. Ξεκινώντας από την κορυφή της Laplacian πυραμίδας, δηλαδή από το πιο βαθυπερατό κομμάτι της εικόνας προσθέτουμε σε κάθε στάδιο την εικόνα λεπτομέρειας του επόμενου επιπέδου. Από την θολή βαθυπερατή εικόνα προκύπτει σε κάθε στάδιο μια εικόνα με όλο και περισσότερη λεπτομέρεια, με τις coarse λεπτομέρειες να εμφανίζονται πρώτα και τα πιο λεπτά χαρακτηριστικά να γίνονται πιο ορατά στην συνέχεια. 'Ετσι, σε κάθε άθροισμα προκύπτει μια όλο και πιο crisp εικόνα, μέχρι να φτάσουμε στην ανακατασκευασμένη εικόνα η οποία ταυτίζεται με την αρχική.\n",
        "2. Σχετικά με την επίδραση της μεταβολής του a, βλέπουμε πως δεν επηρεάζει το οπτικό αποτέλεσμα των εικόνων αθροισμάτων αλλά ούτε και την ποιότητα της ανακατασκευασμένης εικόνας."
      ],
      "metadata": {
        "id": "hkb-BHz-Op93"
      }
    },
    {
      "cell_type": "markdown",
      "source": [
        "## Ζήτημα γ)"
      ],
      "metadata": {
        "id": "psQiH2ccQwPc"
      }
    },
    {
      "cell_type": "markdown",
      "source": [
        "Laplacian πυραμίδα για μεταβλητό depth στο διάστημα [2, ... ,7]. Kάνουμε χρήση των τιμών με βήμα 1 και a = 3/8. Εμφνίζουμε και την αρχική εικόνα για λόγους σύγκρισης."
      ],
      "metadata": {
        "id": "v82I4MwaQyMw"
      }
    },
    {
      "cell_type": "code",
      "source": [
        "# Συνάρτηση για να δείξουμε την πυραμίδα διαφορετικών τιμών βάθους\n",
        "def showLaplacianForDepths(I_original):    \n",
        "    for d in range (2,8):\n",
        "        pyramid=LPyramid(I_original,3/8,d)                                          # Υπολογισμός πυραμίδας για συγκεκριμένο βάθος\n",
        "        if (len(I_original.shape)==2):                                              # Αν η εικόνα είναι Grayscale\n",
        "            f, ax = plt.subplots(1, len(pyramid)+1, figsize=(20, 20))  \n",
        "            for i in range (0,len(pyramid)):                                        # Σχεδιασμός των πυραμίδων\n",
        "                ax[i].imshow(pyramid[i], cmap=\"gray\")                               # Βάση της πυραμίδας\n",
        "                ax[i].set_title('Level {} '.format(i)+'(d ='+str(d)+')', fontsize=14)\n",
        "            ax[i+1].imshow(I_original,cmap=\"gray\")\n",
        "            ax[i+1].set_title('Original image')\n",
        "        else:                                                                       # Αν η εικόνα είναι RGB\n",
        "            f, ax = plt.subplots(1, len(pyramid)+1, figsize=(20, 20))  \n",
        "            for i in range (0,len(pyramid)):                                        # Σχεδιασμός των πυραμίδων\n",
        "                ax[i].imshow(pyramid[i].astype(int))                                # Βάση της πυραμίδας\n",
        "                ax[i].set_title('Level {} '.format(i)+'(d ='+str(d)+')', fontsize=14)\n",
        "            ax[i+1].imshow(I_original)\n",
        "            ax[i+1].set_title('Original image')"
      ],
      "metadata": {
        "id": "N74eVXj9RCLO"
      },
      "execution_count": null,
      "outputs": []
    },
    {
      "cell_type": "markdown",
      "source": [
        "Για την εικόνα Lena grayscale:"
      ],
      "metadata": {
        "id": "1HfjrBUGRDlw"
      }
    },
    {
      "cell_type": "code",
      "source": [
        "Lena_gray_decoded=showLaplacianForDepths(Lena_gray)"
      ],
      "metadata": {
        "id": "VCeWbVLpREck"
      },
      "execution_count": null,
      "outputs": []
    },
    {
      "cell_type": "markdown",
      "source": [
        "Για την εικόνα Lena RGB:"
      ],
      "metadata": {
        "id": "hj2N-TpaRGH7"
      }
    },
    {
      "cell_type": "code",
      "source": [
        "Lena_RGB_decoded=showLaplacianForDepths(Lena_RGB)"
      ],
      "metadata": {
        "id": "5-ay4AkKRF8z"
      },
      "execution_count": null,
      "outputs": []
    },
    {
      "cell_type": "markdown",
      "source": [
        "Για την εικόνα Camera:"
      ],
      "metadata": {
        "id": "9gCMNcIoRLCa"
      }
    },
    {
      "cell_type": "code",
      "source": [
        "Camera_decoded=showLaplacianForDepths(Camera)"
      ],
      "metadata": {
        "id": "Ub1CUUSFRLVZ"
      },
      "execution_count": null,
      "outputs": []
    },
    {
      "cell_type": "markdown",
      "source": [
        "Με αύξηση του αριθμού επιπέδων έχουμε το χειρότερο οπτικό αποτέλεσμα στο τελικό επίπεδο. Για μικρότερο αριθμό επιπέδων της πυραμίδας η κορυφή κωδικοποιεί περισσότερη πληροφορία με μεγαλύτερη μέγιστη συχνότητα από την κορυφή της πυραμίδας περισσότερων επιπέδων. Δηλαδή, εκτός μεγαλύτερων διαστάσεων, έχουμε και περισσότερη λεπτομέρεια. Όσο αυξάνουμε τον αριθμό επιπέδων έχουμε χωρισμό της εικόνας σε πολλά ζωνοπερατά τμήματα-επίπεδα λεπτομέρειας. \n",
        "\n",
        "Εν συνεχεία, παραθέτουμε τα αθροίσματα εικόνας που προκύπτουν κατά την αποκωδικοποίηση. Δηλαδή, κατά την άθροιση κάθε φορά της Laplacian εικόνας με το μέχρι τώρα άθροισμα της εικόνας, αφού διπλασιάσουμε τις διαστάσεις του."
      ],
      "metadata": {
        "id": "S_vzd6LbRT4O"
      }
    },
    {
      "cell_type": "code",
      "source": [
        "# Τροποποίηση της L_Pyramid_Decode, ώστε να τυπώνει ταυτόχρονα τα αθροίσματα εικόνας που υπολογίζει\n",
        "def L_Pyramid_Show_Decode_Levels_forDepths(L,a,depth):                           # Παράμετροι εισόδου είναι η Laplacian pyramid, η τιμή του a και το βάθος της πυραμίδας\n",
        "    f, ax = plt.subplots(1, len(L), figsize=(20, 20))  \n",
        "    kernel = GKernel(a)\n",
        "    sum_image=L[len(L)-1]\n",
        "    if(len( sum_image.shape)==2):\n",
        "      ax[0].imshow(L[len(L)-1].astype(int),cmap='gray')                          # Δείξε την lowpass εικόνα. Κορυφή της πυραμίδας.\n",
        "    else:\n",
        "      ax[0].imshow(L[len(L)-1].astype(int))                                      # Κορυφή της πυραμίδας\n",
        "    ax[0].set_title('Level {} '.format(len(L)-1)+'(d ='+str(depth)+')', fontsize=14)\n",
        "    tmp=0\n",
        "    for i in range(len(L)-2, -1, -1):\n",
        "        tmp=tmp+1\n",
        "        expanded_image = GEXPAND(sum_image,kernel)                               # EXPAND εικόνας για να λάβουμε τις ίδιες διαστάσεις όπως το προηγούμενο επίπεδο\n",
        "        sum_image=L[i]+expanded_image-128                                        # sum previous level to the sum image calculated so far, substract 128, added earlier\n",
        "        if(len(sum_image.shape)==2):                                             # Grayscale εικόνα\n",
        "          ax[tmp].imshow(sum_image.astype(int),cmap='gray')                      # Δείξε την συνολική εικόνα\n",
        "        else:                                                                    # Χρώμα εικόνας\n",
        "          ax[tmp].imshow(sum_image.astype(int),cmap='gray')\n",
        "        ax[tmp].set_title('Level {} '.format(i)+'(d ='+str(depth)+')', fontsize=14)             \n",
        "    return sum_image  "
      ],
      "metadata": {
        "id": "iXgRqFWcSZ7O"
      },
      "execution_count": null,
      "outputs": []
    },
    {
      "cell_type": "code",
      "source": [
        "def showDecodedForDepths(I_original):\n",
        "    for d in range (2,8):\n",
        "        pyramid=LPyramid(I_original,3/8,d)\n",
        "        L_Pyramid_Show_Decode_Levels_forDepths(pyramid,3/8,d)"
      ],
      "metadata": {
        "id": "UmKReUKCSb3A"
      },
      "execution_count": null,
      "outputs": []
    },
    {
      "cell_type": "markdown",
      "source": [
        "Για την εικόνα Lena grayscale:"
      ],
      "metadata": {
        "id": "ZXi8Z0erSdlg"
      }
    },
    {
      "cell_type": "code",
      "source": [
        "showDecodedForDepths(Lena_gray)"
      ],
      "metadata": {
        "id": "tn8rqULYSdvH"
      },
      "execution_count": null,
      "outputs": []
    },
    {
      "cell_type": "markdown",
      "source": [
        "Για την εικόνα Lena RGB:"
      ],
      "metadata": {
        "id": "JmI1QCLGSjpn"
      }
    },
    {
      "cell_type": "code",
      "source": [
        "showDecodedForDepths(Lena_RGB)"
      ],
      "metadata": {
        "id": "DLS3VKLASkuB"
      },
      "execution_count": null,
      "outputs": []
    },
    {
      "cell_type": "markdown",
      "source": [
        "Για την εικόνα Camera:"
      ],
      "metadata": {
        "id": "M0Rw_3XsSnHd"
      }
    },
    {
      "cell_type": "code",
      "source": [
        "showDecodedForDepths(Camera)"
      ],
      "metadata": {
        "id": "0WFOQFYYSnQs"
      },
      "execution_count": null,
      "outputs": []
    },
    {
      "cell_type": "markdown",
      "source": [
        "Ο αριθμός επιπέδων που επιλέγουμε για την πυραμίδα μας δεν επηρεάζει το τελικό αποτέλεσμα της αποκωδικοποιημένεης εικόνας. Η εικόνα αυτή αποτελεί πιστή ανακατασκευή της αρχικής. Αλλάζει το φάσμα της κορυφής της Laplacian πυραμίδας, καθώς όσο αυξάνονται τα επίεπδα τόσο αυξάνονται και τα βαθυπερατά φιλτραρίσματα που έχουν προηγηθεί.\n",
        "\n",
        "Όσο περισσότερα επίπεδα χρησιμοποιούμε, τόσες περισσότερες ενδιάμεσες εικόνες-αθροίσματα. Για περισσότερα επίπεδα η κορυφή της πυραμίδας είναι θολή και η λεπτομέρεια προστίθεται σταδιακά κατά την ανακατασκευή."
      ],
      "metadata": {
        "id": "Lp-BnzuYSw4k"
      }
    },
    {
      "cell_type": "markdown",
      "source": [
        "## Ζήτημα δ)"
      ],
      "metadata": {
        "id": "AfrXMMBFTgcf"
      }
    },
    {
      "cell_type": "code",
      "source": [
        "import scipy.stats as st"
      ],
      "metadata": {
        "id": "W5xfmjqrTilh"
      },
      "execution_count": null,
      "outputs": []
    },
    {
      "cell_type": "code",
      "source": [
        "# Συνάρτηση που υπολογίζει ιστογράμματα για συγκεκριμένη πυραμίδα και βάθος\n",
        "def computeSumHist(LaplacianPyramid,depth):  \n",
        "    sum_hist = np.zeros([256,1], np.float64)\n",
        "    for n in range(depth-1):\n",
        "        hist = cv2.calcHist(np.float32([LaplacianPyramid[n]]), [0], None, [256], [0, 256])       # Υπολογισμός ιστογράμματος για κάθε επίπεδο και πρόσθεση του σε έναν πίνακα\n",
        "        sum_hist += hist\n",
        "    return sum_hist\n",
        "\n",
        "# Συνάρτηση που υπολογίζει πυραμίδα και ιστόγραμμα για συγκεκριμένη τιμή της παραμέτρου a και βάθος\n",
        "def calcHist (Image,a,depth):  \n",
        "    LaplacianPyramid=LPyramid(Image,a,depth)                                     # Υπολογισμός πυραμίδας\n",
        "    sum_hist = computeSumHist(LaplacianPyramid,depth)                            # Υπολογισμός ιστρογράμματος\n",
        "    return sum_hist\n",
        "\n",
        "# Συνάρτηση που δείνχει ιστογράμμα με τιμές της παραμέτρου a σε εύρος [0.2, 0.7]\n",
        "def ShowHistogramsFora (Image,depth):  \n",
        "    final_sum_hist=[]                                                            # Πίνακας που κρατάει τα ιστογράμματα για κάθε τιμή της παραμέτρου a\n",
        "    entropy=[]\n",
        "    variance=[]\n",
        "    for i in range (2,8):\n",
        "        i=i/10\n",
        "        helper=calcHist(Image,i,depth)                                           # Υπολογισμός ιστρογράμματος\n",
        "        a=np.max(helper)                                                         # Υπολογισμός μέγιστης τιμής ιστογράμματος\n",
        "        final_sum_hist.append(helper)           \n",
        "        entropy.append(st.entropy(helper/a)[0])                                  # Υπολογισμός εντροπίας κανονικοποιημένου ιστογράμματος\n",
        "        variance.append(np.var(helper/a))                                        # Υπολογισμός διακύμανσης κανονικοποιημένου ιστογράμματος\n",
        "    f, ax = plt.subplots(2, 3, figsize=(20, 10) ) \n",
        "    c=0.1\n",
        "    for i in range (1,7):\n",
        "        c += 0.1\n",
        "        plt.subplot(2,3,i)\n",
        "        plt.plot(final_sum_hist[i-1])                                            # Διαγραμματοποίηση κάθε ιστογράμματος\n",
        "        plt.title(\"Entropy = \"+str(entropy[i-1])+\" (a=\"+str(round(c,1))+\")\", fontsize=14) \n",
        "    return entropy,variance\n",
        "\n",
        "# Συνάρτηση που δείνχει ιστογράμματα με μεταβλητό βάθος μεταξύ [2,7]        \n",
        "def ShowHistogramsFordepth (Image,a):  \n",
        "    final_sum_hist=[]                                                            # Πίνακας που κρατάει τα ιστρογράμματα κάθε βάθους\n",
        "    entropy=[]\n",
        "    for i in range (2,8):\n",
        "        helper=calcHist(Image,a,i)                                               # Υπολογισμός ιστρογράμματος\n",
        "        b=np.max(helper)                                                         # Υπολογισμός μέγιστης τιμής ιστογράμματος\n",
        "        final_sum_hist.append(helper)\n",
        "        entropy.append(st.entropy(helper/b)[0])                                  # Υπολογισμός εντροπίας κανονικοποιημένου ιστογράμματος\n",
        "    f, ax = plt.subplots(2, 3, figsize=(20, 10) ) \n",
        "    c=1\n",
        "    for i in range (1,7):\n",
        "        c += 1\n",
        "        plt.subplot(2,3,i)\n",
        "        plt.plot(final_sum_hist[i-1])                                            # Διαγραμματοποίηση κάθε ιστογράμματος\n",
        "        plt.title(\"Entropy = \"+str(entropy[i-1])+\" (depth=\"+str(c)+\")\", fontsize=14) \n",
        "    return entropy"
      ],
      "metadata": {
        "id": "WFcYwd9lTiw_"
      },
      "execution_count": null,
      "outputs": []
    },
    {
      "cell_type": "markdown",
      "source": [
        "Για μεταβλητό a παρουσιάζουμε τα κανονικοποιημένα ιστογράμματα (βάθος πυραμίδας επιλέχθηκε 5). Για την ασπρόμαυρη εικόνα Lena: "
      ],
      "metadata": {
        "id": "WURZKbf1TmRG"
      }
    },
    {
      "cell_type": "code",
      "source": [
        "[entropy_lena_grey,variance_lena_grey]=ShowHistogramsFora(Lena_gray,5) "
      ],
      "metadata": {
        "id": "ITyE939yT1bp"
      },
      "execution_count": null,
      "outputs": []
    },
    {
      "cell_type": "markdown",
      "source": [
        "Για την έγχρωμη εικόνα Lena:"
      ],
      "metadata": {
        "id": "eYK-dW4FVQPH"
      }
    },
    {
      "cell_type": "code",
      "source": [
        "[entropy_lena_rgb,variance_lena_rgb]=ShowHistogramsFora(Lena_RGB,5) "
      ],
      "metadata": {
        "id": "l_NMp00CVRO4"
      },
      "execution_count": null,
      "outputs": []
    },
    {
      "cell_type": "markdown",
      "source": [
        "Για την εικόνα Camera:"
      ],
      "metadata": {
        "id": "5ZMLsCe1VT61"
      }
    },
    {
      "cell_type": "code",
      "source": [
        "[entropy_camera,variance_camera]=ShowHistogramsFora(Camera,5) "
      ],
      "metadata": {
        "id": "a5zRTwFWVU_I"
      },
      "execution_count": null,
      "outputs": []
    },
    {
      "cell_type": "markdown",
      "source": [
        "Η εντροπία μειώνεται συνεχώς με την αύξηση του a. Η παρακάτω συνάρτηση είναι χρήσιμη για να δούμε που παρουσιάζουν ελάχιστα η εντροπία και η διακύμναση."
      ],
      "metadata": {
        "id": "Nka_Nm3yVW7j"
      }
    },
    {
      "cell_type": "code",
      "source": [
        "# Συνάρτηση που υπολογίζει την εντροπία και την διακύμανση και τις διαγραμματοποιεί για συγκεκριμένο βάθος\n",
        "def computeEntropyVariance (Image,depth,title):\n",
        "    final_sum_hist=[]\n",
        "    probs = [0.2,0.25, 0.3, 0.35, 0.4, 0.45, 0.5, 0.55, 0.6, 0.65, 0.7, 0.75, 0.8, 0.85, 0.9, 0.95, 1]  # Πίνακας που αποθηκεύει τις τιμές του x άξονα\n",
        "    entropy=[]\n",
        "    variance=[]\n",
        "    tmp=0\n",
        "    for i in range (0,17):\n",
        "        tmp=probs[i]\n",
        "        helper=calcHist(Image,tmp,depth)                                         # Υπολογισμός ιστρογράμματος για κάθε τιμή βάθους\n",
        "        a=np.max(helper)                                                         # Υπολογισμός μέγιστης τιμής του ιστογράμματος\n",
        "        final_sum_hist.append(helper/a)\n",
        "        entropy.append(st.entropy(helper/a)[0])                                  # Υπολογισμός εντροπίας κανονικοποιημένου ιστογράμματος \n",
        "        variance.append(np.var(helper/a))                                        # Υπολογισμός διακύμανσης κανονικοποιημένου ιστογράμματος \n",
        "    f, ax = plt.subplots(1, 2, figsize=(15, 4) ) \n",
        "    plt.subplot(1,2,1)\n",
        "    plt.plot(probs, entropy, marker='.')                                         # Διαγραμμοποίησης εντροπίας\n",
        "    plt.title('Entropy of '+str(title)+' image')\n",
        "    plt.xlabel('a')\n",
        "    plt.ylabel('Entropy')\n",
        "    plt.subplot(1,2,2)\n",
        "    plt.plot(probs, variance, marker='.')                                        # Διαγραμμοποίηση διακύμανσης\n",
        "    plt.title('Variance of '+str(title)+' image')\n",
        "    plt.xlabel('a')\n",
        "    plt.ylabel('Variance')\n",
        "    plt.show()\n",
        "    return entropy,variance"
      ],
      "metadata": {
        "id": "oyVcvfxaViB9"
      },
      "execution_count": null,
      "outputs": []
    },
    {
      "cell_type": "markdown",
      "source": [
        "Για την ασπρόμαυρη εικόνα Lena:"
      ],
      "metadata": {
        "id": "YDXauZH8Vjtj"
      }
    },
    {
      "cell_type": "code",
      "source": [
        "[entropy_lena_grey,variance_lena_grey]=computeEntropyVariance(Lena_gray,5,\"Lena_gray\")"
      ],
      "metadata": {
        "id": "VVhr-RqHVkt6"
      },
      "execution_count": null,
      "outputs": []
    },
    {
      "cell_type": "markdown",
      "source": [
        "Για την έγχρωμη εικόνα Lena:"
      ],
      "metadata": {
        "id": "tevWqTYAVlzC"
      }
    },
    {
      "cell_type": "code",
      "source": [
        "[entropy_lena_rgb,variance_lena_rgb]=computeEntropyVariance(Lena_RGB,5,\"Lena_rgb\")"
      ],
      "metadata": {
        "id": "RnVa5WQ9Vl73"
      },
      "execution_count": null,
      "outputs": []
    },
    {
      "cell_type": "markdown",
      "source": [
        "Για την εικόνα Camera:"
      ],
      "metadata": {
        "id": "Fdt0eVTpVpch"
      }
    },
    {
      "cell_type": "code",
      "source": [
        "[entropy_camera,variance_camera]=computeEntropyVariance(Camera,5,\"Camera\")"
      ],
      "metadata": {
        "id": "M_JSf8hZVpmM"
      },
      "execution_count": null,
      "outputs": []
    },
    {
      "cell_type": "markdown",
      "source": [
        "Η εντροπία παρουσιάζει τοπικό ελάχιστο το οποίο μεταβάλλεται ανάλογα την εικόνα παραμένοντας σε χαμηλό επίπεδο. Αναμενόμενο δεδομένης της αποσυσχέτισης των pixel των εικόνων της Laplacian πυραμίδας. Σε κάθε περίπτωση το τοπικό ελάιχστο εμφναίζεται στο διάστημα [0.6, 0.7] για την παράμετρο a, γεγονός που συμφωνεί με την πηγή της εκφώνησης. Παρατηρούμε ότι το variance δεν ακολουθεί σταθερή κατανομή. Παρουσιάζει ελάχιστο για a = 0.5. Άρα συμπεραίνουμε ότι για τιμές στο [0.5, 0.7] μπορούμε να πετύχουμε αρκετά χαμηλή τιμή τόσο στην εντροπία όσο και στην διακύμανση. Έτσι, μας επιτρέπεται να έχουμε ελάχιστο αριθμό bits/pixel που χρειάζονται για την κωδικοποίηση της εκάστοτε εικόνας."
      ],
      "metadata": {
        "id": "MZCP4vn-Vsko"
      }
    },
    {
      "cell_type": "markdown",
      "source": [
        "Με μεταβλητό depth έχουμε τα παρακάτω.Για την ασπρόμαυρη εικόνα Lena:"
      ],
      "metadata": {
        "id": "ezSBiYAeW-6b"
      }
    },
    {
      "cell_type": "code",
      "source": [
        "entropy_lena_gray=ShowHistogramsFordepth(Lena_gray,3/8)"
      ],
      "metadata": {
        "id": "GWfwILPpXE9X"
      },
      "execution_count": null,
      "outputs": []
    },
    {
      "cell_type": "markdown",
      "source": [
        "Για την έγχρωμη εικόνα Lena:"
      ],
      "metadata": {
        "id": "ueTBaWm5XGz6"
      }
    },
    {
      "cell_type": "code",
      "source": [
        "entropy_lena_rgb=ShowHistogramsFordepth(Lena_RGB,3/8)"
      ],
      "metadata": {
        "id": "B4aWrypGXG7G"
      },
      "execution_count": null,
      "outputs": []
    },
    {
      "cell_type": "markdown",
      "source": [
        "Για την εικόνα Camera:"
      ],
      "metadata": {
        "id": "JLypUSQyXLD6"
      }
    },
    {
      "cell_type": "code",
      "source": [
        "entropy_camera=ShowHistogramsFordepth(Camera,3/8)"
      ],
      "metadata": {
        "id": "zxvb-2ITXLSE"
      },
      "execution_count": null,
      "outputs": []
    },
    {
      "cell_type": "code",
      "source": [
        "# Συνάρτη που υπολογίζε την εντροπία για συγκεκριμένη τιμή της παραμέτρου a\n",
        "def computeEntropyVarianceDepth (Image,a,title):\n",
        "    entropy=[]\n",
        "    probs=np.arange(2,8,1)                                                                    # Πίνακας που αποθηκεύει τις τιμές του x άξονα\n",
        "    for i in range (2,8):\n",
        "        helper=calcHist(Image,a,i)                                                            # Υπολογισμός ιστρογράμματος για συγκεκριμένο βάθος\n",
        "        b=np.max(helper)                                                                      # Υπολογισμός μέγιστης τιμής του ιστογράμματος \n",
        "        entropy.append(st.entropy(helper/b)[0])                                               # Υπολογισμός εντροπίας για το κανονικοποιημένο ιστόγραμμα\n",
        "    plt.plot(probs, entropy, marker='.')                                                      # Διαγραμμοποίηση εντροπίας\n",
        "    plt.title('Entropy of '+str(title)+' image')\n",
        "    plt.xlabel('depth')\n",
        "    plt.ylabel('Entropy')\n",
        "    return entropy\n"
      ],
      "metadata": {
        "id": "qJfqTNIUXN2W"
      },
      "execution_count": null,
      "outputs": []
    },
    {
      "cell_type": "code",
      "source": [
        "entropy_lena_grey=computeEntropyVarianceDepth(Lena_gray,3/8,\"Lena_grayscale\")"
      ],
      "metadata": {
        "id": "2V8C4ZNtXPcR"
      },
      "execution_count": null,
      "outputs": []
    },
    {
      "cell_type": "code",
      "source": [
        "entropy_lena_rgb=computeEntropyVarianceDepth(Lena_RGB,3/8,\"Lena_rgb\")"
      ],
      "metadata": {
        "id": "d5oLqlUVXRh8"
      },
      "execution_count": null,
      "outputs": []
    },
    {
      "cell_type": "code",
      "source": [
        "entropy_camera=computeEntropyVarianceDepth(Camera,3/8,\"Camera\")"
      ],
      "metadata": {
        "id": "WI-Y0hHCXTqx"
      },
      "execution_count": null,
      "outputs": []
    },
    {
      "cell_type": "markdown",
      "source": [
        "Η παράμετρος depth δεν επηρεάζει σε μεγάλο βαθμό την εντροπία καθώς βλέπουμε ότι υπάρχει μια μικρή μόνο αύξηση (της τάξεως δεκαδικών ψηφίων). Γεγονός που μας οδηγεί στο συμπέρασμα ότι η παράμετρος depth δεν αποτελεί βασικό κριτήριο ελαχιστοποίησης της εντροπίας."
      ],
      "metadata": {
        "id": "yD--4QeFXYDM"
      }
    },
    {
      "cell_type": "markdown",
      "source": [
        "## Ζητημα ε)"
      ],
      "metadata": {
        "id": "GIxwjopYXW-n"
      }
    },
    {
      "cell_type": "markdown",
      "source": [
        "Θα βρούμε το ελάχιστο της συνάρτησης $Cost=c*AvgEntropy(a)+(1-c)*AvgVarience(a)$, όπου: \\\n",
        "$c\\in [0,1]:$ σταθερά σταθμησης που αντιπρωσοπεύει της υποκειμενική σημαντικότητα της μέσης εντροπίας έναντι της μέσης διακύμανσης της Λαπλασιανής πυραμίδας.\\\n",
        "$a :$ παράμετρος ‘a’\\\n",
        "$AvgEntropy :$ μέσης εντροπία της Λαπλασιανής πυραμίδας κανονικοποιημένη ως προς την απόσταση $|\\max_{\\forall a}AvgEntropy(a)-\\min_{\\forall a}AvgEntropy(a)|$ \\\n",
        "$AvgVarience :$ μέσης διακύμανση της Λαπλασιανής πυραμίδας κανονικοποιημένη ως προς την απόσταση $|\\max_{\\forall a}AvgVarience(a)-\\min_{\\forall a}AvgVarience(a)|$ \\\n",
        "\n"
      ],
      "metadata": {
        "id": "_-U0izt9r8Hx"
      }
    },
    {
      "cell_type": "code",
      "source": [
        "# Σταθερά c\n",
        "const_c = 0.85\n",
        "# Σταθερή βάση για την εντροπία\n",
        "const_entropy_base = 2\n",
        "\n",
        "# Παρόμοια συνάρτηση της sumHist\n",
        "def listHist(Image,a,depth):\n",
        "    LaplacianPyramid = LPyramid(Image,a,depth)\n",
        "    list_hist = []\n",
        "    for n in range(depth):\n",
        "        hist = cv2.calcHist(np.float32([LaplacianPyramid[n]]), [0], None, [256], [0, 256])\n",
        "        list_hist.append(hist)\n",
        "    return list_hist\n",
        "\n",
        "# Συνάρτηση για να υπολογίσουμε την εντροπία και την διακύμανση από ιστρογράμματα\n",
        "def histList2EntrAndVar(list_hist):\n",
        "  entropy_list = list(map(lambda x: st.entropy(x)[0], list_hist))\n",
        "  variance_list = list(map(lambda x: np.var(x/np.max(x)), list_hist))\n",
        "  return entropy_list, variance_list\n",
        "\n",
        "# Σταθμισμένος μέσος όρος της δοθείσας λίστα που αναπαριστά τα επίπεδα της Laplacian πυραμίδας, κάθε επίπεδο σταθμίζεται από το πλήθος των pixels (μέγεθος)\n",
        "def avgW(LPlayers_list):\n",
        "  weighted_sum = 0\n",
        "  l_len = len(LPlayers_list)\n",
        "  for i in range (l_len):\n",
        "    weighted_sum += LPlayers_list[l_len-1-i] * 4**i    # Αφού κάθε επίπεδο έχει 4 φορές το μέγεθος του προηγούμενου, τα βάρη είναι 1, 4, 16... ξεκινώντας από τη μικρότερη εικόνα \n",
        "  sum_of_weights = (4*4**(l_len-1)-1)/3\n",
        "  return weighted_sum / sum_of_weights\n",
        "\n",
        "# Δοθείσα εικόνα, παράμετρος a, depth return AvgEntropy and AvgVariance\n",
        "def avgEnVar(Image,a,depth):\n",
        "  hists = listHist(Image,a,depth)\n",
        "  entropy_l, variance_l = histList2EntrAndVar(hists)\n",
        "  return avgW(entropy_l), avgW(variance_l)\n",
        "\n",
        "def range_with_floats(start, stop, step):\n",
        "    while stop > start:\n",
        "        yield start\n",
        "        start += step\n",
        "\n",
        "def cost(Image, a_start, a_step, a_end, depth, title):\n",
        "  a_list = []\n",
        "  var_list = []\n",
        "  en_list = []\n",
        "  cost_list = []\n",
        "  for a in range_with_floats(a_start, a_end, a_step):\n",
        "    en, var = avgEnVar(Image,a,depth)\n",
        "    en_list.append(en)\n",
        "    var_list.append(var)\n",
        "    a_list.append(a)\n",
        "\n",
        "  en_norm = np.max(en_list) - np.min(en_list)\n",
        "  var_norm = np.max(var_list) - np.min(var_list)\n",
        "\n",
        "  for i in range(len(a_list)):\n",
        "    cost_list.append(const_c*en_list[i]/en_norm + (1-const_c)*var_list[i]/var_norm)\n",
        "\n",
        "  # Σχεδιασμός/Διαγράμματα\n",
        "  f, ax = plt.subplots(1, 3, figsize=(12, 4))\n",
        "  plt.subplot(1,3,1)\n",
        "  plt.plot(a_list, en_list, marker='.')\n",
        "  plt.title('Entropy of '+str(title)+' image')\n",
        "  plt.xlabel('a')\n",
        "  plt.ylabel('Entropy')\n",
        "  plt.subplot(1,3,2)\n",
        "  plt.plot(a_list, var_list, marker='.')\n",
        "  plt.title('Variance of '+str(title)+' image')\n",
        "  plt.xlabel('a')\n",
        "  plt.ylabel('Variance')\n",
        "  plt.subplot(1,3,3)\n",
        "  plt.plot(a_list, cost_list, marker='.')\n",
        "  plt.title('Cost of '+str(title)+' image')\n",
        "  plt.xlabel('a')\n",
        "  plt.ylabel('Cost Function')\n",
        "  return cost_list, a_list\n",
        "\n",
        "\n",
        "def presentation_e(Image, a_start, a_step, a_end, depth, title):\n",
        "  costs, a_list = cost(Image, a_start, a_step, a_end, depth, title)\n",
        "  min_pos = np.argmin(costs)\n",
        "  print(\"Minimum Cost for \" + title + \" is:\\n\" + str(costs[min_pos]) + \" at a=\" + str(np.round(a_list[min_pos], decimals=3)))"
      ],
      "metadata": {
        "id": "cNxYS0mCrgZd"
      },
      "execution_count": null,
      "outputs": []
    },
    {
      "cell_type": "code",
      "source": [
        "presentation_e(Lena_gray, 0.3, 0.03, 0.7, 9, \"Lena Gray\")"
      ],
      "metadata": {
        "id": "thNqaQZzKz50"
      },
      "execution_count": null,
      "outputs": []
    },
    {
      "cell_type": "code",
      "source": [
        "presentation_e(Lena_RGB, 0.3, 0.03, 0.7, 9, \"Lena RGB\")"
      ],
      "metadata": {
        "id": "0K0FFDOCN9ml"
      },
      "execution_count": null,
      "outputs": []
    },
    {
      "cell_type": "code",
      "source": [
        "presentation_e(Camera, 0.3, 0.03, 0.7, 9, \"Camera Gray\")"
      ],
      "metadata": {
        "id": "nYBT_jsoN-DC"
      },
      "execution_count": null,
      "outputs": []
    },
    {
      "cell_type": "markdown",
      "source": [
        "## Ζήτημα στ)\n",
        "Σε αυτό το ερώτημα υλοποιούμε τρεις υποσυναρτήσεις κβαντισμού για τα αντίστοιχα πειράματα. Η πηγή μας αναφέρει πως σε μεγαλύτερα επίπεδα θα πρέπει να έχουμε μικρότερο bin size. Ο λόγος που συμβαίνει κάτι τέτοιο είναι πως η ανθρώπινη ευαισθησία σε σφάλματα στην πληροφορία που κωδικοποιτείται είναι μεγάλη. Για την επιλογή του bin size διαλέγουμε τη τιμή που μόλις αρχίζει να φαίνεται η υποβάθμιση της ποιότητας σε σχέση με την μη κβαντισμένη εικόνα για το επίπεδο αυτό. Με απόσταση παρατηρητή πέντη φορές το πλάτος της εικόνας. Κάνουμε τρία πειράματα για την εξετάσουμε την προτεινόμενη μέθοδο. \n",
        "1. Bin size τέτοιο ώστε να είναι μόλις εμφανής η υποβάθμιση σε κάθε επίπεδο.\n",
        "2. Bin size τέτοιο ώστε να είναι πιο έντονη η υποβάθμιση σε κάθε επίπεδο.\n",
        "3. Bin size τέτοιο ώστε τα επίπεδα κβάντισης να είναι περισσότερα και η οπτική υποβάθμιση να μην είναι εμφανής."
      ],
      "metadata": {
        "id": "TjVh20MZXyTX"
      }
    },
    {
      "cell_type": "code",
      "source": [
        "# Συνάρτηση για να υπολογιστεί η κβαντισμένη πυραμίδα του πρώτου πειράματος\n",
        "def firstExp(pyramid):\n",
        "    quantized_lap=[]\n",
        "    bin_sizes=len(pyramid) \n",
        "    bins=[14,23,40,45,48]                                                                # Bin sizes για το πρώτο πείρμαμα\n",
        "    for i in range (0, bin_sizes):    \n",
        "        image_quantized=L_Quantization(pyramid[i],bins[i])                               # Υπολογισμός κβαντισμένης πυραμίδας\n",
        "        quantized_lap.append(image_quantized)  \n",
        "    return quantized_lap"
      ],
      "metadata": {
        "id": "-e2CZfxfo2Bf"
      },
      "execution_count": null,
      "outputs": []
    },
    {
      "cell_type": "code",
      "source": [
        "# Συνάρτηση για να υπολογιστεί η κβαντισμένη πυραμίδα του δεύτερου πειράματος\n",
        "def secondExp(pyramid):\n",
        "    quantized_lap=[]\n",
        "    bin_sizes=len(pyramid)  \n",
        "    bins=[8,14,22,26,27]                                                                 # Bin sizes για το δεύτερο πείραμα\n",
        "    for i in range (0, bin_sizes):    \n",
        "        image_quantized=L_Quantization(pyramid[i],bins[i])                               # Υπολογισμός κβαντισμένης πυραμίδας\n",
        "        quantized_lap.append(image_quantized)  \n",
        "    return quantized_lap"
      ],
      "metadata": {
        "id": "Ayqw_9dxo3Tt"
      },
      "execution_count": null,
      "outputs": []
    },
    {
      "cell_type": "code",
      "source": [
        "# Συνάρτηση για να υπολογιστεί η κβαντισμένη πυραμίδα του τρίτου πειράματος\n",
        "def thirdExp(pyramid):\n",
        "    quantized_lap=[]\n",
        "    bin_sizes=len(pyramid) \n",
        "    bins=[25,40,58,64,65]                                                                # Bin sizes για το τρίτο πείραμα\n",
        "    for i in range (0, bin_sizes):    \n",
        "        image_quantized=L_Quantization(pyramid[i],bins[i])                               # Υπολογισμός κβαντισμένης πυραμίδας\n",
        "        quantized_lap.append(image_quantized)  \n",
        "    return quantized_lap"
      ],
      "metadata": {
        "id": "SnArDhzFppvC"
      },
      "execution_count": null,
      "outputs": []
    },
    {
      "cell_type": "code",
      "source": [
        "# Αρχική πυραμίδα\n",
        "Lena_gray_lap=LPyramid(Lena_gray,0.57,5)\n",
        "showPyramid(Lena_gray_lap, 'gray')\n",
        "# Πρώτο πείραμα\n",
        "Lena_gray_lap_quant_first=firstExp(Lena_gray_lap)\n",
        "showPyramid(Lena_gray_lap_quant_first, 'gray')\n",
        "# Δεύτερο πείραμα\n",
        "Lena_gray_lap_quant_second=secondExp(Lena_gray_lap)\n",
        "showPyramid(Lena_gray_lap_quant_second, 'gray')\n",
        "# Τρίτο πείραμα\n",
        "Lena_gray_lap_quant_third=thirdExp(Lena_gray_lap)\n",
        "showPyramid(Lena_gray_lap_quant_third, 'gray')"
      ],
      "metadata": {
        "id": "4FytP__wpvtm"
      },
      "execution_count": null,
      "outputs": []
    },
    {
      "cell_type": "markdown",
      "source": [
        "Εν συνεχεία παραθέτουμε την αρχική εικόνα μαζί την ανακατασκευασμένη που προέκυψε μετά την αποκωδικοποίηση των παραπάνω, για λόγους οπτικής σύγκρισης."
      ],
      "metadata": {
        "id": "R5wAPXzdp1DF"
      }
    },
    {
      "cell_type": "code",
      "source": [
        "# Συνάρτηση για να παραθέσουμε την ανακατασκευασμένη εικόνα δίπλα στην αρχική\n",
        "def showExperimentsDecoded(original,quant_f,quant_s,quant_t,a,type):\n",
        "    quantized=[quant_f,quant_s,quant_t]                                          # Λαμβάνει ως είσοδο την κβαντισμένη εικόνα των τριών πειραμάτων\n",
        "    exp=[\"first\",\"second\",\"third\"]\n",
        "    Decoded=[]\n",
        "    for i in range (3):\n",
        "        Decoded.append(L_Pyramid_Decode(quantized[i],a))                         # Αποκωδικοποίηση κάθε κβαντισμένης εικόνας\n",
        "        f1, (ax0,ax1)= plt.subplots(1, 2, figsize=(10, 10))\n",
        "        if (type==\"gray\"):                                                       # Αν η εικόνα είναι Grayscale\n",
        "            ax0.imshow(Decoded[i], cmap=\"gray\")                                  # Σχεδιασμός ανακατασκευασμένης εικόνας\n",
        "            ax0.set_title('Reconstructed from '+str(exp[i])+\" experiment\", fontsize=10)\n",
        "            ax1.imshow(original, cmap=\"gray\")                                    # Σχεδιασμός αρχικής εικόνας\n",
        "            ax1.set_title('Original', fontsize=10)\n",
        "        else:                                                                    # Αν η εικόνα είναι RGB\n",
        "            ax0.imshow(Decoded[i].astype(int))                                   # Σχεδιασμός ανακατασκευασμένης εικόνας\n",
        "            ax0.set_title('Reconstructed', fontsize=14)\n",
        "            ax1.imshow(original)                                                 # Σχεδιασμός αρχικής εικόνας\n",
        "            ax1.set_title('Original', fontsize=14)\n",
        "    return Decoded"
      ],
      "metadata": {
        "id": "tZPwFvAsp3TM"
      },
      "execution_count": null,
      "outputs": []
    },
    {
      "cell_type": "code",
      "source": [
        "Lena_gray_decoded=showExperimentsDecoded(Lena_gray,Lena_gray_lap_quant_first,Lena_gray_lap_quant_second,Lena_gray_lap_quant_third,0.57,'gray')"
      ],
      "metadata": {
        "id": "2XZbzSQep9co"
      },
      "execution_count": null,
      "outputs": []
    },
    {
      "cell_type": "code",
      "source": [
        "Lena_rgb_lap=LPyramid(Lena_RGB,0.57,5)\n",
        "showPyramid(Lena_rgb_lap, 'RGB')\n",
        "\n",
        "Lena_rgb_lap_quant_first=firstExp(Lena_rgb_lap)\n",
        "showPyramid(Lena_rgb_lap_quant_first, 'RGB')\n",
        "\n",
        "Lena_rgb_lap_quant_second=secondExp(Lena_rgb_lap)\n",
        "showPyramid(Lena_rgb_lap_quant_second, 'RGB')\n",
        "\n",
        "Lena_rgb_lap_quant_third=thirdExp(Lena_rgb_lap)\n",
        "showPyramid(Lena_rgb_lap_quant_third, 'RGB')\n"
      ],
      "metadata": {
        "id": "iU30VWG3qCuT"
      },
      "execution_count": null,
      "outputs": []
    },
    {
      "cell_type": "code",
      "source": [
        "Lena_rgb_decoded=showExperimentsDecoded(Lena_RGB,Lena_rgb_lap_quant_first,Lena_rgb_lap_quant_second,Lena_rgb_lap_quant_third,0.57,'rgb')"
      ],
      "metadata": {
        "id": "PpyCp-A6qNfJ"
      },
      "execution_count": null,
      "outputs": []
    },
    {
      "cell_type": "code",
      "source": [
        "Camera_gray_lap=LPyramid(Camera,0.57,5)\n",
        "showPyramid(Camera_gray_lap, 'gray')\n",
        "\n",
        "Camera_gray_lap_quant_first=firstExp(Camera_gray_lap)\n",
        "showPyramid(Camera_gray_lap_quant_first, 'gray')\n",
        "\n",
        "Camera_gray_lap_quant_second=secondExp(Camera_gray_lap)\n",
        "showPyramid(Camera_gray_lap_quant_second, 'gray')\n",
        "\n",
        "Camera_gray_lap_quant_third=thirdExp(Camera_gray_lap)\n",
        "showPyramid(Camera_gray_lap_quant_third, 'gray')"
      ],
      "metadata": {
        "id": "is2KrgquqQlQ"
      },
      "execution_count": null,
      "outputs": []
    },
    {
      "cell_type": "code",
      "source": [
        "Camera_decoded=showExperimentsDecoded(Camera,Camera_gray_lap_quant_first,Camera_gray_lap_quant_second,Camera_gray_lap_quant_third,0.57,'gray')"
      ],
      "metadata": {
        "id": "p22eveJgqTfD"
      },
      "execution_count": null,
      "outputs": []
    },
    {
      "cell_type": "markdown",
      "source": [
        "Παρατηρούμε τα εξής:\n",
        "1. Στο πρώτο πείραμα, που το bin size είναι τέτοιο σε κάθε επίπεδο ώστε να είναι μόλις διακριτή η οπτική διαφοροποίηση, έχουμε ανακατασκευασμένες εικόνες με αρκετά καλή ποιότητα σε σχέση με την αρχική. Οι ακμές είναι εμφανείς όπως και τα υπόλοιπα χαρακτηριστικά της εικόνας. Στην ανακατασκευή παρατηρείται μια σχετική υποβάθμιση στο χρώμα.\n",
        "2. Στο δεύτερο πείραμα, με bin size αρκετά μεγαλύτερο, το οπτικό αποτέλεσμα της ανακατασκευής είναι χαμηλότερο. Οι ακμές και γενικά η εικόνα εμφανίζεται πιο θολή. Αναμενόμενο λόγω της πιο έντονης κβάντισης.\n",
        "3. Στο τρίτο πείραμα, με bin size μικρότερο σε σχέση με τα προηγούμενα πειράματα, το αποτέλεσμα είναι ιδιαίτερα βελτιωμένο. Η ανακατασκευασμένη εικόνα είναι συγκρίσιμη με την αρχική.\n",
        "\n",
        "Σε κάθε περίπτωση, η ανακατασκευασμένη εικόνα είναι σχετικά καλής ποιότητας. Έτσι, διαπιστώνεται το όφελος της Laplacian πυραμίδας. Η μέθοδος αυτή μας επιτρέπει πιο έντονη κβάντιση και μείωση των bits/pixel με ταυτόχρονη διατήρηση της ποιότητας της εικόνας.\n"
      ],
      "metadata": {
        "id": "mYDQbo8eqgNt"
      }
    }
  ]
}