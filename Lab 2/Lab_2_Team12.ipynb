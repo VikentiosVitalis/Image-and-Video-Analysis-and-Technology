{
  "cells": [
    {
      "cell_type": "markdown",
      "metadata": {
        "id": "LpnEVMCYYlnD"
      },
      "source": [
        "#Εθνικό Μετσόβιο Πολυτχνείο\n",
        "Εργαστήριο Τεχνολογίας και Ανάλυσης Εικόνων και Βίντεο\n",
        "\n",
        "2η Ομαδική Άσκηση\n",
        "\n",
        "Βικέντιος Βιτάλης el18803 & Οδυσσέας Μοσχίδης el15110\n",
        "\n",
        "Ομάδα 12"
      ]
    },
    {
      "cell_type": "markdown",
      "metadata": {
        "id": "Ou0Y9ESBxrIe"
      },
      "source": [
        "#1. Θεωρητικό μέρος"
      ]
    },
    {
      "cell_type": "markdown",
      "source": [
        ""
      ],
      "metadata": {
        "id": "c93_B7eEt5Vb"
      }
    },
    {
      "cell_type": "markdown",
      "metadata": {
        "id": "dBmFlZ2I45_V"
      },
      "source": [
        "###Ερώτημα β1)"
      ]
    },
    {
      "cell_type": "markdown",
      "metadata": {
        "id": "pHZalJ-MyUxx"
      },
      "source": [
        "  Η $ReLU$ χρησιμοποιείται σαν ένας εναλλακτικός τρόπος μοντελοποίησης της εξόδου ενός νευρώνα, παρά της κλασσικής συνάρτησης $f(x) = tanh(x)$ ή $f(x) = (1+e^{-x})^{-1}$. Ο λόγος είναι ότι οι συναρτήσεις αυτές αντί της $ReLU$ απαιτούν περισσότερο χρόνο εκπαίδευσης αφού οι μη κορεσμένες αυτές γραμμικότητες είναι πολύ πιο αργές από την κορεσμένη μη γραμμικότητα της συνάρτησης που χρησιμοποιεί η $ReLU$ $(f(x) = max(0,x))$. Έτσι, με τη χρήση της $ReLU$, η εκπαίδευση των βαθιών συνελικτικών νευρωνικών δικτύων γίνεται αρκετές φορές γρηγορότερα από ότι αν χρησιμοποιείτο κάποια ισοδύναμη $tanh$ συνάρτηση. Χωρίς τη χρήση της $ReLU$ δε θα ήμασταν σε θέση να πειραματιστούμε με τόσο μεγάλα νευρωνικά δίκτυα εαν έπρεπε να χρησιμοποιήσουμε παραδοσιακά κορεσμένα νευρωνικά μοντέλα. Χρησιμοποιούμε $ReLU$ διότι μπορούμε να εκπαιδεύσουμε γρηγορότερα κάποιο νευρωνικό δίκτυο, κάτι που έχει μεγάλο αντίκτυπο στην απόδοση μεγάλων μοντέλων που θα εκπαιδευτούν σε μεγάλα datasets.\n",
        "\n",
        "\n",
        "\n"
      ]
    },
    {
      "cell_type": "markdown",
      "metadata": {
        "id": "QbIv3il-5KJi"
      },
      "source": [
        "###Ερώτημα β2)\n"
      ]
    },
    {
      "cell_type": "markdown",
      "metadata": {
        "id": "HhYXtfbB42bB"
      },
      "source": [
        "<table>\n",
        "  <tr>\n",
        "    <th>Δίκτυο</th>\n",
        "    <th>Επίπεδα</th>\n",
        "    <th>Μέγεθος εικόνας εισόδου</th>\n",
        "    <th>Μέγεθος φίλτρων</th>\n",
        "    <th>Συνάρτηση ενεργοποίησης</th>\n",
        "    <th>Πλήθος παραμέτρων</th>\n",
        "    <th>Pooling</th>\n",
        "    <th>Dropout</th>\n",
        "  </tr>\n",
        "  <tr>\n",
        "    <td>LeNet</td>\n",
        "    <td>2xConv 2xPool 3xFC </td>\n",
        "    <td>28x28x1</td>\n",
        "    <td>Conv 5x5x6 (pad=2) <br> AvgPool 2x2 (str=2) <br> Conv 5x5x16 (pad=2)<br> AvgPool 2x2 (str=2) <br> FC (120) <br> FC (84) <br> FC (10) </td>\n",
        "    <td>Sigmoid</td>\n",
        "    <td>61,706</td>\n",
        "    <td>✓</td>\n",
        "    <td>✕</td>\n",
        "  </tr>\n",
        "  <tr>\n",
        "    <td>AlexNet</td>\n",
        "    <td>5xConv 3xPool 3xFC </td>\n",
        "    <td>224x224x3</td>\n",
        "    <td>Conv 11x11x96 (str=4) <br> MaxPool 3x3 (str=2) <br> Conv 5x5x256 (pad=2)<br> MaxPool 3x3 (str=2) <br> Conv 3x3x384 (pad=1)<br> Conv 3x3x384 (pad=1)<br> Conv 3x3x256 (pad=1)<br> MaxPool 3x3 (str=2) <br> FC (4096) <br> FC (4096) <br> FC (1000) </td>\n",
        "    <td>Relu</td>\n",
        "    <td>50,844,008</td>\n",
        "    <td>✓</td>\n",
        "    <td>✓</td>\n",
        "  </tr>\n",
        "  <tr>\n",
        "    <td>VGG</td>\n",
        "    <td>8xConv 5xPool 3xFC </td>\n",
        "    <td>224x224x1</td>\n",
        "    <td>Conv 3x3x64 (pad=1) <br> MaxPool 2x2 (str=2) <br> Conv 3x3x128 (pad=1) <br> MaxPool 2x2 (str=2) <br> Conv 3x3x256 (pad=1) <br> Conv 3x3x256 (pad=1) <br> MaxPool 2x2 (str=2) <br> Conv 3x3x512 (pad=1) <br> Conv 3x3x512 (pad=1) <br> MaxPool 2x2 (str=2) <br> Conv 3x3x512 (pad=1) <br> Conv 3x3x512 (pad=1) <br> MaxPool 2x2 (str=2) <br> FC (4096) <br> FC (4096) <br> FC (10) </td>\n",
        "    <td>Relu</td>\n",
        "    <td>128,884,052</td>\n",
        "    <td>✓</td>\n",
        "    <td>✓</td>\n",
        "  </tr>\n",
        "</table>\n",
        "\n",
        "Αρχικά φαίνεται ότι τα νέα δίκτυα (AlexNet και VGG) χρησιμοποιούν τη relu ως συνάρτηση ενεργοποίησης η οποία προσέφερε σημαντική αύξηση της ακρίβειας ταξινόμησης. Χρησιμοποιούν επίσης max pooling σε αντίθεση με το average pooling που χρησιμοποιούσε το LeNet. Παράλληλα φαίνεται ότι η ακρίβεια ταξινόμησης αυξάνεται με την αύξηση των επιπέδων το οποίο αυξάνει και το πλήθος των παραμέτρων. Είναι λογικό να χρησιμοποιούνται πλέον δίκτυα με μεγαλύτερο αριθμό παραμέτρων αφού η υπολογιστική ισχύς έχει αυξηθεί κατά πολύ σε σχέση με το 1989 που υλοποιήθηκε πρώτη φορά το LeNet\n"
      ]
    },
    {
      "cell_type": "markdown",
      "metadata": {
        "id": "ZBkiUOC4JHe2"
      },
      "source": [
        "# 2. Υλοποίηση Αλγορίθμου"
      ]
    },
    {
      "cell_type": "markdown",
      "metadata": {
        "id": "DfEMjsB4Yurm"
      },
      "source": [
        "## Εισαγωγή και επισκόπηση του συνόλου δεδομένων"
      ]
    },
    {
      "cell_type": "code",
      "execution_count": null,
      "metadata": {
        "id": "STXQMBuN3nZ6"
      },
      "outputs": [],
      "source": [
        "from __future__ import absolute_import, division, print_function, unicode_literals # legacy compatibility\n",
        "\n",
        "import numpy as np\n",
        "import pandas as pd\n",
        "import matplotlib.pyplot as plt"
      ]
    },
    {
      "cell_type": "code",
      "execution_count": null,
      "metadata": {
        "id": "2WSEGPI9Q7tW"
      },
      "outputs": [],
      "source": [
        "# helper functions\n",
        "\n",
        "# select from from_list elements with index in index_list\n",
        "def select_from_list(from_list, index_list):\n",
        "  filtered_list= [from_list[i] for i in index_list]\n",
        "  return(filtered_list)\n",
        "\n",
        "# append in filtered_list the index of each element of unfilterd_list if it exists in in target_list\n",
        "def get_ds_index(unfiliterd_list, target_list):\n",
        "  index = 0\n",
        "  filtered_list=[]\n",
        "  for i_ in unfiliterd_list:\n",
        "    if i_[0] in target_list:\n",
        "      filtered_list.append(index)\n",
        "    index += 1\n",
        "  return(filtered_list)\n"
      ]
    },
    {
      "cell_type": "code",
      "execution_count": null,
      "metadata": {
        "id": "OCW71UaGzz0Q",
        "colab": {
          "base_uri": "https://localhost:8080/"
        },
        "outputId": "46b5625e-b139-408b-fd96-d65a72d51cdb"
      },
      "outputs": [
        {
          "output_type": "stream",
          "name": "stdout",
          "text": [
            "Downloading data from https://www.cs.toronto.edu/~kriz/cifar-100-python.tar.gz\n",
            "169009152/169001437 [==============================] - 4s 0us/step\n",
            "169017344/169001437 [==============================] - 4s 0us/step\n"
          ]
        }
      ],
      "source": [
        "# load the entire dataset\n",
        "import tensorflow as tf\n",
        "from tensorflow.keras import datasets, layers, models\n",
        "\n",
        "(x_train_all, y_train_all), (x_test_all, y_test_all) = tf.keras.datasets.cifar100.load_data(label_mode='fine')"
      ]
    },
    {
      "cell_type": "code",
      "execution_count": null,
      "metadata": {
        "colab": {
          "base_uri": "https://localhost:8080/"
        },
        "id": "kGKYHffEE1do",
        "outputId": "399bb2c8-5b0f-4f3a-c3c2-ab01a056e3e4"
      },
      "outputs": [
        {
          "output_type": "stream",
          "name": "stdout",
          "text": [
            "(50000, 32, 32, 3)\n"
          ]
        }
      ],
      "source": [
        "print(x_train_all.shape)"
      ]
    },
    {
      "cell_type": "markdown",
      "metadata": {
        "id": "9PO9wIwYUf0R"
      },
      "source": [
        "Η κάθε ομάδα θα δουλέψει με διαφορετικό υποσύνολο του dataset.\n",
        "Στο επόμενο κελί, αντικαταστήστε την τιμή της μεταβλητής `team_seed` με τον αριθμό που αντιστοιχεί στην ομάδας σας. "
      ]
    },
    {
      "cell_type": "code",
      "execution_count": null,
      "metadata": {
        "id": "NN0kEze7uZ_G"
      },
      "outputs": [],
      "source": [
        "# REPLACE WITH YOUR TEAM NUMBER\n",
        "team_seed = 12"
      ]
    },
    {
      "cell_type": "code",
      "execution_count": null,
      "metadata": {
        "id": "RhbZJW6PxUDJ"
      },
      "outputs": [],
      "source": [
        "# select from CIFAR100 20 classes\n",
        "cifar100_classes_url = \"https://pastebin.com/raw/nzE1n98V\""
      ]
    },
    {
      "cell_type": "markdown",
      "metadata": {
        "id": "yO9f6wb0Wi0H"
      },
      "source": [
        "Δημιουργούμε το μοναδικό dataset της ομάδας μας:"
      ]
    },
    {
      "cell_type": "code",
      "execution_count": null,
      "metadata": {
        "id": "PgIN2h_KuCp_"
      },
      "outputs": [],
      "source": [
        "team_classes = pd.read_csv(cifar100_classes_url, sep=',', header=None)\n",
        "CIFAR100_LABELS_LIST = pd.read_csv('https://pastebin.com/raw/qgDaNggt', sep=',', header=None).astype(str).values.tolist()[0]\n",
        "\n",
        "our_index = team_classes.iloc[team_seed,:].values.tolist()\n",
        "our_classes = select_from_list(CIFAR100_LABELS_LIST, our_index)\n",
        "train_index = get_ds_index(y_train_all, our_index)\n",
        "test_index = get_ds_index(y_test_all, our_index)\n",
        "\n",
        "x_train_ds = np.asarray(select_from_list(x_train_all, train_index))\n",
        "y_train_ds = np.asarray(select_from_list(y_train_all, train_index))\n",
        "x_test_ds = np.asarray(select_from_list(x_test_all, test_index))\n",
        "y_test_ds = np.asarray(select_from_list(y_test_all, test_index))"
      ]
    },
    {
      "cell_type": "code",
      "execution_count": null,
      "metadata": {
        "colab": {
          "base_uri": "https://localhost:8080/"
        },
        "id": "_B4-tvVOQq3j",
        "outputId": "5ae5e494-0c79-4fa5-e915-4c278d47c04d"
      },
      "outputs": [
        {
          "output_type": "stream",
          "name": "stdout",
          "text": [
            "[' aquarium_fish', ' beaver', ' beetle', ' bicycle', ' butterfly', ' can', ' cloud', ' cockroach', ' flatfish', ' lizard', ' mountain', ' orange', ' orchid', ' otter', ' pear', ' poppy', ' squirrel', ' streetcar', ' wardrobe', ' woman']\n"
          ]
        }
      ],
      "source": [
        "# print our classes\n",
        "print(our_classes)"
      ]
    },
    {
      "cell_type": "code",
      "execution_count": null,
      "metadata": {
        "colab": {
          "base_uri": "https://localhost:8080/"
        },
        "id": "bk5wy0u7GGMj",
        "outputId": "7ba66fc5-be60-4582-c5b0-0fc5da694a38"
      },
      "outputs": [
        {
          "output_type": "stream",
          "name": "stdout",
          "text": [
            "(32, 32, 3)\n"
          ]
        }
      ],
      "source": [
        "print(x_train_ds[1].shape)"
      ]
    },
    {
      "cell_type": "code",
      "execution_count": null,
      "metadata": {
        "colab": {
          "base_uri": "https://localhost:8080/",
          "height": 442
        },
        "id": "QpGXgTs_5ZCk",
        "outputId": "ecfd31cf-d646-421a-e412-bc5c3ba314c6"
      },
      "outputs": [
        {
          "output_type": "stream",
          "name": "stdout",
          "text": [
            "Train: X=(8500, 32, 32, 3), y=(8500, 1)\n",
            "Validation: X=(1500, 32, 32, 3), y=(1500, 1)\n",
            "Test: X=(2000, 32, 32, 3), y=(2000, 1)\n"
          ]
        },
        {
          "output_type": "display_data",
          "data": {
            "text/plain": [
              "<Figure size 432x432 with 9 Axes>"
            ],
            "image/png": "[encoded data removed]"
          },
          "metadata": {
            "needs_background": "light"
          }
        }
      ],
      "source": [
        "# get (train) dataset dimensions\n",
        "data_size, img_rows, img_cols, img_channels = x_train_ds.shape\n",
        "\n",
        "# set validation set percentage (wrt the training set size)\n",
        "validation_percentage = 0.15\n",
        "val_size = round(validation_percentage * data_size)\n",
        "\n",
        "# Reserve val_size samples for validation and normalize all values\n",
        "x_val = x_train_ds[-val_size:]/255\n",
        "y_val = y_train_ds[-val_size:]\n",
        "x_train = x_train_ds[:-val_size]/255\n",
        "y_train = y_train_ds[:-val_size]\n",
        "x_test = x_test_ds/255\n",
        "y_test = y_test_ds\n",
        "\n",
        "# summarize loaded dataset\n",
        "print('Train: X=%s, y=%s' % (x_train.shape, y_train.shape))\n",
        "print('Validation: X=%s, y=%s' % (x_val.shape, y_val.shape))\n",
        "print('Test: X=%s, y=%s' % (x_test.shape, y_test.shape))\n",
        "\n",
        "# get class label from class index\n",
        "def class_label_from_index(fine_category):\n",
        "  return(CIFAR100_LABELS_LIST[fine_category.item(0)])\n",
        "\n",
        "# plot first few images\n",
        "plt.figure(figsize=(6, 6))\n",
        "for i in range(9):\n",
        "\t# define subplot\n",
        "  plt.subplot(330 + 1 + i).set_title(class_label_from_index(y_train[i]))\n",
        "\t# plot raw pixel data\n",
        "  plt.imshow(x_train[i], cmap=plt.get_cmap('gray'))\n",
        "  #show the figure\n",
        "plt.show()"
      ]
    },
    {
      "cell_type": "markdown",
      "metadata": {
        "id": "iAgowxR8oJH7"
      },
      "source": [
        "# Ερώτημα 1\n",
        "---\n",
        "#### Βήμα 1: Σχεδίαση, μεταγλώττιση και εκπαίδευση των μοντέλων\n",
        "\n",
        " 1. Σχεδίαστε, μεταγλωττίστε και εκπαιδεύστε τα μοντέλα  **LeNet, AlexNet και  VGG**, καθώς και ένα δικό σας μοντέλο (ονομάστε το π.χ. **MyCNN**) χρησιμοποιώντας διαφορετικούς συνδυασμούς (τουλάχιστον 2 ανά μοντέλο) για [optimizer](https://keras.io/api/optimizers/), [loss](https://keras.io/api/losses/), batch size και epoch.  Για [metrics](https://keras.io/api/metrics/) να χρησιμοποιήσετε την ορθότητα (όπως στο Lab8.1).\n",
        "---\n",
        "  \n",
        "#### Βήμα 2: Αξιολόγηση των μοντέλων\n",
        "\n",
        "1. Για κάθε ένα από τα μοντέλα που εκπαιδεύσατε, απεικονίστε σε κοινό διάγραμμα την ορθότητα εκπαίδευσης και την ορθότητα επικύρωσης στο σύνολο των εποχών, για κάθε διαφορετικό συνδυασμό του βήματος 1 και επιλέξτε αυτό με την καλύτερη ορθότητα από κάθε μοντέλο (ένα από κάθε αρχιτεκτονική, συνολικά 4).\n",
        "2. Για κάθε ένα από τα μοντέλα με την καλύτερη ορθότητα (συνολικά **4**), απεικονίστε σε κοινό διάγραμμα την ορθότητα εκπαίδευσης και την ορθότητα επικύρωσης στο σύνολο των εποχών.\n",
        "3. Αξιολογήστε, αναλυτικά, τα αποτελέσματά σας ως προς τα εξής:\n",
        " - Επίδραση του πλήθους των δεδομένων/κλάσεων στην απόδοση του μοντέλου\n",
        " - Επίδραση του αλγόριθμου βελτιστοποίησης (optimizer)\n",
        " - Επίδραση του μεγέθους δέσμης (batch size)\n",
        " \n",
        "---\n",
        "\n",
        "#### Βήμα 3: Αξιολόγηση ορθότητας\n",
        "Αξιολογήστε την ορθότητα για το test set σας.\n"
      ]
    },
    {
      "cell_type": "markdown",
      "metadata": {
        "id": "HpqlcpqmKVqV"
      },
      "source": [
        "###Βήμα 1:: Σχεδίαση των μοντέλων\n"
      ]
    },
    {
      "cell_type": "markdown",
      "metadata": {
        "id": "VwqfeoeEMbFo"
      },
      "source": [
        "###LeNet"
      ]
    },
    {
      "cell_type": "code",
      "execution_count": null,
      "metadata": {
        "id": "H4Y2JNNcLSRI"
      },
      "outputs": [],
      "source": [
        "# Ανάγουμε τις τιμές των labels στο διάστημα 0-19 αντί του 0-99 ώστε να έχουμε μικρότερο αριθμό εξόδων του τελευταίου dense layer.\n",
        "import numpy as np\n",
        "\n",
        "values = np.unique(y_val)\n",
        "values = np.sort(values)\n",
        "\n",
        "y_val_to20 = np.zeros(len(y_val), dtype=int)\n",
        "for i in range (y_val.shape[0]):\n",
        "  y_val_to20[i] =  np.where(values == y_val[i])[0][0]\n",
        "\n",
        "y_train_to20 = np.zeros(len(y_train), dtype=int)\n",
        "for i in range (y_train.shape[0]):\n",
        "  y_train_to20[i] =  np.where(values == y_train[i])[0][0]\n",
        "\n",
        "y_test_to20 = np.zeros(len(y_test), dtype=int)\n",
        "for i in range (y_test.shape[0]):\n",
        "  y_test_to20[i] =  np.where(values == y_test[i])[0][0]"
      ]
    },
    {
      "cell_type": "code",
      "execution_count": null,
      "metadata": {
        "id": "qEvm4QPMLnAi"
      },
      "outputs": [],
      "source": [
        "import tensorflow as tf     #Σχεδιάζουμε τα μοντέλα\n",
        "from tensorflow.keras import datasets, layers, models\n",
        "import matplotlib.pyplot as plt"
      ]
    },
    {
      "cell_type": "code",
      "execution_count": null,
      "metadata": {
        "id": "yexwW1B-LsSM"
      },
      "outputs": [],
      "source": [
        "# LeNet: Custom LeNet model for 32x32x3 images and 20 categories\n",
        "def LeNet():\n",
        "  model = models.Sequential()\n",
        "  model.add(layers.Conv2D(filters=6, kernel_size=5, activation='sigmoid', padding='same', input_shape=(32, 32, 3)))  \n",
        "  model.add(layers.AvgPool2D(pool_size=2, strides=2))\n",
        "  model.add(layers.Conv2D(filters=16, kernel_size=5, activation='sigmoid')) \n",
        "  model.add(layers.AvgPool2D(pool_size=2, strides=2))\n",
        "  model.add(layers.Flatten())\n",
        "  model.add(layers.Dense(120, activation='sigmoid'))\n",
        "  model.add(layers.Dense(84, activation='sigmoid'))\n",
        "  model.add(layers.Dense(20))\n",
        "  return model"
      ]
    },
    {
      "cell_type": "code",
      "execution_count": null,
      "metadata": {
        "colab": {
          "base_uri": "https://localhost:8080/"
        },
        "id": "8kHOcp6SLxvq",
        "outputId": "62e412fe-9ae1-41ac-d14f-e9e07f1668d2"
      },
      "outputs": [
        {
          "output_type": "stream",
          "name": "stdout",
          "text": [
            "Conv2D output shape: \t (1, 32, 32, 6)\n",
            "AveragePooling2D output shape: \t (1, 16, 16, 6)\n",
            "Conv2D output shape: \t (1, 12, 12, 16)\n",
            "AveragePooling2D output shape: \t (1, 6, 6, 16)\n",
            "Flatten output shape: \t (1, 576)\n",
            "Dense output shape: \t (1, 120)\n",
            "Dense output shape: \t (1, 84)\n",
            "Dense output shape: \t (1, 20)\n",
            "Model: \"sequential_1\"\n",
            "_________________________________________________________________\n",
            " Layer (type)                Output Shape              Param #   \n",
            "=================================================================\n",
            " conv2d_2 (Conv2D)           (None, 32, 32, 6)         456       \n",
            "                                                                 \n",
            " average_pooling2d_2 (Averag  (None, 16, 16, 6)        0         \n",
            " ePooling2D)                                                     \n",
            "                                                                 \n",
            " conv2d_3 (Conv2D)           (None, 12, 12, 16)        2416      \n",
            "                                                                 \n",
            " average_pooling2d_3 (Averag  (None, 6, 6, 16)         0         \n",
            " ePooling2D)                                                     \n",
            "                                                                 \n",
            " flatten_1 (Flatten)         (None, 576)               0         \n",
            "                                                                 \n",
            " dense_3 (Dense)             (None, 120)               69240     \n",
            "                                                                 \n",
            " dense_4 (Dense)             (None, 84)                10164     \n",
            "                                                                 \n",
            " dense_5 (Dense)             (None, 20)                1700      \n",
            "                                                                 \n",
            "=================================================================\n",
            "Total params: 83,976\n",
            "Trainable params: 83,976\n",
            "Non-trainable params: 0\n",
            "_________________________________________________________________\n"
          ]
        }
      ],
      "source": [
        "X = tf.random.uniform((1, 32, 32, 3))\n",
        "for layer in LeNet().layers:\n",
        "    X = layer(X)\n",
        "    print(layer.__class__.__name__, 'output shape: \\t', X.shape)\n",
        "LeNet_model_1 = LeNet()\n",
        "LeNet_model_2 = LeNet()\n",
        "LeNet_model_1.summary()"
      ]
    },
    {
      "cell_type": "markdown",
      "metadata": {
        "id": "80NIZIe2QF_B"
      },
      "source": [
        "### AlexNet\n"
      ]
    },
    {
      "cell_type": "code",
      "execution_count": null,
      "metadata": {
        "id": "7peA-WTxQLVi"
      },
      "outputs": [],
      "source": [
        "# Some customizations were made so that images with 32x32x3 dimensions are used as input. For this\n",
        "# reason a smaller kernel was used for the first convolutional layer so that its output dimensions are not \n",
        "# dramatically decreased\n",
        "def AlexNet():\n",
        "  model = models.Sequential()\n",
        "  model.add(layers.Conv2D(filters=96, kernel_size=3, strides=2, activation='relu', input_shape=(32, 32, 3)))  \n",
        "  model.add(layers.MaxPool2D(pool_size=3, strides=2))\n",
        "  model.add(layers.Conv2D(filters=256, kernel_size=5, padding='same', activation='relu'))\n",
        "  model.add(layers.MaxPool2D(pool_size=3, strides=2))\n",
        "  model.add(layers.Conv2D(filters=384, kernel_size=3, padding='same', activation='relu'))\n",
        "  model.add(layers.Conv2D(filters=384, kernel_size=3, padding='same', activation='relu'))\n",
        "  model.add(layers.Conv2D(filters=256, kernel_size=3, padding='same', activation='relu'))\n",
        "  model.add(layers.MaxPool2D(pool_size=3, strides=2))\n",
        "  model.add(layers.Flatten())\n",
        "  model.add(layers.Dense(4096, activation='relu'))\n",
        "  model.add(layers.Dropout(0.5))\n",
        "  model.add(layers.Dense(4096, activation='relu'))\n",
        "  model.add(layers.Dropout(0.5))\n",
        "  model.add(layers.Dense(20))\n",
        "  return model"
      ]
    },
    {
      "cell_type": "code",
      "execution_count": null,
      "metadata": {
        "colab": {
          "base_uri": "https://localhost:8080/"
        },
        "id": "WQIi6ZSvQ8VT",
        "outputId": "dee4d642-26a7-4fdb-f45b-8cb6b0a728b3"
      },
      "outputs": [
        {
          "output_type": "stream",
          "name": "stdout",
          "text": [
            "Conv2D output shape: \t (1, 15, 15, 96)\n",
            "MaxPooling2D output shape: \t (1, 7, 7, 96)\n",
            "Conv2D output shape: \t (1, 7, 7, 256)\n",
            "MaxPooling2D output shape: \t (1, 3, 3, 256)\n",
            "Conv2D output shape: \t (1, 3, 3, 384)\n",
            "Conv2D output shape: \t (1, 3, 3, 384)\n",
            "Conv2D output shape: \t (1, 3, 3, 256)\n",
            "MaxPooling2D output shape: \t (1, 1, 1, 256)\n",
            "Flatten output shape: \t (1, 256)\n",
            "Dense output shape: \t (1, 4096)\n",
            "Dropout output shape: \t (1, 4096)\n",
            "Dense output shape: \t (1, 4096)\n",
            "Dropout output shape: \t (1, 4096)\n",
            "Dense output shape: \t (1, 20)\n",
            "Model: \"sequential_4\"\n",
            "_________________________________________________________________\n",
            " Layer (type)                Output Shape              Param #   \n",
            "=================================================================\n",
            " conv2d_11 (Conv2D)          (None, 15, 15, 96)        2688      \n",
            "                                                                 \n",
            " max_pooling2d_3 (MaxPooling  (None, 7, 7, 96)         0         \n",
            " 2D)                                                             \n",
            "                                                                 \n",
            " conv2d_12 (Conv2D)          (None, 7, 7, 256)         614656    \n",
            "                                                                 \n",
            " max_pooling2d_4 (MaxPooling  (None, 3, 3, 256)        0         \n",
            " 2D)                                                             \n",
            "                                                                 \n",
            " conv2d_13 (Conv2D)          (None, 3, 3, 384)         885120    \n",
            "                                                                 \n",
            " conv2d_14 (Conv2D)          (None, 3, 3, 384)         1327488   \n",
            "                                                                 \n",
            " conv2d_15 (Conv2D)          (None, 3, 3, 256)         884992    \n",
            "                                                                 \n",
            " max_pooling2d_5 (MaxPooling  (None, 1, 1, 256)        0         \n",
            " 2D)                                                             \n",
            "                                                                 \n",
            " flatten_4 (Flatten)         (None, 256)               0         \n",
            "                                                                 \n",
            " dense_12 (Dense)            (None, 4096)              1052672   \n",
            "                                                                 \n",
            " dropout_2 (Dropout)         (None, 4096)              0         \n",
            "                                                                 \n",
            " dense_13 (Dense)            (None, 4096)              16781312  \n",
            "                                                                 \n",
            " dropout_3 (Dropout)         (None, 4096)              0         \n",
            "                                                                 \n",
            " dense_14 (Dense)            (None, 20)                81940     \n",
            "                                                                 \n",
            "=================================================================\n",
            "Total params: 21,630,868\n",
            "Trainable params: 21,630,868\n",
            "Non-trainable params: 0\n",
            "_________________________________________________________________\n"
          ]
        }
      ],
      "source": [
        "X = tf.random.uniform((1, 32, 32, 3))  \n",
        "for layer in AlexNet().layers:\n",
        "    X = layer(X)\n",
        "    print(layer.__class__.__name__, 'output shape: \\t', X.shape)\n",
        "AlexNet_model_1 = AlexNet()\n",
        "AlexNet_model_2 = AlexNet()\n",
        "AlexNet_model_1.summary()"
      ]
    },
    {
      "cell_type": "markdown",
      "metadata": {
        "id": "RtVnyMLZRM84"
      },
      "source": [
        "### VGG\n"
      ]
    },
    {
      "cell_type": "code",
      "execution_count": null,
      "metadata": {
        "id": "iNBDyAMeRRSk"
      },
      "outputs": [],
      "source": [
        "# Some customizations were made so that images with 32x32x3 dimensions are used as input. For this\n",
        "# reason a smaller number of vggs blocks(less layers) were used so that its output dimensions are not \n",
        "# dramatically decreased.\n",
        "def VGG_block(num_convs, num_channels):\n",
        "  block = models.Sequential()\n",
        "  for _ in range(num_convs):\n",
        "    block.add(layers.Conv2D(num_channels, kernel_size=3, padding='same', activation='relu'))\n",
        "  block.add(layers.MaxPool2D(pool_size=2, strides=2))\n",
        "  return block"
      ]
    },
    {
      "cell_type": "code",
      "execution_count": null,
      "metadata": {
        "id": "M1t-WwB1RTu-"
      },
      "outputs": [],
      "source": [
        "# Custom VGG model for 32x32x3 images and 20 categories\n",
        "def VGG(conv_arch):\n",
        "  model = models.Sequential()\n",
        "  model.add(layers.Conv2D(conv_arch[0][1], kernel_size=3, padding='same', activation='relu', input_shape=(32, 32, 3)))\n",
        "  # The convulational part\n",
        "  for (num_convs, num_channels) in conv_arch:\n",
        "      model.add(VGG_block(num_convs, num_channels))\n",
        "  # The fully-connected part\n",
        "  model.add(layers.Flatten())\n",
        "  model.add(layers.Dense(4096, activation='relu'))\n",
        "  model.add(layers.Dropout(0.5))\n",
        "  model.add(layers.Dense(4096, activation='relu'))\n",
        "  model.add(layers.Dropout(0.5))\n",
        "  model.add(layers.Dense(20))\n",
        "  return model"
      ]
    },
    {
      "cell_type": "code",
      "execution_count": null,
      "metadata": {
        "colab": {
          "base_uri": "https://localhost:8080/"
        },
        "id": "1SA9V0xwRWLX",
        "outputId": "5a5d059b-23fc-4265-d74e-31ac902b8815"
      },
      "outputs": [
        {
          "output_type": "stream",
          "name": "stdout",
          "text": [
            "Conv2D output shape: \t (1, 32, 32, 64)\n",
            "Sequential output shape: \t (1, 16, 16, 64)\n",
            "Sequential output shape: \t (1, 8, 8, 128)\n",
            "Sequential output shape: \t (1, 4, 4, 256)\n",
            "Flatten output shape: \t (1, 4096)\n",
            "Dense output shape: \t (1, 4096)\n",
            "Dropout output shape: \t (1, 4096)\n",
            "Dense output shape: \t (1, 4096)\n",
            "Dropout output shape: \t (1, 4096)\n",
            "Dense output shape: \t (1, 20)\n",
            "Model: \"sequential_10\"\n",
            "_________________________________________________________________\n",
            " Layer (type)                Output Shape              Param #   \n",
            "=================================================================\n",
            " conv2d_26 (Conv2D)          (None, 32, 32, 64)        1792      \n",
            "                                                                 \n",
            " sequential_11 (Sequential)  (None, 16, 16, 64)        36928     \n",
            "                                                                 \n",
            " sequential_12 (Sequential)  (None, 8, 8, 128)         73856     \n",
            "                                                                 \n",
            " sequential_13 (Sequential)  (None, 4, 4, 256)         885248    \n",
            "                                                                 \n",
            " flatten_7 (Flatten)         (None, 4096)              0         \n",
            "                                                                 \n",
            " dense_21 (Dense)            (None, 4096)              16781312  \n",
            "                                                                 \n",
            " dropout_8 (Dropout)         (None, 4096)              0         \n",
            "                                                                 \n",
            " dense_22 (Dense)            (None, 4096)              16781312  \n",
            "                                                                 \n",
            " dropout_9 (Dropout)         (None, 4096)              0         \n",
            "                                                                 \n",
            " dense_23 (Dense)            (None, 20)                81940     \n",
            "                                                                 \n",
            "=================================================================\n",
            "Total params: 34,642,388\n",
            "Trainable params: 34,642,388\n",
            "Non-trainable params: 0\n",
            "_________________________________________________________________\n"
          ]
        }
      ],
      "source": [
        "conv_arch = ((1, 64), (1, 128), (2, 256))\n",
        "X = tf.random.uniform((1, 32, 32, 3))  \n",
        "for layer in VGG(conv_arch).layers:\n",
        "    X = layer(X)\n",
        "    print(layer.__class__.__name__, 'output shape: \\t', X.shape)\n",
        "VGG_model_1 = VGG(conv_arch)\n",
        "VGG_model_2 = VGG(conv_arch)\n",
        "VGG_model_1.summary()"
      ]
    },
    {
      "cell_type": "markdown",
      "metadata": {
        "id": "EOJ7Tm_aR90G"
      },
      "source": [
        "###MyCNN"
      ]
    },
    {
      "cell_type": "code",
      "execution_count": null,
      "metadata": {
        "id": "KnFdlattSBtf"
      },
      "outputs": [],
      "source": [
        "# Αρχικά για να υλοποιήσουμε το MyCNN χρησιμοποιήσαμε περισσότερα convolution και fc layers. Όμως παρατηρήσαμε πως για \n",
        "# τα συγκεκριμένα δεδομένα μπορούσε να επιτευχθεί καλύτερη επίδοση με λιγότερα convolution και fc layers. Έτσι το τελικό \n",
        "# αποτέλεσμα έχει λιγότερο χρόνο εκπαίδευσης. Πιθανότατα αυτό οφείλεται στο γεγονός ότι τα παραπάνω δίκτυα είναι σχεδιασμένα\n",
        "# για μεγαλύτερες εικόνες από αυτές που εν προκειμένω χρησιμοποιήθηκαν.\n",
        "def MyCNN():\n",
        "  model = models.Sequential()\n",
        "  model.add(layers.Conv2D(filters=128, kernel_size=3, padding='same', activation='relu', input_shape=(32, 32, 3)))\n",
        "  model.add(layers.MaxPool2D(pool_size=2, strides=2))\n",
        "  model.add(layers.Conv2D(filters=256, kernel_size=3, padding='same', activation='relu'))  \n",
        "  model.add(layers.MaxPool2D(pool_size=2, strides=2)) \n",
        "  model.add(layers.Conv2D(filters=512, kernel_size=3, padding='same', activation='relu')) \n",
        "  model.add(layers.MaxPool2D(pool_size=2, strides=2))\n",
        "  model.add(layers.Flatten())\n",
        "  model.add(layers.Dense(2048, activation='relu'))\n",
        "  model.add(layers.Dropout(0.5))\n",
        "  model.add(layers.Dense(20))\n",
        "  return model"
      ]
    },
    {
      "cell_type": "code",
      "execution_count": null,
      "metadata": {
        "colab": {
          "base_uri": "https://localhost:8080/"
        },
        "id": "qq6v_UAMSDEP",
        "outputId": "34b9a12a-419a-440e-9ce3-bd45bab520ac"
      },
      "outputs": [
        {
          "output_type": "stream",
          "name": "stdout",
          "text": [
            "Conv2D output shape: \t (1, 32, 32, 128)\n",
            "MaxPooling2D output shape: \t (1, 16, 16, 128)\n",
            "Conv2D output shape: \t (1, 16, 16, 256)\n",
            "MaxPooling2D output shape: \t (1, 8, 8, 256)\n",
            "Conv2D output shape: \t (1, 8, 8, 512)\n",
            "MaxPooling2D output shape: \t (1, 4, 4, 512)\n",
            "Flatten output shape: \t (1, 8192)\n",
            "Dense output shape: \t (1, 2048)\n",
            "Dropout output shape: \t (1, 2048)\n",
            "Dense output shape: \t (1, 20)\n",
            "Model: \"sequential_19\"\n",
            "_________________________________________________________________\n",
            " Layer (type)                Output Shape              Param #   \n",
            "=================================================================\n",
            " conv2d_39 (Conv2D)          (None, 32, 32, 128)       3584      \n",
            "                                                                 \n",
            " max_pooling2d_21 (MaxPoolin  (None, 16, 16, 128)      0         \n",
            " g2D)                                                            \n",
            "                                                                 \n",
            " conv2d_40 (Conv2D)          (None, 16, 16, 256)       295168    \n",
            "                                                                 \n",
            " max_pooling2d_22 (MaxPoolin  (None, 8, 8, 256)        0         \n",
            " g2D)                                                            \n",
            "                                                                 \n",
            " conv2d_41 (Conv2D)          (None, 8, 8, 512)         1180160   \n",
            "                                                                 \n",
            " max_pooling2d_23 (MaxPoolin  (None, 4, 4, 512)        0         \n",
            " g2D)                                                            \n",
            "                                                                 \n",
            " flatten_10 (Flatten)        (None, 8192)              0         \n",
            "                                                                 \n",
            " dense_29 (Dense)            (None, 2048)              16779264  \n",
            "                                                                 \n",
            " dropout_13 (Dropout)        (None, 2048)              0         \n",
            "                                                                 \n",
            " dense_30 (Dense)            (None, 20)                40980     \n",
            "                                                                 \n",
            "=================================================================\n",
            "Total params: 18,299,156\n",
            "Trainable params: 18,299,156\n",
            "Non-trainable params: 0\n",
            "_________________________________________________________________\n"
          ]
        }
      ],
      "source": [
        "X = tf.random.uniform((1, 32, 32, 3)) \n",
        "for layer in MyCNN().layers:\n",
        "    X = layer(X)\n",
        "    print(layer.__class__.__name__, 'output shape: \\t', X.shape)\n",
        "MyCNN_model_1 = MyCNN()\n",
        "MyCNN_model_2 = MyCNN()\n",
        "MyCNN_model_1.summary()"
      ]
    },
    {
      "cell_type": "markdown",
      "metadata": {
        "id": "3jfVhfMoUxug"
      },
      "source": [
        "### Βήμα 1:: Μεταγλώττιση και εκπαίδευση μοντέλου"
      ]
    },
    {
      "cell_type": "markdown",
      "metadata": {
        "id": "yJuVbvC8Va3e"
      },
      "source": [
        "###LeNet\n"
      ]
    },
    {
      "cell_type": "markdown",
      "metadata": {
        "id": "8kyml5enYwC_"
      },
      "source": [
        "####Πρώτη υλοποίηση LeNet"
      ]
    },
    {
      "cell_type": "code",
      "execution_count": null,
      "metadata": {
        "colab": {
          "base_uri": "https://localhost:8080/"
        },
        "id": "FlP0ouZyXRTB",
        "outputId": "f1c6fffd-3e34-41b4-9373-f1064d9120dc"
      },
      "outputs": [
        {
          "output_type": "stream",
          "name": "stdout",
          "text": [
            "Epoch 1/50\n",
            "850/850 [==============================] - 25s 27ms/step - loss: 2.8844 - accuracy: 0.1015 - val_loss: 2.6467 - val_accuracy: 0.2067\n",
            "Epoch 2/50\n",
            "850/850 [==============================] - 14s 17ms/step - loss: 2.5063 - accuracy: 0.2216 - val_loss: 2.3911 - val_accuracy: 0.2607\n",
            "Epoch 3/50\n",
            "850/850 [==============================] - 12s 14ms/step - loss: 2.3568 - accuracy: 0.2569 - val_loss: 2.2834 - val_accuracy: 0.2667\n",
            "Epoch 4/50\n",
            "850/850 [==============================] - 12s 14ms/step - loss: 2.2795 - accuracy: 0.2794 - val_loss: 2.2232 - val_accuracy: 0.2893\n",
            "Epoch 5/50\n",
            "850/850 [==============================] - 12s 15ms/step - loss: 2.2268 - accuracy: 0.2945 - val_loss: 2.1633 - val_accuracy: 0.3127\n",
            "Epoch 6/50\n",
            "850/850 [==============================] - 12s 14ms/step - loss: 2.1816 - accuracy: 0.3098 - val_loss: 2.1710 - val_accuracy: 0.3120\n",
            "Epoch 7/50\n",
            "850/850 [==============================] - 14s 16ms/step - loss: 2.1432 - accuracy: 0.3291 - val_loss: 2.0881 - val_accuracy: 0.3400\n",
            "Epoch 8/50\n",
            "850/850 [==============================] - 13s 15ms/step - loss: 2.1069 - accuracy: 0.3380 - val_loss: 2.1370 - val_accuracy: 0.3333\n",
            "Epoch 9/50\n",
            "850/850 [==============================] - 12s 14ms/step - loss: 2.0766 - accuracy: 0.3464 - val_loss: 2.0988 - val_accuracy: 0.3540\n",
            "Epoch 10/50\n",
            "850/850 [==============================] - 14s 16ms/step - loss: 2.0434 - accuracy: 0.3616 - val_loss: 2.0429 - val_accuracy: 0.3533\n",
            "Epoch 11/50\n",
            "850/850 [==============================] - 12s 15ms/step - loss: 2.0127 - accuracy: 0.3666 - val_loss: 2.0578 - val_accuracy: 0.3507\n",
            "Epoch 12/50\n",
            "850/850 [==============================] - 13s 15ms/step - loss: 1.9872 - accuracy: 0.3767 - val_loss: 1.9790 - val_accuracy: 0.3780\n",
            "Epoch 13/50\n",
            "850/850 [==============================] - 13s 15ms/step - loss: 1.9538 - accuracy: 0.3885 - val_loss: 1.9464 - val_accuracy: 0.3887\n",
            "Epoch 14/50\n",
            "850/850 [==============================] - 12s 15ms/step - loss: 1.9193 - accuracy: 0.3994 - val_loss: 1.9324 - val_accuracy: 0.3900\n",
            "Epoch 15/50\n",
            "850/850 [==============================] - 12s 15ms/step - loss: 1.8789 - accuracy: 0.4134 - val_loss: 1.9429 - val_accuracy: 0.3893\n",
            "Epoch 16/50\n",
            "850/850 [==============================] - 12s 15ms/step - loss: 1.8392 - accuracy: 0.4196 - val_loss: 1.8756 - val_accuracy: 0.4127\n",
            "Epoch 17/50\n",
            "850/850 [==============================] - 13s 15ms/step - loss: 1.8091 - accuracy: 0.4348 - val_loss: 1.8570 - val_accuracy: 0.4133\n",
            "Epoch 18/50\n",
            "850/850 [==============================] - 12s 15ms/step - loss: 1.7790 - accuracy: 0.4401 - val_loss: 1.8320 - val_accuracy: 0.4293\n",
            "Epoch 19/50\n",
            "850/850 [==============================] - 12s 15ms/step - loss: 1.7492 - accuracy: 0.4535 - val_loss: 1.8319 - val_accuracy: 0.4400\n",
            "Epoch 20/50\n",
            "850/850 [==============================] - 13s 15ms/step - loss: 1.7254 - accuracy: 0.4567 - val_loss: 1.9181 - val_accuracy: 0.4080\n",
            "Epoch 21/50\n",
            "850/850 [==============================] - 12s 15ms/step - loss: 1.7008 - accuracy: 0.4665 - val_loss: 1.7944 - val_accuracy: 0.4473\n",
            "Epoch 22/50\n",
            "850/850 [==============================] - 13s 15ms/step - loss: 1.6706 - accuracy: 0.4726 - val_loss: 1.8082 - val_accuracy: 0.4520\n",
            "Epoch 23/50\n",
            "850/850 [==============================] - 12s 14ms/step - loss: 1.6452 - accuracy: 0.4807 - val_loss: 1.8002 - val_accuracy: 0.4480\n",
            "Epoch 24/50\n",
            "850/850 [==============================] - 12s 14ms/step - loss: 1.6242 - accuracy: 0.4871 - val_loss: 1.7737 - val_accuracy: 0.4593\n",
            "Epoch 25/50\n",
            "850/850 [==============================] - 13s 15ms/step - loss: 1.5943 - accuracy: 0.5021 - val_loss: 1.7967 - val_accuracy: 0.4647\n",
            "Epoch 26/50\n",
            "850/850 [==============================] - 12s 15ms/step - loss: 1.5738 - accuracy: 0.5066 - val_loss: 1.7507 - val_accuracy: 0.4727\n",
            "Epoch 27/50\n",
            "850/850 [==============================] - 12s 14ms/step - loss: 1.5516 - accuracy: 0.5121 - val_loss: 1.7883 - val_accuracy: 0.4727\n",
            "Epoch 28/50\n",
            "850/850 [==============================] - 13s 15ms/step - loss: 1.5304 - accuracy: 0.5188 - val_loss: 1.7655 - val_accuracy: 0.4753\n",
            "Epoch 29/50\n",
            "850/850 [==============================] - 12s 15ms/step - loss: 1.5005 - accuracy: 0.5251 - val_loss: 1.7960 - val_accuracy: 0.4760\n",
            "Epoch 30/50\n",
            "850/850 [==============================] - 13s 15ms/step - loss: 1.4762 - accuracy: 0.5355 - val_loss: 1.8657 - val_accuracy: 0.4447\n",
            "Epoch 31/50\n",
            "850/850 [==============================] - 13s 16ms/step - loss: 1.4547 - accuracy: 0.5393 - val_loss: 1.8932 - val_accuracy: 0.4513\n",
            "Epoch 32/50\n",
            "850/850 [==============================] - 13s 15ms/step - loss: 1.4268 - accuracy: 0.5529 - val_loss: 1.7934 - val_accuracy: 0.4667\n",
            "Epoch 33/50\n",
            "850/850 [==============================] - 13s 15ms/step - loss: 1.4099 - accuracy: 0.5573 - val_loss: 1.7792 - val_accuracy: 0.4633\n",
            "Epoch 34/50\n",
            "850/850 [==============================] - 13s 15ms/step - loss: 1.3781 - accuracy: 0.5640 - val_loss: 1.8008 - val_accuracy: 0.4747\n",
            "Epoch 35/50\n",
            "850/850 [==============================] - 12s 15ms/step - loss: 1.3582 - accuracy: 0.5706 - val_loss: 1.7991 - val_accuracy: 0.4627\n",
            "Epoch 36/50\n",
            "850/850 [==============================] - 13s 15ms/step - loss: 1.3366 - accuracy: 0.5767 - val_loss: 1.8166 - val_accuracy: 0.4727\n",
            "Epoch 37/50\n",
            "850/850 [==============================] - 13s 15ms/step - loss: 1.3125 - accuracy: 0.5815 - val_loss: 1.8106 - val_accuracy: 0.4880\n",
            "Epoch 38/50\n",
            "850/850 [==============================] - 13s 15ms/step - loss: 1.2913 - accuracy: 0.5895 - val_loss: 1.7926 - val_accuracy: 0.4740\n",
            "Epoch 39/50\n",
            "850/850 [==============================] - 13s 15ms/step - loss: 1.2641 - accuracy: 0.5980 - val_loss: 1.8221 - val_accuracy: 0.4693\n",
            "Epoch 40/50\n",
            "850/850 [==============================] - 12s 14ms/step - loss: 1.2420 - accuracy: 0.6099 - val_loss: 1.8885 - val_accuracy: 0.4500\n",
            "Epoch 41/50\n",
            "850/850 [==============================] - 13s 15ms/step - loss: 1.2171 - accuracy: 0.6129 - val_loss: 1.8968 - val_accuracy: 0.4673\n",
            "Epoch 42/50\n",
            "850/850 [==============================] - 14s 16ms/step - loss: 1.1932 - accuracy: 0.6179 - val_loss: 1.8392 - val_accuracy: 0.4880\n",
            "Epoch 43/50\n",
            "850/850 [==============================] - 12s 15ms/step - loss: 1.1686 - accuracy: 0.6272 - val_loss: 1.8622 - val_accuracy: 0.4900\n",
            "Epoch 44/50\n",
            "850/850 [==============================] - 12s 15ms/step - loss: 1.1474 - accuracy: 0.6345 - val_loss: 1.8809 - val_accuracy: 0.4660\n",
            "Epoch 45/50\n",
            "850/850 [==============================] - 12s 15ms/step - loss: 1.1195 - accuracy: 0.6455 - val_loss: 1.9066 - val_accuracy: 0.4633\n",
            "Epoch 46/50\n",
            "850/850 [==============================] - 12s 15ms/step - loss: 1.0975 - accuracy: 0.6532 - val_loss: 1.8938 - val_accuracy: 0.4800\n",
            "Epoch 47/50\n",
            "850/850 [==============================] - 13s 15ms/step - loss: 1.0763 - accuracy: 0.6596 - val_loss: 1.9214 - val_accuracy: 0.4733\n",
            "Epoch 48/50\n",
            "850/850 [==============================] - 12s 14ms/step - loss: 1.0472 - accuracy: 0.6687 - val_loss: 1.9756 - val_accuracy: 0.4767\n",
            "Epoch 49/50\n",
            "850/850 [==============================] - 12s 15ms/step - loss: 1.0230 - accuracy: 0.6727 - val_loss: 1.9509 - val_accuracy: 0.4840\n",
            "Epoch 50/50\n",
            "850/850 [==============================] - 12s 15ms/step - loss: 1.0094 - accuracy: 0.6791 - val_loss: 2.0096 - val_accuracy: 0.4613\n"
          ]
        }
      ],
      "source": [
        "# Πρώτη υλοποίηση LeNet με optimizer=\"RMSprop\", epochs=50, batch_size=10\n",
        "LeNet_model_1.compile(optimizer=\"RMSprop\",\n",
        "              loss=tf.keras.losses.SparseCategoricalCrossentropy(from_logits=True),\n",
        "              metrics=['accuracy'])\n",
        "\n",
        "LeNet_history_1 = LeNet_model_1.fit(x_train, y_train_to20, epochs=50, batch_size=10,\n",
        "                    validation_data=(x_val, y_val_to20))"
      ]
    },
    {
      "cell_type": "markdown",
      "metadata": {
        "id": "qrHXqp2rY4Td"
      },
      "source": [
        "####Δεύτερη υλοποίηση LeNet"
      ]
    },
    {
      "cell_type": "code",
      "execution_count": null,
      "metadata": {
        "colab": {
          "base_uri": "https://localhost:8080/"
        },
        "id": "41_TytX1YMIy",
        "outputId": "c2c8f4f7-e44b-43d3-9f49-60205aedafb2"
      },
      "outputs": [
        {
          "output_type": "stream",
          "name": "stdout",
          "text": [
            "Epoch 1/50\n",
            "850/850 [==============================] - 14s 16ms/step - loss: 2.9191 - accuracy: 0.0848 - val_loss: 2.6985 - val_accuracy: 0.1133\n",
            "Epoch 2/50\n",
            "850/850 [==============================] - 12s 15ms/step - loss: 2.5749 - accuracy: 0.1915 - val_loss: 2.4951 - val_accuracy: 0.2240\n",
            "Epoch 3/50\n",
            "850/850 [==============================] - 12s 14ms/step - loss: 2.4166 - accuracy: 0.2375 - val_loss: 2.3218 - val_accuracy: 0.2707\n",
            "Epoch 4/50\n",
            "850/850 [==============================] - 12s 14ms/step - loss: 2.2917 - accuracy: 0.2688 - val_loss: 2.2409 - val_accuracy: 0.3067\n",
            "Epoch 5/50\n",
            "850/850 [==============================] - 12s 14ms/step - loss: 2.2113 - accuracy: 0.3000 - val_loss: 2.2013 - val_accuracy: 0.2893\n",
            "Epoch 6/50\n",
            "850/850 [==============================] - 12s 14ms/step - loss: 2.1565 - accuracy: 0.3199 - val_loss: 2.1221 - val_accuracy: 0.3333\n",
            "Epoch 7/50\n",
            "850/850 [==============================] - 12s 14ms/step - loss: 2.1079 - accuracy: 0.3334 - val_loss: 2.0961 - val_accuracy: 0.3453\n",
            "Epoch 8/50\n",
            "850/850 [==============================] - 12s 14ms/step - loss: 2.0654 - accuracy: 0.3476 - val_loss: 2.0579 - val_accuracy: 0.3527\n",
            "Epoch 9/50\n",
            "850/850 [==============================] - 12s 14ms/step - loss: 2.0279 - accuracy: 0.3625 - val_loss: 2.0184 - val_accuracy: 0.3647\n",
            "Epoch 10/50\n",
            "850/850 [==============================] - 12s 14ms/step - loss: 1.9864 - accuracy: 0.3752 - val_loss: 1.9744 - val_accuracy: 0.3707\n",
            "Epoch 11/50\n",
            "850/850 [==============================] - 12s 14ms/step - loss: 1.9562 - accuracy: 0.3815 - val_loss: 1.9686 - val_accuracy: 0.3807\n",
            "Epoch 12/50\n",
            "850/850 [==============================] - 12s 14ms/step - loss: 1.9209 - accuracy: 0.3961 - val_loss: 1.9708 - val_accuracy: 0.3673\n",
            "Epoch 13/50\n",
            "850/850 [==============================] - 12s 14ms/step - loss: 1.8885 - accuracy: 0.3980 - val_loss: 1.9152 - val_accuracy: 0.3960\n",
            "Epoch 14/50\n",
            "850/850 [==============================] - 13s 15ms/step - loss: 1.8564 - accuracy: 0.4113 - val_loss: 1.9454 - val_accuracy: 0.3873\n",
            "Epoch 15/50\n",
            "850/850 [==============================] - 13s 15ms/step - loss: 1.8265 - accuracy: 0.4192 - val_loss: 1.8879 - val_accuracy: 0.3973\n",
            "Epoch 16/50\n",
            "850/850 [==============================] - 13s 15ms/step - loss: 1.7951 - accuracy: 0.4342 - val_loss: 1.9069 - val_accuracy: 0.3940\n",
            "Epoch 17/50\n",
            "850/850 [==============================] - 12s 15ms/step - loss: 1.7714 - accuracy: 0.4373 - val_loss: 1.8979 - val_accuracy: 0.3987\n",
            "Epoch 18/50\n",
            "850/850 [==============================] - 12s 14ms/step - loss: 1.7359 - accuracy: 0.4456 - val_loss: 1.8438 - val_accuracy: 0.4100\n",
            "Epoch 19/50\n",
            "850/850 [==============================] - 12s 14ms/step - loss: 1.7044 - accuracy: 0.4589 - val_loss: 1.8557 - val_accuracy: 0.4247\n",
            "Epoch 20/50\n",
            "850/850 [==============================] - 13s 15ms/step - loss: 1.6701 - accuracy: 0.4742 - val_loss: 1.8387 - val_accuracy: 0.4227\n",
            "Epoch 21/50\n",
            "850/850 [==============================] - 12s 15ms/step - loss: 1.6385 - accuracy: 0.4796 - val_loss: 1.8352 - val_accuracy: 0.4293\n",
            "Epoch 22/50\n",
            "850/850 [==============================] - 12s 15ms/step - loss: 1.6137 - accuracy: 0.4895 - val_loss: 1.8633 - val_accuracy: 0.4213\n",
            "Epoch 23/50\n",
            "850/850 [==============================] - 12s 14ms/step - loss: 1.5783 - accuracy: 0.4939 - val_loss: 1.8339 - val_accuracy: 0.4327\n",
            "Epoch 24/50\n",
            "850/850 [==============================] - 12s 14ms/step - loss: 1.5442 - accuracy: 0.5066 - val_loss: 1.8418 - val_accuracy: 0.4327\n",
            "Epoch 25/50\n",
            "850/850 [==============================] - 12s 15ms/step - loss: 1.5131 - accuracy: 0.5181 - val_loss: 1.8278 - val_accuracy: 0.4260\n",
            "Epoch 26/50\n",
            "850/850 [==============================] - 13s 15ms/step - loss: 1.4778 - accuracy: 0.5314 - val_loss: 1.7990 - val_accuracy: 0.4433\n",
            "Epoch 27/50\n",
            "850/850 [==============================] - 13s 15ms/step - loss: 1.4464 - accuracy: 0.5376 - val_loss: 1.8393 - val_accuracy: 0.4333\n",
            "Epoch 28/50\n",
            "850/850 [==============================] - 13s 15ms/step - loss: 1.4115 - accuracy: 0.5515 - val_loss: 1.8090 - val_accuracy: 0.4440\n",
            "Epoch 29/50\n",
            "850/850 [==============================] - 13s 15ms/step - loss: 1.3835 - accuracy: 0.5601 - val_loss: 1.8284 - val_accuracy: 0.4407\n",
            "Epoch 30/50\n",
            "850/850 [==============================] - 13s 15ms/step - loss: 1.3542 - accuracy: 0.5719 - val_loss: 1.8701 - val_accuracy: 0.4353\n",
            "Epoch 31/50\n",
            "850/850 [==============================] - 13s 15ms/step - loss: 1.3201 - accuracy: 0.5846 - val_loss: 1.8204 - val_accuracy: 0.4473\n",
            "Epoch 32/50\n",
            "850/850 [==============================] - 13s 15ms/step - loss: 1.2893 - accuracy: 0.5951 - val_loss: 1.8399 - val_accuracy: 0.4513\n",
            "Epoch 33/50\n",
            "850/850 [==============================] - 13s 16ms/step - loss: 1.2557 - accuracy: 0.6014 - val_loss: 1.8317 - val_accuracy: 0.4493\n",
            "Epoch 34/50\n",
            "850/850 [==============================] - 13s 15ms/step - loss: 1.2241 - accuracy: 0.6100 - val_loss: 1.8948 - val_accuracy: 0.4427\n",
            "Epoch 35/50\n",
            "850/850 [==============================] - 13s 15ms/step - loss: 1.1912 - accuracy: 0.6236 - val_loss: 1.8287 - val_accuracy: 0.4580\n",
            "Epoch 36/50\n",
            "850/850 [==============================] - 13s 15ms/step - loss: 1.1653 - accuracy: 0.6336 - val_loss: 1.8306 - val_accuracy: 0.4620\n",
            "Epoch 37/50\n",
            "850/850 [==============================] - 13s 15ms/step - loss: 1.1281 - accuracy: 0.6466 - val_loss: 1.8804 - val_accuracy: 0.4400\n",
            "Epoch 38/50\n",
            "850/850 [==============================] - 13s 15ms/step - loss: 1.1060 - accuracy: 0.6493 - val_loss: 1.8940 - val_accuracy: 0.4540\n",
            "Epoch 39/50\n",
            "850/850 [==============================] - 13s 15ms/step - loss: 1.0727 - accuracy: 0.6593 - val_loss: 1.9211 - val_accuracy: 0.4600\n",
            "Epoch 40/50\n",
            "850/850 [==============================] - 13s 15ms/step - loss: 1.0429 - accuracy: 0.6714 - val_loss: 1.9381 - val_accuracy: 0.4447\n",
            "Epoch 41/50\n",
            "850/850 [==============================] - 13s 15ms/step - loss: 1.0109 - accuracy: 0.6827 - val_loss: 1.9439 - val_accuracy: 0.4620\n",
            "Epoch 42/50\n",
            "850/850 [==============================] - 13s 15ms/step - loss: 0.9809 - accuracy: 0.6912 - val_loss: 1.9423 - val_accuracy: 0.4487\n",
            "Epoch 43/50\n",
            "850/850 [==============================] - 13s 15ms/step - loss: 0.9499 - accuracy: 0.6988 - val_loss: 1.9897 - val_accuracy: 0.4527\n",
            "Epoch 44/50\n",
            "850/850 [==============================] - 13s 15ms/step - loss: 0.9157 - accuracy: 0.7105 - val_loss: 1.9908 - val_accuracy: 0.4467\n",
            "Epoch 45/50\n",
            "850/850 [==============================] - 13s 15ms/step - loss: 0.8802 - accuracy: 0.7240 - val_loss: 2.0854 - val_accuracy: 0.4427\n",
            "Epoch 46/50\n",
            "850/850 [==============================] - 13s 15ms/step - loss: 0.8544 - accuracy: 0.7311 - val_loss: 2.0474 - val_accuracy: 0.4573\n",
            "Epoch 47/50\n",
            "850/850 [==============================] - 13s 15ms/step - loss: 0.8270 - accuracy: 0.7406 - val_loss: 2.0754 - val_accuracy: 0.4527\n",
            "Epoch 48/50\n",
            "850/850 [==============================] - 13s 15ms/step - loss: 0.7979 - accuracy: 0.7505 - val_loss: 2.1279 - val_accuracy: 0.4413\n",
            "Epoch 49/50\n",
            "850/850 [==============================] - 13s 15ms/step - loss: 0.7692 - accuracy: 0.7620 - val_loss: 2.1807 - val_accuracy: 0.4367\n",
            "Epoch 50/50\n",
            "850/850 [==============================] - 13s 15ms/step - loss: 0.7376 - accuracy: 0.7705 - val_loss: 2.1921 - val_accuracy: 0.4407\n"
          ]
        }
      ],
      "source": [
        "# Δέυτερη υλοποίηση LeNet με optimizer=\"Nadam\", epochs=50, batch_size=10\n",
        "LeNet_model_2.compile(optimizer=\"Nadam\",\n",
        "              loss=tf.keras.losses.SparseCategoricalCrossentropy(from_logits=True),\n",
        "              metrics=['accuracy'])\n",
        "\n",
        "LeNet_history_2 = LeNet_model_2.fit(x_train, y_train_to20, epochs=50, batch_size=10,\n",
        "                    validation_data=(x_val, y_val_to20))"
      ]
    },
    {
      "cell_type": "markdown",
      "metadata": {
        "id": "UTdNlEXUYaMj"
      },
      "source": [
        "###AlexNet\n"
      ]
    },
    {
      "cell_type": "markdown",
      "metadata": {
        "id": "GfrmhyI6Y-t1"
      },
      "source": [
        "####Πρώτη υλοποίηση AlexNet"
      ]
    },
    {
      "cell_type": "code",
      "execution_count": null,
      "metadata": {
        "colab": {
          "base_uri": "https://localhost:8080/"
        },
        "id": "4Ab3rcCNYduA",
        "outputId": "97805c4d-a3e1-4d22-a14f-07d904cc8020"
      },
      "outputs": [
        {
          "output_type": "stream",
          "name": "stdout",
          "text": [
            "Epoch 1/20\n",
            "67/67 [==============================] - 146s 2s/step - loss: 2.8259 - accuracy: 0.0979 - val_loss: 2.6950 - val_accuracy: 0.1333\n",
            "Epoch 2/20\n",
            "67/67 [==============================] - 146s 2s/step - loss: 2.4794 - accuracy: 0.1633 - val_loss: 2.3640 - val_accuracy: 0.2027\n",
            "Epoch 3/20\n",
            "67/67 [==============================] - 144s 2s/step - loss: 2.3162 - accuracy: 0.2347 - val_loss: 2.1738 - val_accuracy: 0.2947\n",
            "Epoch 4/20\n",
            "67/67 [==============================] - 144s 2s/step - loss: 2.1640 - accuracy: 0.2860 - val_loss: 2.0594 - val_accuracy: 0.3207\n",
            "Epoch 5/20\n",
            "67/67 [==============================] - 144s 2s/step - loss: 2.0313 - accuracy: 0.3280 - val_loss: 1.9575 - val_accuracy: 0.3767\n",
            "Epoch 6/20\n",
            "67/67 [==============================] - 146s 2s/step - loss: 1.9053 - accuracy: 0.3739 - val_loss: 1.8619 - val_accuracy: 0.3733\n",
            "Epoch 7/20\n",
            "67/67 [==============================] - 145s 2s/step - loss: 1.7979 - accuracy: 0.4132 - val_loss: 1.8806 - val_accuracy: 0.4053\n",
            "Epoch 8/20\n",
            "67/67 [==============================] - 145s 2s/step - loss: 1.6859 - accuracy: 0.4538 - val_loss: 1.8186 - val_accuracy: 0.4380\n",
            "Epoch 9/20\n",
            "67/67 [==============================] - 144s 2s/step - loss: 1.5982 - accuracy: 0.4869 - val_loss: 1.7438 - val_accuracy: 0.4360\n",
            "Epoch 10/20\n",
            "67/67 [==============================] - 144s 2s/step - loss: 1.4511 - accuracy: 0.5373 - val_loss: 1.7194 - val_accuracy: 0.4847\n",
            "Epoch 11/20\n",
            "67/67 [==============================] - 145s 2s/step - loss: 1.3074 - accuracy: 0.5762 - val_loss: 1.6964 - val_accuracy: 0.5027\n",
            "Epoch 12/20\n",
            "67/67 [==============================] - 145s 2s/step - loss: 1.2277 - accuracy: 0.6085 - val_loss: 1.5980 - val_accuracy: 0.5173\n",
            "Epoch 13/20\n",
            "67/67 [==============================] - 146s 2s/step - loss: 1.1096 - accuracy: 0.6451 - val_loss: 1.8293 - val_accuracy: 0.5033\n",
            "Epoch 14/20\n",
            "67/67 [==============================] - 145s 2s/step - loss: 1.0333 - accuracy: 0.6682 - val_loss: 1.7372 - val_accuracy: 0.5073\n",
            "Epoch 15/20\n",
            "67/67 [==============================] - 146s 2s/step - loss: 0.8989 - accuracy: 0.7115 - val_loss: 1.8264 - val_accuracy: 0.5187\n",
            "Epoch 16/20\n",
            "67/67 [==============================] - 145s 2s/step - loss: 0.7750 - accuracy: 0.7514 - val_loss: 1.8329 - val_accuracy: 0.5360\n",
            "Epoch 17/20\n",
            "67/67 [==============================] - 145s 2s/step - loss: 0.6987 - accuracy: 0.7728 - val_loss: 1.9579 - val_accuracy: 0.5353\n",
            "Epoch 18/20\n",
            "67/67 [==============================] - 145s 2s/step - loss: 0.6005 - accuracy: 0.8056 - val_loss: 1.9934 - val_accuracy: 0.5400\n",
            "Epoch 19/20\n",
            "67/67 [==============================] - 146s 2s/step - loss: 0.5292 - accuracy: 0.8286 - val_loss: 2.2561 - val_accuracy: 0.5320\n",
            "Epoch 20/20\n",
            "67/67 [==============================] - 145s 2s/step - loss: 0.4880 - accuracy: 0.8445 - val_loss: 2.4501 - val_accuracy: 0.5220\n"
          ]
        }
      ],
      "source": [
        "# Πρώτη υλοποίηση AlexNet με optimizer=\"adam\", epochs=20, batch_size=128\n",
        "AlexNet_model_1.compile(optimizer='adam',\n",
        "              loss=tf.keras.losses.SparseCategoricalCrossentropy(from_logits=True),\n",
        "              metrics=['accuracy'])\n",
        "\n",
        "AlexNet_history_1 = AlexNet_model_1.fit(x_train, y_train_to20, epochs=20, batch_size=128,\n",
        "                    validation_data=(x_val, y_val_to20))"
      ]
    },
    {
      "cell_type": "markdown",
      "metadata": {
        "id": "HS6YIo6rZCPE"
      },
      "source": [
        "####Δεύτερη υλοποίηση AlexNet"
      ]
    },
    {
      "cell_type": "code",
      "execution_count": null,
      "metadata": {
        "colab": {
          "base_uri": "https://localhost:8080/"
        },
        "id": "j0VQhaaGZG4P",
        "outputId": "9a578e9e-3da5-4055-eff6-9132d5927855"
      },
      "outputs": [
        {
          "output_type": "stream",
          "name": "stdout",
          "text": [
            "Epoch 1/20\n",
            "67/67 [==============================] - 147s 2s/step - loss: 3.3033 - accuracy: 0.0549 - val_loss: 3.2780 - val_accuracy: 0.0547\n",
            "Epoch 2/20\n",
            "67/67 [==============================] - 146s 2s/step - loss: 2.9516 - accuracy: 0.0861 - val_loss: 2.7735 - val_accuracy: 0.1167\n",
            "Epoch 3/20\n",
            "67/67 [==============================] - 146s 2s/step - loss: 2.7303 - accuracy: 0.1215 - val_loss: 2.7251 - val_accuracy: 0.1240\n",
            "Epoch 4/20\n",
            "67/67 [==============================] - 147s 2s/step - loss: 2.6174 - accuracy: 0.1436 - val_loss: 2.5029 - val_accuracy: 0.1580\n",
            "Epoch 5/20\n",
            "67/67 [==============================] - 146s 2s/step - loss: 2.4934 - accuracy: 0.1882 - val_loss: 2.3652 - val_accuracy: 0.2373\n",
            "Epoch 6/20\n",
            "67/67 [==============================] - 146s 2s/step - loss: 2.3359 - accuracy: 0.2513 - val_loss: 2.1762 - val_accuracy: 0.3040\n",
            "Epoch 7/20\n",
            "67/67 [==============================] - 145s 2s/step - loss: 2.1656 - accuracy: 0.3102 - val_loss: 2.0672 - val_accuracy: 0.3140\n",
            "Epoch 8/20\n",
            "67/67 [==============================] - 146s 2s/step - loss: 2.0957 - accuracy: 0.3429 - val_loss: 2.0056 - val_accuracy: 0.3807\n",
            "Epoch 9/20\n",
            "67/67 [==============================] - 148s 2s/step - loss: 1.9530 - accuracy: 0.3860 - val_loss: 2.1080 - val_accuracy: 0.3180\n",
            "Epoch 10/20\n",
            "67/67 [==============================] - 148s 2s/step - loss: 1.8594 - accuracy: 0.4149 - val_loss: 1.9910 - val_accuracy: 0.3987\n",
            "Epoch 11/20\n",
            "67/67 [==============================] - 147s 2s/step - loss: 1.7336 - accuracy: 0.4552 - val_loss: 1.8887 - val_accuracy: 0.4633\n",
            "Epoch 12/20\n",
            "67/67 [==============================] - 146s 2s/step - loss: 1.6185 - accuracy: 0.4931 - val_loss: 1.8578 - val_accuracy: 0.4640\n",
            "Epoch 13/20\n",
            "67/67 [==============================] - 146s 2s/step - loss: 1.5146 - accuracy: 0.5276 - val_loss: 1.8958 - val_accuracy: 0.4427\n",
            "Epoch 14/20\n",
            "67/67 [==============================] - 146s 2s/step - loss: 1.3715 - accuracy: 0.5795 - val_loss: 1.8461 - val_accuracy: 0.4613\n",
            "Epoch 15/20\n",
            "67/67 [==============================] - 148s 2s/step - loss: 1.2537 - accuracy: 0.6147 - val_loss: 2.0296 - val_accuracy: 0.4653\n",
            "Epoch 16/20\n",
            "67/67 [==============================] - 147s 2s/step - loss: 1.1426 - accuracy: 0.6472 - val_loss: 2.0326 - val_accuracy: 0.5327\n",
            "Epoch 17/20\n",
            "67/67 [==============================] - 147s 2s/step - loss: 1.0572 - accuracy: 0.6764 - val_loss: 1.9087 - val_accuracy: 0.5233\n",
            "Epoch 18/20\n",
            "67/67 [==============================] - 148s 2s/step - loss: 0.9239 - accuracy: 0.7140 - val_loss: 1.7087 - val_accuracy: 0.5693\n",
            "Epoch 19/20\n",
            "67/67 [==============================] - 149s 2s/step - loss: 0.8187 - accuracy: 0.7492 - val_loss: 2.4616 - val_accuracy: 0.4867\n",
            "Epoch 20/20\n",
            "67/67 [==============================] - 150s 2s/step - loss: 0.7044 - accuracy: 0.7833 - val_loss: 2.1786 - val_accuracy: 0.5327\n"
          ]
        }
      ],
      "source": [
        "# Δεύτερη υλοποίηση AlexNet με optimizer=\"RMSprop\", epochs=20, batch_size=128\n",
        "AlexNet_model_2.compile(optimizer='RMSprop',\n",
        "              loss=tf.keras.losses.SparseCategoricalCrossentropy(from_logits=True),\n",
        "              metrics=['accuracy'])\n",
        "\n",
        "AlexNet_history_2 = AlexNet_model_2.fit(x_train, y_train_to20, epochs=20, batch_size=128,\n",
        "                    validation_data=(x_val, y_val_to20))"
      ]
    },
    {
      "cell_type": "markdown",
      "metadata": {
        "id": "ShtuyrE4x2v9"
      },
      "source": [
        "##VGG\n"
      ]
    },
    {
      "cell_type": "markdown",
      "metadata": {
        "id": "u9yc--wIyZlO"
      },
      "source": [
        "####Πρώτη υλοποίηση VGG"
      ]
    },
    {
      "cell_type": "code",
      "execution_count": null,
      "metadata": {
        "colab": {
          "base_uri": "https://localhost:8080/"
        },
        "id": "K0JdQN_-yCBv",
        "outputId": "d838432b-88e8-437b-8ab5-4da805d3f988"
      },
      "outputs": [
        {
          "output_type": "stream",
          "name": "stdout",
          "text": [
            "Epoch 1/30\n",
            "67/67 [==============================] - 215s 3s/step - loss: 3.2140 - accuracy: 0.0655 - val_loss: 2.9006 - val_accuracy: 0.0833\n",
            "Epoch 2/30\n",
            "67/67 [==============================] - 212s 3s/step - loss: 2.8915 - accuracy: 0.1013 - val_loss: 2.7012 - val_accuracy: 0.1413\n",
            "Epoch 3/30\n",
            "67/67 [==============================] - 213s 3s/step - loss: 2.7044 - accuracy: 0.1524 - val_loss: 2.5583 - val_accuracy: 0.1827\n",
            "Epoch 4/30\n",
            "67/67 [==============================] - 212s 3s/step - loss: 2.4398 - accuracy: 0.2407 - val_loss: 2.4168 - val_accuracy: 0.2280\n",
            "Epoch 5/30\n",
            "67/67 [==============================] - 211s 3s/step - loss: 2.1763 - accuracy: 0.3275 - val_loss: 1.9961 - val_accuracy: 0.3693\n",
            "Epoch 6/30\n",
            "67/67 [==============================] - 211s 3s/step - loss: 1.9614 - accuracy: 0.3951 - val_loss: 2.0119 - val_accuracy: 0.4093\n",
            "Epoch 7/30\n",
            "67/67 [==============================] - 212s 3s/step - loss: 1.7764 - accuracy: 0.4455 - val_loss: 1.8078 - val_accuracy: 0.4340\n",
            "Epoch 8/30\n",
            "67/67 [==============================] - 211s 3s/step - loss: 1.6090 - accuracy: 0.5012 - val_loss: 1.7956 - val_accuracy: 0.4773\n",
            "Epoch 9/30\n",
            "67/67 [==============================] - 211s 3s/step - loss: 1.4343 - accuracy: 0.5494 - val_loss: 1.5904 - val_accuracy: 0.5213\n",
            "Epoch 10/30\n",
            "67/67 [==============================] - 212s 3s/step - loss: 1.2596 - accuracy: 0.6049 - val_loss: 1.7965 - val_accuracy: 0.5180\n",
            "Epoch 11/30\n",
            "67/67 [==============================] - 212s 3s/step - loss: 1.0853 - accuracy: 0.6546 - val_loss: 1.5596 - val_accuracy: 0.5633\n",
            "Epoch 12/30\n",
            "67/67 [==============================] - 212s 3s/step - loss: 0.9158 - accuracy: 0.7095 - val_loss: 1.6345 - val_accuracy: 0.5700\n",
            "Epoch 13/30\n",
            "67/67 [==============================] - 214s 3s/step - loss: 0.7308 - accuracy: 0.7680 - val_loss: 1.7997 - val_accuracy: 0.5533\n",
            "Epoch 14/30\n",
            "67/67 [==============================] - 214s 3s/step - loss: 0.6069 - accuracy: 0.8079 - val_loss: 1.8050 - val_accuracy: 0.5507\n",
            "Epoch 15/30\n",
            "67/67 [==============================] - 214s 3s/step - loss: 0.4674 - accuracy: 0.8511 - val_loss: 1.6685 - val_accuracy: 0.6080\n",
            "Epoch 16/30\n",
            "67/67 [==============================] - 214s 3s/step - loss: 0.3627 - accuracy: 0.8859 - val_loss: 2.0908 - val_accuracy: 0.5680\n",
            "Epoch 17/30\n",
            "67/67 [==============================] - 212s 3s/step - loss: 0.3206 - accuracy: 0.9048 - val_loss: 1.8928 - val_accuracy: 0.5660\n",
            "Epoch 18/30\n",
            "67/67 [==============================] - 212s 3s/step - loss: 0.2564 - accuracy: 0.9189 - val_loss: 2.2737 - val_accuracy: 0.6120\n",
            "Epoch 19/30\n",
            "67/67 [==============================] - 212s 3s/step - loss: 0.2271 - accuracy: 0.9316 - val_loss: 2.4897 - val_accuracy: 0.5867\n",
            "Epoch 20/30\n",
            "67/67 [==============================] - 212s 3s/step - loss: 0.2249 - accuracy: 0.9366 - val_loss: 4.0120 - val_accuracy: 0.4647\n",
            "Epoch 21/30\n",
            "67/67 [==============================] - 211s 3s/step - loss: 0.2526 - accuracy: 0.9339 - val_loss: 2.8365 - val_accuracy: 0.5700\n",
            "Epoch 22/30\n",
            "67/67 [==============================] - 212s 3s/step - loss: 0.1974 - accuracy: 0.9446 - val_loss: 2.5868 - val_accuracy: 0.5713\n",
            "Epoch 23/30\n",
            "67/67 [==============================] - 212s 3s/step - loss: 0.1782 - accuracy: 0.9491 - val_loss: 2.6060 - val_accuracy: 0.6027\n",
            "Epoch 24/30\n",
            "67/67 [==============================] - 212s 3s/step - loss: 0.1830 - accuracy: 0.9504 - val_loss: 3.1562 - val_accuracy: 0.5827\n",
            "Epoch 25/30\n",
            "67/67 [==============================] - 213s 3s/step - loss: 0.1804 - accuracy: 0.9506 - val_loss: 2.8488 - val_accuracy: 0.5533\n",
            "Epoch 26/30\n",
            "67/67 [==============================] - 214s 3s/step - loss: 0.1605 - accuracy: 0.9554 - val_loss: 2.9470 - val_accuracy: 0.5713\n",
            "Epoch 27/30\n",
            "67/67 [==============================] - 213s 3s/step - loss: 0.1381 - accuracy: 0.9679 - val_loss: 3.6544 - val_accuracy: 0.5673\n",
            "Epoch 28/30\n",
            "67/67 [==============================] - 213s 3s/step - loss: 0.1543 - accuracy: 0.9594 - val_loss: 3.5258 - val_accuracy: 0.5667\n",
            "Epoch 29/30\n",
            "67/67 [==============================] - 215s 3s/step - loss: 0.1545 - accuracy: 0.9612 - val_loss: 2.9835 - val_accuracy: 0.6080\n",
            "Epoch 30/30\n",
            "67/67 [==============================] - 218s 3s/step - loss: 0.1427 - accuracy: 0.9627 - val_loss: 3.1506 - val_accuracy: 0.6160\n"
          ]
        }
      ],
      "source": [
        "# Πρώτη υλοποίηση VGG με optimizer=\"RMSprop\", epochs=30, batch_size=128\n",
        "VGG_model_1.compile(optimizer='RMSprop',\n",
        "              loss=tf.keras.losses.SparseCategoricalCrossentropy(from_logits=True),\n",
        "              metrics=['accuracy'])\n",
        "\n",
        "VGG_history_1 = VGG_model_1.fit(x_train, y_train_to20, epochs=30, batch_size=128,\n",
        "                    validation_data=(x_val, y_val_to20))"
      ]
    },
    {
      "cell_type": "markdown",
      "metadata": {
        "id": "AeSjdXj7ydBr"
      },
      "source": [
        "####Δεύτερη υλοποίηση VGG"
      ]
    },
    {
      "cell_type": "code",
      "execution_count": null,
      "metadata": {
        "colab": {
          "base_uri": "https://localhost:8080/"
        },
        "id": "niA1Am_syib1",
        "outputId": "3b12cec9-20b0-4973-dd12-6a404e54e3f5"
      },
      "outputs": [
        {
          "output_type": "stream",
          "name": "stdout",
          "text": [
            "Epoch 1/30\n",
            "67/67 [==============================] - 214s 3s/step - loss: 2.8036 - accuracy: 0.1039 - val_loss: 2.6997 - val_accuracy: 0.1373\n",
            "Epoch 2/30\n",
            "67/67 [==============================] - 215s 3s/step - loss: 2.4848 - accuracy: 0.2051 - val_loss: 2.2604 - val_accuracy: 0.2827\n",
            "Epoch 3/30\n",
            "67/67 [==============================] - 214s 3s/step - loss: 2.1841 - accuracy: 0.3132 - val_loss: 1.9557 - val_accuracy: 0.3820\n",
            "Epoch 4/30\n",
            "67/67 [==============================] - 215s 3s/step - loss: 1.9458 - accuracy: 0.3915 - val_loss: 1.7985 - val_accuracy: 0.4253\n",
            "Epoch 5/30\n",
            "67/67 [==============================] - 212s 3s/step - loss: 1.7202 - accuracy: 0.4542 - val_loss: 1.7020 - val_accuracy: 0.4507\n",
            "Epoch 6/30\n",
            "67/67 [==============================] - 211s 3s/step - loss: 1.5478 - accuracy: 0.5082 - val_loss: 1.6018 - val_accuracy: 0.5040\n",
            "Epoch 7/30\n",
            "67/67 [==============================] - 212s 3s/step - loss: 1.3913 - accuracy: 0.5593 - val_loss: 1.4128 - val_accuracy: 0.5520\n",
            "Epoch 8/30\n",
            "67/67 [==============================] - 214s 3s/step - loss: 1.2351 - accuracy: 0.6044 - val_loss: 1.3699 - val_accuracy: 0.5747\n",
            "Epoch 9/30\n",
            "67/67 [==============================] - 213s 3s/step - loss: 1.0556 - accuracy: 0.6588 - val_loss: 1.4049 - val_accuracy: 0.5987\n",
            "Epoch 10/30\n",
            "67/67 [==============================] - 213s 3s/step - loss: 0.9465 - accuracy: 0.6924 - val_loss: 1.3395 - val_accuracy: 0.6167\n",
            "Epoch 11/30\n",
            "67/67 [==============================] - 212s 3s/step - loss: 0.7859 - accuracy: 0.7414 - val_loss: 1.3987 - val_accuracy: 0.6067\n",
            "Epoch 12/30\n",
            "67/67 [==============================] - 212s 3s/step - loss: 0.6446 - accuracy: 0.7893 - val_loss: 1.4103 - val_accuracy: 0.6160\n",
            "Epoch 13/30\n",
            "67/67 [==============================] - 210s 3s/step - loss: 0.5343 - accuracy: 0.8182 - val_loss: 1.5068 - val_accuracy: 0.6180\n",
            "Epoch 14/30\n",
            "67/67 [==============================] - 210s 3s/step - loss: 0.4018 - accuracy: 0.8662 - val_loss: 1.5701 - val_accuracy: 0.6207\n",
            "Epoch 15/30\n",
            "67/67 [==============================] - 209s 3s/step - loss: 0.3358 - accuracy: 0.8885 - val_loss: 1.7451 - val_accuracy: 0.6213\n",
            "Epoch 16/30\n",
            "67/67 [==============================] - 212s 3s/step - loss: 0.2744 - accuracy: 0.9065 - val_loss: 1.7594 - val_accuracy: 0.6393\n",
            "Epoch 17/30\n",
            "67/67 [==============================] - 213s 3s/step - loss: 0.2355 - accuracy: 0.9262 - val_loss: 1.9946 - val_accuracy: 0.6113\n",
            "Epoch 18/30\n",
            "67/67 [==============================] - 211s 3s/step - loss: 0.2146 - accuracy: 0.9275 - val_loss: 1.9919 - val_accuracy: 0.6213\n",
            "Epoch 19/30\n",
            "67/67 [==============================] - 210s 3s/step - loss: 0.1862 - accuracy: 0.9407 - val_loss: 2.2511 - val_accuracy: 0.6100\n",
            "Epoch 20/30\n",
            "67/67 [==============================] - 212s 3s/step - loss: 0.1665 - accuracy: 0.9488 - val_loss: 2.1154 - val_accuracy: 0.6273\n",
            "Epoch 21/30\n",
            "67/67 [==============================] - 211s 3s/step - loss: 0.1597 - accuracy: 0.9506 - val_loss: 2.2458 - val_accuracy: 0.6213\n",
            "Epoch 22/30\n",
            "67/67 [==============================] - 210s 3s/step - loss: 0.1327 - accuracy: 0.9562 - val_loss: 2.1825 - val_accuracy: 0.6260\n",
            "Epoch 23/30\n",
            "67/67 [==============================] - 211s 3s/step - loss: 0.1265 - accuracy: 0.9596 - val_loss: 2.2023 - val_accuracy: 0.6220\n",
            "Epoch 24/30\n",
            "67/67 [==============================] - 210s 3s/step - loss: 0.1148 - accuracy: 0.9656 - val_loss: 2.2640 - val_accuracy: 0.6280\n",
            "Epoch 25/30\n",
            "67/67 [==============================] - 210s 3s/step - loss: 0.1161 - accuracy: 0.9631 - val_loss: 2.2990 - val_accuracy: 0.6187\n",
            "Epoch 26/30\n",
            "67/67 [==============================] - 210s 3s/step - loss: 0.0926 - accuracy: 0.9693 - val_loss: 2.2609 - val_accuracy: 0.6307\n",
            "Epoch 27/30\n",
            "67/67 [==============================] - 212s 3s/step - loss: 0.0870 - accuracy: 0.9691 - val_loss: 2.3870 - val_accuracy: 0.6107\n",
            "Epoch 28/30\n",
            "67/67 [==============================] - 210s 3s/step - loss: 0.0944 - accuracy: 0.9711 - val_loss: 2.5862 - val_accuracy: 0.6073\n",
            "Epoch 29/30\n",
            "67/67 [==============================] - 210s 3s/step - loss: 0.1077 - accuracy: 0.9671 - val_loss: 2.3425 - val_accuracy: 0.6207\n",
            "Epoch 30/30\n",
            "67/67 [==============================] - 210s 3s/step - loss: 0.0873 - accuracy: 0.9748 - val_loss: 2.2359 - val_accuracy: 0.6147\n"
          ]
        }
      ],
      "source": [
        "# Δεύτερη υλοποίηση VGG με optimizer=\"Adam\", epochs=30, batch_size=128\n",
        "VGG_model_2.compile(optimizer='Adam',\n",
        "              loss=tf.keras.losses.SparseCategoricalCrossentropy(from_logits=True),\n",
        "              metrics=['accuracy'])\n",
        "\n",
        "VGG_history_2 = VGG_model_2.fit(x_train, y_train_to20, epochs=30, batch_size=128,\n",
        "                    validation_data=(x_val, y_val_to20))"
      ]
    },
    {
      "cell_type": "markdown",
      "metadata": {
        "id": "kUUlXdDdyovF"
      },
      "source": [
        "##MyCNN"
      ]
    },
    {
      "cell_type": "markdown",
      "metadata": {
        "id": "mUSYg0G1y2aN"
      },
      "source": [
        "### Πρώτη υλοποίηση MyCNN"
      ]
    },
    {
      "cell_type": "code",
      "execution_count": null,
      "metadata": {
        "colab": {
          "base_uri": "https://localhost:8080/"
        },
        "id": "DnYRRngUyt_q",
        "outputId": "330635ad-8093-4b90-aa26-4c9a0bd98ff7"
      },
      "outputs": [
        {
          "output_type": "stream",
          "name": "stdout",
          "text": [
            "Epoch 1/15\n",
            "67/67 [==============================] - 220s 3s/step - loss: 2.7705 - accuracy: 0.1438 - val_loss: 2.6747 - val_accuracy: 0.1707\n",
            "Epoch 2/15\n",
            "67/67 [==============================] - 217s 3s/step - loss: 2.1734 - accuracy: 0.3221 - val_loss: 2.0884 - val_accuracy: 0.3540\n",
            "Epoch 3/15\n",
            "67/67 [==============================] - 216s 3s/step - loss: 1.7740 - accuracy: 0.4504 - val_loss: 1.6255 - val_accuracy: 0.4907\n",
            "Epoch 4/15\n",
            "67/67 [==============================] - 216s 3s/step - loss: 1.5177 - accuracy: 0.5312 - val_loss: 1.4537 - val_accuracy: 0.5507\n",
            "Epoch 5/15\n",
            "67/67 [==============================] - 217s 3s/step - loss: 1.2368 - accuracy: 0.6128 - val_loss: 1.3716 - val_accuracy: 0.5747\n",
            "Epoch 6/15\n",
            "67/67 [==============================] - 217s 3s/step - loss: 0.9915 - accuracy: 0.6806 - val_loss: 1.3887 - val_accuracy: 0.5847\n",
            "Epoch 7/15\n",
            "67/67 [==============================] - 217s 3s/step - loss: 0.7601 - accuracy: 0.7549 - val_loss: 1.3883 - val_accuracy: 0.6027\n",
            "Epoch 8/15\n",
            "67/67 [==============================] - 219s 3s/step - loss: 0.5343 - accuracy: 0.8242 - val_loss: 1.4486 - val_accuracy: 0.5947\n",
            "Epoch 9/15\n",
            "67/67 [==============================] - 218s 3s/step - loss: 0.3560 - accuracy: 0.8818 - val_loss: 1.4855 - val_accuracy: 0.6440\n",
            "Epoch 10/15\n",
            "67/67 [==============================] - 227s 3s/step - loss: 0.2330 - accuracy: 0.9267 - val_loss: 1.6053 - val_accuracy: 0.6260\n",
            "Epoch 11/15\n",
            "67/67 [==============================] - 225s 3s/step - loss: 0.1712 - accuracy: 0.9460 - val_loss: 1.5759 - val_accuracy: 0.6240\n",
            "Epoch 12/15\n",
            "67/67 [==============================] - 226s 3s/step - loss: 0.1308 - accuracy: 0.9580 - val_loss: 1.7667 - val_accuracy: 0.6327\n",
            "Epoch 13/15\n",
            "67/67 [==============================] - 223s 3s/step - loss: 0.0806 - accuracy: 0.9761 - val_loss: 1.9552 - val_accuracy: 0.6400\n",
            "Epoch 14/15\n",
            "67/67 [==============================] - 223s 3s/step - loss: 0.0751 - accuracy: 0.9764 - val_loss: 1.8985 - val_accuracy: 0.6440\n",
            "Epoch 15/15\n",
            "67/67 [==============================] - 221s 3s/step - loss: 0.0755 - accuracy: 0.9775 - val_loss: 1.8808 - val_accuracy: 0.6513\n"
          ]
        }
      ],
      "source": [
        "# Πρώτη υλοποίηση MyCNN με optimizer=\"Nadam\", epochs=15, batch_size=128\n",
        "MyCNN_model_1.compile(optimizer='Nadam',\n",
        "              loss=tf.keras.losses.SparseCategoricalCrossentropy(from_logits=True),\n",
        "              metrics=['accuracy'])\n",
        "\n",
        "MyCNN_history_1 = MyCNN_model_1.fit(x_train, y_train_to20, epochs=15, batch_size=128,\n",
        "                    validation_data=(x_val, y_val_to20))"
      ]
    },
    {
      "cell_type": "markdown",
      "metadata": {
        "id": "6KffYBRlzdjx"
      },
      "source": [
        "###Δεύτερη υλοποίηση MyCNN"
      ]
    },
    {
      "cell_type": "code",
      "execution_count": null,
      "metadata": {
        "colab": {
          "base_uri": "https://localhost:8080/"
        },
        "id": "nqKdSqM8zwRj",
        "outputId": "b5a56f58-039a-4c88-ec6b-ae235a1db1de"
      },
      "outputs": [
        {
          "output_type": "stream",
          "name": "stdout",
          "text": [
            "Epoch 1/15\n",
            "67/67 [==============================] - 216s 3s/step - loss: 2.5908 - accuracy: 0.1904 - val_loss: 2.0917 - val_accuracy: 0.3453\n",
            "Epoch 2/15\n",
            "67/67 [==============================] - 211s 3s/step - loss: 1.9464 - accuracy: 0.3968 - val_loss: 1.7735 - val_accuracy: 0.4553\n",
            "Epoch 3/15\n",
            "67/67 [==============================] - 210s 3s/step - loss: 1.6342 - accuracy: 0.4922 - val_loss: 1.5411 - val_accuracy: 0.5360\n",
            "Epoch 4/15\n",
            "67/67 [==============================] - 211s 3s/step - loss: 1.4184 - accuracy: 0.5529 - val_loss: 1.4023 - val_accuracy: 0.5547\n",
            "Epoch 5/15\n",
            "67/67 [==============================] - 211s 3s/step - loss: 1.2301 - accuracy: 0.6081 - val_loss: 1.3742 - val_accuracy: 0.5720\n",
            "Epoch 6/15\n",
            "67/67 [==============================] - 207s 3s/step - loss: 1.0706 - accuracy: 0.6579 - val_loss: 1.2546 - val_accuracy: 0.6100\n",
            "Epoch 7/15\n",
            "67/67 [==============================] - 207s 3s/step - loss: 0.9046 - accuracy: 0.7068 - val_loss: 1.2239 - val_accuracy: 0.6267\n",
            "Epoch 8/15\n",
            "67/67 [==============================] - 207s 3s/step - loss: 0.7418 - accuracy: 0.7574 - val_loss: 1.1874 - val_accuracy: 0.6547\n",
            "Epoch 9/15\n",
            "67/67 [==============================] - 208s 3s/step - loss: 0.5988 - accuracy: 0.8048 - val_loss: 1.2752 - val_accuracy: 0.6487\n",
            "Epoch 10/15\n",
            "67/67 [==============================] - 210s 3s/step - loss: 0.4706 - accuracy: 0.8520 - val_loss: 1.2677 - val_accuracy: 0.6653\n",
            "Epoch 11/15\n",
            "67/67 [==============================] - 212s 3s/step - loss: 0.3593 - accuracy: 0.8818 - val_loss: 1.2948 - val_accuracy: 0.6700\n",
            "Epoch 12/15\n",
            "67/67 [==============================] - 213s 3s/step - loss: 0.2687 - accuracy: 0.9142 - val_loss: 1.4201 - val_accuracy: 0.6600\n",
            "Epoch 13/15\n",
            "67/67 [==============================] - 215s 3s/step - loss: 0.1955 - accuracy: 0.9375 - val_loss: 1.4180 - val_accuracy: 0.6673\n",
            "Epoch 14/15\n",
            "67/67 [==============================] - 217s 3s/step - loss: 0.1653 - accuracy: 0.9472 - val_loss: 1.5375 - val_accuracy: 0.6653\n",
            "Epoch 15/15\n",
            "67/67 [==============================] - 219s 3s/step - loss: 0.1403 - accuracy: 0.9565 - val_loss: 1.7622 - val_accuracy: 0.6433\n"
          ]
        }
      ],
      "source": [
        "#Δεύτερη υλοποίηση MyCNN με optimizer=\"Adam\", epochs=15, batch_size=128\n",
        "MyCNN_model_2.compile(optimizer='Adam',\n",
        "              loss=tf.keras.losses.SparseCategoricalCrossentropy(from_logits=True),\n",
        "              metrics=['accuracy'])\n",
        "\n",
        "MyCNN_history_2 = MyCNN_model_2.fit(x_train, y_train_to20, epochs=15, batch_size=128,\n",
        "                    validation_data=(x_val, y_val_to20))"
      ]
    },
    {
      "cell_type": "markdown",
      "metadata": {
        "id": "OZpXgzvpz5HJ"
      },
      "source": [
        "##Βήμα 2:: Αξιολόγηση των μοντέλων"
      ]
    },
    {
      "cell_type": "markdown",
      "metadata": {
        "id": "QvH0Zo7K1PXU"
      },
      "source": [
        " ### Διαγράμματα ορθότητας εκπαίδευσης και ορθότητας επικύρωσης στο σύνολο των εποχών"
      ]
    },
    {
      "cell_type": "markdown",
      "metadata": {
        "id": "N0tkitas1fTR"
      },
      "source": [
        "####LeNet: Επιλέχθηκε η δεύτερη υλοποίηση "
      ]
    },
    {
      "cell_type": "code",
      "execution_count": null,
      "metadata": {
        "colab": {
          "base_uri": "https://localhost:8080/",
          "height": 300
        },
        "id": "imSIM4FU1Tjo",
        "outputId": "a8d9d1eb-5063-4d37-d51e-1415e264b828"
      },
      "outputs": [
        {
          "output_type": "stream",
          "name": "stdout",
          "text": [
            "63/63 - 1s - loss: 2.2350 - accuracy: 0.4345 - 1s/epoch - 22ms/step\n"
          ]
        },
        {
          "output_type": "display_data",
          "data": {
            "text/plain": [
              "<Figure size 432x288 with 1 Axes>"
            ],
            "image/png": "[encoded data removed]"
          },
          "metadata": {
            "needs_background": "light"
          }
        }
      ],
      "source": [
        "plt.plot(LeNet_history_2.history['accuracy'], label='accuracy')\n",
        "plt.plot(LeNet_history_2.history['val_accuracy'], label = 'val_accuracy')\n",
        "plt.xlabel('Epoch')\n",
        "plt.ylabel('Accuracy')\n",
        "plt.ylim([0, 1])\n",
        "plt.legend(loc='lower right')\n",
        "\n",
        "LeNet_test_loss, LeNet_test_acc = LeNet_model_2.evaluate(x_test,  y_test_to20, verbose=2)"
      ]
    },
    {
      "cell_type": "markdown",
      "metadata": {
        "id": "RyIQ24br1nix"
      },
      "source": [
        "####AlexNet: Επιλέχθηκε η πρώτη υλοποίηση"
      ]
    },
    {
      "cell_type": "code",
      "execution_count": null,
      "metadata": {
        "colab": {
          "base_uri": "https://localhost:8080/",
          "height": 300
        },
        "id": "ldwpulga1dn9",
        "outputId": "359e81ce-b727-404a-c1f8-94d6fed4e153"
      },
      "outputs": [
        {
          "output_type": "stream",
          "name": "stdout",
          "text": [
            "63/63 - 7s - loss: 2.4092 - accuracy: 0.5160 - 7s/epoch - 104ms/step\n"
          ]
        },
        {
          "output_type": "display_data",
          "data": {
            "text/plain": [
              "<Figure size 432x288 with 1 Axes>"
            ],
            "image/png": "[encoded data removed]"
          },
          "metadata": {
            "needs_background": "light"
          }
        }
      ],
      "source": [
        "plt.plot(AlexNet_history_1.history['accuracy'], label='accuracy')\n",
        "plt.plot(AlexNet_history_1.history['val_accuracy'], label = 'val_accuracy')\n",
        "plt.xlabel('Epoch')\n",
        "plt.ylabel('Accuracy')\n",
        "plt.ylim([0, 1])\n",
        "plt.legend(loc='lower right')\n",
        "\n",
        "AlexNet_test_loss, AlexNet_test_acc = AlexNet_model_1.evaluate(x_test,  y_test_to20, verbose=2)"
      ]
    },
    {
      "cell_type": "markdown",
      "metadata": {
        "id": "e-U1pmUC11gz"
      },
      "source": [
        "####VGG: Επιλέχθηκε η δεύτερη υλοποίηση"
      ]
    },
    {
      "cell_type": "code",
      "execution_count": null,
      "metadata": {
        "colab": {
          "base_uri": "https://localhost:8080/",
          "height": 300
        },
        "id": "PVCEqZP417DP",
        "outputId": "b26308ff-91ee-47ea-d1e5-40390cac8508"
      },
      "outputs": [
        {
          "output_type": "stream",
          "name": "stdout",
          "text": [
            "63/63 - 13s - loss: 2.3923 - accuracy: 0.5915 - 13s/epoch - 205ms/step\n"
          ]
        },
        {
          "output_type": "display_data",
          "data": {
            "text/plain": [
              "<Figure size 432x288 with 1 Axes>"
            ],
            "image/png": "[encoded data removed]"
          },
          "metadata": {
            "needs_background": "light"
          }
        }
      ],
      "source": [
        "plt.plot(VGG_history_2.history['accuracy'], label='accuracy')\n",
        "plt.plot(VGG_history_2.history['val_accuracy'], label = 'val_accuracy')\n",
        "plt.xlabel('Epoch')\n",
        "plt.ylabel('Accuracy')\n",
        "plt.ylim([0, 1])\n",
        "plt.legend(loc='lower right')\n",
        "\n",
        "VGG_test_loss, VGG_test_acc = VGG_model_2.evaluate(x_test,  y_test_to20, verbose=2)"
      ]
    },
    {
      "cell_type": "markdown",
      "metadata": {
        "id": "ywDB6HRq2AAx"
      },
      "source": [
        "####MyCNN: Eπιλέxθηκε η δεύτερη υλοποίηση"
      ]
    },
    {
      "cell_type": "code",
      "execution_count": null,
      "metadata": {
        "colab": {
          "base_uri": "https://localhost:8080/",
          "height": 300
        },
        "id": "GObVbvkj19bS",
        "outputId": "63703463-f380-4b27-a737-3e61610bb658"
      },
      "outputs": [
        {
          "output_type": "stream",
          "name": "stdout",
          "text": [
            "63/63 - 13s - loss: 1.8055 - accuracy: 0.6195 - 13s/epoch - 202ms/step\n"
          ]
        },
        {
          "output_type": "display_data",
          "data": {
            "text/plain": [
              "<Figure size 432x288 with 1 Axes>"
            ],
            "image/png": "[encoded data removed]"
          },
          "metadata": {
            "needs_background": "light"
          }
        }
      ],
      "source": [
        "plt.plot(MyCNN_history_2.history['accuracy'], label='accuracy')\n",
        "plt.plot(MyCNN_history_2.history['val_accuracy'], label = 'val_accuracy')\n",
        "plt.xlabel('Epoch')\n",
        "plt.ylabel('Accuracy')\n",
        "plt.ylim([0, 1])\n",
        "plt.legend(loc='lower right')\n",
        "\n",
        "MyCNN__test_loss, MyCNN__test_acc = MyCNN_model_2.evaluate(x_test,  y_test_to20, verbose=2)"
      ]
    },
    {
      "cell_type": "markdown",
      "metadata": {
        "id": "Vp8Tf-WR2_2R"
      },
      "source": [
        "##Βήμα 3:: Συμπεράσματα κι αξιολόγηση ορθότητας"
      ]
    },
    {
      "cell_type": "markdown",
      "metadata": {
        "id": "AMd9rtZU44qG"
      },
      "source": [
        "Επίδραση του πλήθους των δεδομένων/κλάσεων στην απόδοση του μοντέλου: <br>\n",
        "Είναι γνωστό ότι όσα περισσότερα δεδομένα υπάρχουν για την εκπαίδευση ενός δικτύου, τόσο καλύτερα είναι τα αποτελέσματά του αφού εκπαιδεύεται καλύτερα\n",
        "\n",
        "Επίδραση του αλγόριθμου βελτιστοποίησης (optimizer): <br>\n",
        "Η επιλογή του κατάληλου αλγόριθμου βελτιστοποίησης είναι πολύ σημαντική για την επίδοση του δικτύου. Δεν υπάρχει απόλυτος κανόνας για την επιλογή του κατάλληλου αλγόριθμου βελτιστοποίησης και από δοκιμές που έγιναν στα πιο πάνω δίκτυα φάνηκε ότι κάποιοι αλγόριθμοι μπορούν αποδίδουν πολύ καλά σε κάποια δίκτυα και καθόλου καλά σε άλλα\n",
        "\n",
        "Επίδραση του μεγέθους δέσμης (batch size): <br>\n",
        "Από δοκιμές που έγιναν στα πιο πάνω δίκτυα φάνηκε ότι η μείωση του μεγέθους δέσμης έχει ως αποτέλεσμα τη βελτίωση επίδοσης αλλά αυξάνει σημαντικά το χρόνο εκπαίδευσης. Για τα πιο πάνω δίκτυα χρησιμοποιήθηκε μικρό μέγεθος δέσμης (και μεγάλος αριθμός εποχών) μόνο για το LeNet του οποίου οι επιδόσεις ήταν και σημαντικά χειρότερες από των υπολοίπων\n",
        "\n",
        "Γενικά συμπεράσματα: <br>\n",
        "Η επίδοση του δικτύου LeNet είναι εμφανώς χειρότερη από τα υπόλοιπα. Το MyCNN είχε τις καλύτερες επιδόσεις με λιγότερες εποχές από τα υπόλοιπα αλλά αυτό κατά πάσα πιθανότητα οφείλεται στα δεδομένα εισόδου και δεν θα έχει αντίστοιχες επιδόσεις για κάθε είδος δεδομένων εισόδου"
      ]
    },
    {
      "cell_type": "markdown",
      "metadata": {
        "id": "v8rhgSGOV5pm"
      },
      "source": [
        "\n",
        "# Ερώτημα 2\n",
        "---\n",
        "### Βήμα 1: Έλεγχος υπερεκπαίδευσης\n",
        "\n",
        "Για τον καλύτερο συνδυασμό που λάβατε από το Ερώτημα 1 για μοντέλο σας  (**MyCNN**) και μόνο, δοκιμάστε διάφορους συνδυασμούς των ακόλουθων τεχνικών για τον έλεγχο της υπερεκπαίδευσης (overfitting), όπως: \n",
        "- Πρόωρος τερματισμός (early stopping [tf.keras.callbacks.EarlyStopping](https://www.tensorflow.org/api_docs/python/tf/keras/callbacks/EarlyStoppinghttps://)) \n",
        "\n",
        "- Dropout ([Dropout](https://www.tensorflow.org/tutorials/images/classification#dropout))\n",
        "\n",
        "- Επαύξηση δεδομένων ([Data augmentation](https://www.tensorflow.org/tutorials/images/classification#data_augmentation), [ImageDataGenerator](https://www.tensorflow.org/api_docs/python/tf/keras/preprocessing/image/ImageDataGenerator#class_imagedatagenerator)) \n",
        "\n",
        "\\\\\n",
        ", ώστε το μοντέλο σας να γενικεύει καλύτερα.\n",
        "\n",
        "---\n",
        "### Βήμα 2: Αξιολόγηση\n",
        "Αξιολογήστε της ορθότητας για το validation και το test set σας."
      ]
    },
    {
      "cell_type": "markdown",
      "metadata": {
        "id": "HE55rFvL6Foh"
      },
      "source": [
        "###Βήμα 1: Έλεγχος υπερεκπαίδευσης"
      ]
    },
    {
      "cell_type": "code",
      "execution_count": null,
      "metadata": {
        "id": "mQpXIADk6f06"
      },
      "outputs": [],
      "source": [
        "# Πρόωρος τερματισμός\n",
        "def callback_fun(monitor_val, min_delta_val, patience_val):\n",
        "  return tf.keras.callbacks.EarlyStopping(monitor=monitor_val, min_delta=min_delta_val, patience=patience_val)"
      ]
    },
    {
      "cell_type": "code",
      "execution_count": null,
      "metadata": {
        "id": "Myv2xEOA6kHL"
      },
      "outputs": [],
      "source": [
        "# Dropout\n",
        "def dropout(dropout_val):\n",
        "  dropout_layer = models.Sequential()\n",
        "  dropout_layer.add(layers.Dropout(dropout_val))\n",
        "  return dropout_layer"
      ]
    },
    {
      "cell_type": "code",
      "execution_count": null,
      "metadata": {
        "id": "rDINb6sG6peD"
      },
      "outputs": [],
      "source": [
        "# Επαύξηση δεδομένων\n",
        "from tensorflow import keras\n",
        "\n",
        "data_augmentation = keras.Sequential(\n",
        "  [\n",
        "    layers.experimental.preprocessing.RandomFlip(\"horizontal\", \n",
        "                                                 input_shape=(32, 32, 3)),\n",
        "    layers.experimental.preprocessing.RandomRotation(0.1),\n",
        "    layers.experimental.preprocessing.RandomZoom(0.1),\n",
        "  ]\n",
        ")"
      ]
    },
    {
      "cell_type": "code",
      "execution_count": null,
      "metadata": {
        "id": "GGg7KTrX60Wq"
      },
      "outputs": [],
      "source": [
        "# Ορισμός νέου μοντέλου με data augmentatios & dropout\n",
        "def MyCNN_with_data_augmentation_n_dropout(data_aug_flag, dropout_val):\n",
        "  model = models.Sequential()\n",
        "  if(data_aug_flag):\n",
        "    model.add(data_augmentation)      \n",
        "  model.add(layers.Conv2D(filters=128, kernel_size=3, padding='same', activation='relu', input_shape=(32, 32, 3)))\n",
        "  model.add(layers.MaxPool2D(pool_size=2, strides=2))\n",
        "  model.add(layers.Conv2D(filters=256, kernel_size=3, padding='same', activation='relu'))  \n",
        "  model.add(layers.MaxPool2D(pool_size=2, strides=2)) \n",
        "  model.add(layers.Conv2D(filters=512, kernel_size=3, padding='same', activation='relu')) \n",
        "  model.add(layers.MaxPool2D(pool_size=2, strides=2))\n",
        "  model.add(layers.Flatten())\n",
        "  model.add(layers.Dense(2048, activation='relu'))\n",
        "  model.add(dropout(dropout_val))\n",
        "  model.add(layers.Dense(20))\n",
        "  return model"
      ]
    },
    {
      "cell_type": "code",
      "execution_count": null,
      "metadata": {
        "colab": {
          "base_uri": "https://localhost:8080/"
        },
        "id": "Jt28doKx62ka",
        "outputId": "4ba774c8-3fbb-43e1-bdc7-d85c861289c4"
      },
      "outputs": [
        {
          "output_type": "stream",
          "name": "stdout",
          "text": [
            "Sequential output shape: \t (1, 32, 32, 3)\n",
            "Conv2D output shape: \t (1, 32, 32, 128)\n",
            "MaxPooling2D output shape: \t (1, 16, 16, 128)\n",
            "Conv2D output shape: \t (1, 16, 16, 256)\n",
            "MaxPooling2D output shape: \t (1, 8, 8, 256)\n",
            "Conv2D output shape: \t (1, 8, 8, 512)\n",
            "MaxPooling2D output shape: \t (1, 4, 4, 512)\n",
            "Flatten output shape: \t (1, 8192)\n",
            "Dense output shape: \t (1, 2048)\n",
            "Sequential output shape: \t (1, 2048)\n",
            "Dense output shape: \t (1, 20)\n"
          ]
        }
      ],
      "source": [
        "X = tf.random.uniform((1, 32, 32, 3)) \n",
        "for layer in MyCNN_with_data_augmentation_n_dropout(True, 0.5).layers:\n",
        "    X = layer(X)\n",
        "    print(layer.__class__.__name__, 'output shape: \\t', X.shape)"
      ]
    },
    {
      "cell_type": "markdown",
      "metadata": {
        "id": "GFtGlROE67CM"
      },
      "source": [
        "####Δοκιμές"
      ]
    },
    {
      "cell_type": "code",
      "execution_count": null,
      "metadata": {
        "colab": {
          "base_uri": "https://localhost:8080/"
        },
        "id": "Ec4hYmxx7EkY",
        "outputId": "8c02f30e-8766-4d32-8b88-c13290511a9e"
      },
      "outputs": [
        {
          "output_type": "stream",
          "name": "stdout",
          "text": [
            "Epoch 1/35\n",
            "67/67 [==============================] - 226s 3s/step - loss: 2.5591 - accuracy: 0.2032 - val_loss: 2.0752 - val_accuracy: 0.3547\n",
            "Epoch 2/35\n",
            "67/67 [==============================] - 217s 3s/step - loss: 2.0413 - accuracy: 0.3661 - val_loss: 1.8947 - val_accuracy: 0.4107\n",
            "Epoch 3/35\n",
            "67/67 [==============================] - 209s 3s/step - loss: 1.7733 - accuracy: 0.4400 - val_loss: 1.6273 - val_accuracy: 0.5047\n",
            "Epoch 4/35\n",
            "67/67 [==============================] - 209s 3s/step - loss: 1.6071 - accuracy: 0.4893 - val_loss: 1.6500 - val_accuracy: 0.4973\n",
            "Epoch 5/35\n",
            "67/67 [==============================] - 208s 3s/step - loss: 1.5051 - accuracy: 0.5165 - val_loss: 1.5297 - val_accuracy: 0.5300\n",
            "Epoch 6/35\n",
            "67/67 [==============================] - 209s 3s/step - loss: 1.4020 - accuracy: 0.5525 - val_loss: 1.3972 - val_accuracy: 0.5747\n",
            "Epoch 7/35\n",
            "67/67 [==============================] - 208s 3s/step - loss: 1.3022 - accuracy: 0.5821 - val_loss: 1.5169 - val_accuracy: 0.5607\n",
            "Epoch 8/35\n",
            "67/67 [==============================] - 210s 3s/step - loss: 1.2166 - accuracy: 0.6059 - val_loss: 1.4544 - val_accuracy: 0.5753\n",
            "Epoch 9/35\n",
            "67/67 [==============================] - 207s 3s/step - loss: 1.1621 - accuracy: 0.6238 - val_loss: 1.3920 - val_accuracy: 0.5907\n",
            "Epoch 10/35\n",
            "67/67 [==============================] - 208s 3s/step - loss: 1.0788 - accuracy: 0.6466 - val_loss: 1.3044 - val_accuracy: 0.6053\n",
            "Epoch 11/35\n",
            "67/67 [==============================] - 208s 3s/step - loss: 1.0215 - accuracy: 0.6687 - val_loss: 1.2866 - val_accuracy: 0.6140\n",
            "Epoch 12/35\n",
            "67/67 [==============================] - 209s 3s/step - loss: 0.9543 - accuracy: 0.6946 - val_loss: 1.3096 - val_accuracy: 0.6227\n",
            "Epoch 13/35\n",
            "67/67 [==============================] - 209s 3s/step - loss: 0.9097 - accuracy: 0.6987 - val_loss: 1.2409 - val_accuracy: 0.6333\n"
          ]
        }
      ],
      "source": [
        "# Δοκιμή 1 με data augmentation, dropout = 0.1 και callback ('accuracy', 0.01, 1) \n",
        "MyCNN_model_testing_1 = MyCNN_with_data_augmentation_n_dropout(True, 0.1)\n",
        "callback = callback_fun('accuracy', 0.01, 1)\n",
        "\n",
        "MyCNN_model_testing_1.compile(optimizer='Adam',\n",
        "              loss=tf.keras.losses.SparseCategoricalCrossentropy(from_logits=True),\n",
        "              metrics=['accuracy'])\n",
        "\n",
        "MyCNN_history_testing_1 = MyCNN_model_testing_1.fit(x_train, y_train_to20, epochs=35, batch_size=128,\n",
        "                    validation_data=(x_val, y_val_to20), callbacks=[callback])"
      ]
    },
    {
      "cell_type": "code",
      "execution_count": null,
      "metadata": {
        "id": "J_Iq2-gX7KKQ",
        "colab": {
          "base_uri": "https://localhost:8080/"
        },
        "outputId": "45509a70-0755-415f-ac97-1400d2609149"
      },
      "outputs": [
        {
          "output_type": "stream",
          "name": "stdout",
          "text": [
            "Epoch 1/35\n",
            "67/67 [==============================] - 213s 3s/step - loss: 2.6297 - accuracy: 0.1860 - val_loss: 2.1673 - val_accuracy: 0.3273\n",
            "Epoch 2/35\n",
            "67/67 [==============================] - 213s 3s/step - loss: 1.9456 - accuracy: 0.3944 - val_loss: 1.7699 - val_accuracy: 0.4460\n",
            "Epoch 3/35\n",
            "67/67 [==============================] - 214s 3s/step - loss: 1.6240 - accuracy: 0.4901 - val_loss: 1.5870 - val_accuracy: 0.4973\n",
            "Epoch 4/35\n",
            "67/67 [==============================] - 212s 3s/step - loss: 1.3915 - accuracy: 0.5591 - val_loss: 1.4647 - val_accuracy: 0.5653\n",
            "Epoch 5/35\n",
            "67/67 [==============================] - 211s 3s/step - loss: 1.1992 - accuracy: 0.6171 - val_loss: 1.4027 - val_accuracy: 0.5727\n",
            "Epoch 6/35\n",
            "67/67 [==============================] - 213s 3s/step - loss: 1.0323 - accuracy: 0.6672 - val_loss: 1.3002 - val_accuracy: 0.6113\n",
            "Epoch 7/35\n",
            "67/67 [==============================] - 210s 3s/step - loss: 0.8173 - accuracy: 0.7378 - val_loss: 1.2466 - val_accuracy: 0.6260\n",
            "Epoch 8/35\n",
            "67/67 [==============================] - 210s 3s/step - loss: 0.6660 - accuracy: 0.7854 - val_loss: 1.2852 - val_accuracy: 0.6200\n",
            "Epoch 9/35\n",
            "67/67 [==============================] - 210s 3s/step - loss: 0.5115 - accuracy: 0.8307 - val_loss: 1.4186 - val_accuracy: 0.6247\n",
            "Epoch 10/35\n",
            "67/67 [==============================] - 211s 3s/step - loss: 0.3485 - accuracy: 0.8885 - val_loss: 1.4577 - val_accuracy: 0.6453\n",
            "Epoch 11/35\n",
            "67/67 [==============================] - 212s 3s/step - loss: 0.2518 - accuracy: 0.9209 - val_loss: 1.6800 - val_accuracy: 0.6267\n",
            "Epoch 12/35\n",
            "67/67 [==============================] - 209s 3s/step - loss: 0.1641 - accuracy: 0.9496 - val_loss: 1.8281 - val_accuracy: 0.6393\n",
            "Epoch 13/35\n",
            "67/67 [==============================] - 208s 3s/step - loss: 0.1264 - accuracy: 0.9592 - val_loss: 1.8574 - val_accuracy: 0.6447\n",
            "Epoch 14/35\n",
            "67/67 [==============================] - 209s 3s/step - loss: 0.1136 - accuracy: 0.9656 - val_loss: 2.0691 - val_accuracy: 0.6267\n",
            "Epoch 15/35\n",
            "67/67 [==============================] - 210s 3s/step - loss: 0.0885 - accuracy: 0.9735 - val_loss: 2.0612 - val_accuracy: 0.6293\n",
            "Epoch 16/35\n",
            "67/67 [==============================] - 210s 3s/step - loss: 0.0693 - accuracy: 0.9802 - val_loss: 2.2522 - val_accuracy: 0.6273\n"
          ]
        }
      ],
      "source": [
        "# Δοκιμή 2 χωρίς data augmentation, dropout = 0.2 και callback ('loss', 0.05, 2)\n",
        "MyCNN_model_testing_2 = MyCNN_with_data_augmentation_n_dropout(False, 0.2)\n",
        "callback = callback_fun('loss', 0.05, 2)\n",
        "\n",
        "MyCNN_model_testing_2.compile(optimizer='Adam',\n",
        "              loss=tf.keras.losses.SparseCategoricalCrossentropy(from_logits=True),\n",
        "              metrics=['accuracy'])\n",
        "\n",
        "MyCNN_history_testing_2 = MyCNN_model_testing_2.fit(x_train, y_train_to20, epochs=35, batch_size=128,\n",
        "                    validation_data=(x_val, y_val_to20), callbacks=[callback])"
      ]
    },
    {
      "cell_type": "code",
      "execution_count": null,
      "metadata": {
        "id": "hO4u8aDJ7Qsy",
        "colab": {
          "base_uri": "https://localhost:8080/"
        },
        "outputId": "a4c20622-fc1c-4251-fd2c-ca5097e7ac1c"
      },
      "outputs": [
        {
          "output_type": "stream",
          "name": "stdout",
          "text": [
            "Epoch 1/35\n",
            "67/67 [==============================] - 214s 3s/step - loss: 2.5514 - accuracy: 0.2062 - val_loss: 2.3822 - val_accuracy: 0.2480\n",
            "Epoch 2/35\n",
            "67/67 [==============================] - 212s 3s/step - loss: 2.0457 - accuracy: 0.3649 - val_loss: 1.9227 - val_accuracy: 0.4013\n",
            "Epoch 3/35\n",
            "67/67 [==============================] - 211s 3s/step - loss: 1.7734 - accuracy: 0.4378 - val_loss: 1.7776 - val_accuracy: 0.4553\n",
            "Epoch 4/35\n",
            "67/67 [==============================] - 213s 3s/step - loss: 1.6529 - accuracy: 0.4807 - val_loss: 1.6841 - val_accuracy: 0.5000\n",
            "Epoch 5/35\n",
            "67/67 [==============================] - 214s 3s/step - loss: 1.5338 - accuracy: 0.5147 - val_loss: 1.4808 - val_accuracy: 0.5353\n",
            "Epoch 6/35\n",
            "67/67 [==============================] - 213s 3s/step - loss: 1.4164 - accuracy: 0.5509 - val_loss: 1.5558 - val_accuracy: 0.5387\n",
            "Epoch 7/35\n",
            "67/67 [==============================] - 211s 3s/step - loss: 1.3642 - accuracy: 0.5648 - val_loss: 1.3818 - val_accuracy: 0.5713\n"
          ]
        }
      ],
      "source": [
        "# Δοκιμή 3 με data augmentation, dropout = 0.4 και callback ('val_accuracy', 0.05, 2)\n",
        "MyCNN_model_testing_3 = MyCNN_with_data_augmentation_n_dropout(True, 0.4)\n",
        "callback = callback_fun('val_accuracy', 0.05, 2)\n",
        "\n",
        "MyCNN_model_testing_3.compile(optimizer='Adam',\n",
        "              loss=tf.keras.losses.SparseCategoricalCrossentropy(from_logits=True),\n",
        "              metrics=['accuracy'])\n",
        "\n",
        "MyCNN_history_testing_3 = MyCNN_model_testing_3.fit(x_train, y_train_to20, epochs=35, batch_size=128,\n",
        "                    validation_data=(x_val, y_val_to20), callbacks=[callback])"
      ]
    },
    {
      "cell_type": "markdown",
      "metadata": {
        "id": "UFJDuO5h7Z6L"
      },
      "source": [
        "###Βήμα 2:: Αξιολόγηση"
      ]
    },
    {
      "cell_type": "code",
      "execution_count": null,
      "metadata": {
        "id": "9SaP9vtD7kB7",
        "colab": {
          "base_uri": "https://localhost:8080/",
          "height": 300
        },
        "outputId": "3f5f85be-fdcb-4cf2-9f69-743fc0e538a0"
      },
      "outputs": [
        {
          "output_type": "stream",
          "name": "stdout",
          "text": [
            "63/63 - 12s - loss: 2.1456 - accuracy: 0.6175 - 12s/epoch - 192ms/step\n"
          ]
        },
        {
          "output_type": "display_data",
          "data": {
            "text/plain": [
              "<Figure size 432x288 with 1 Axes>"
            ],
            "image/png": "[encoded data removed]"
          },
          "metadata": {
            "needs_background": "light"
          }
        }
      ],
      "source": [
        "# Επιλέγεται η δοκιμή 2 χωρίς data augmentation, dropout = 0.2 και callback ('loss', 0.05, 2)\n",
        "plt.plot(MyCNN_history_testing_2.history['accuracy'], label='accuracy')\n",
        "plt.plot(MyCNN_history_testing_2.history['val_accuracy'], label = 'val_accuracy')\n",
        "plt.xlabel('Epoch')\n",
        "plt.ylabel('Accuracy')\n",
        "plt.ylim([0, 1])\n",
        "plt.legend(loc='lower right')\n",
        "\n",
        "MyCNN__test_loss_testing, MyCNN__test_acc_testing = MyCNN_model_testing_2.evaluate(x_test,  y_test_to20, verbose=2)"
      ]
    },
    {
      "cell_type": "markdown",
      "metadata": {
        "id": "jTxKRNEHWfGs"
      },
      "source": [
        "# Ερώτημα 3\n",
        "---\n",
        "### Βήμα 1: Μεταφορά γνώσης\n",
        "Εφαρμόστε μεταφορά γνώσης (transfer learning) στο δικό σας μοντέλο (**MyCNN**), που αξιολογήσατε ως καλύτερο προς την ορθότητα στην αντιμετώπιση της υπερεκπαίδεσης. \n",
        "\n",
        "Για το transfer learning, επιλέξτε το [VGG16](https://www.tensorflow.org/api_docs/python/tf/keras/applications/vgg16) για μεταφορά μάθησης.\n",
        "\n",
        "1. \"Παγώστε\" τη συνελικτική βάση και εκπαιδεύστε την κεφαλή ταξινόμησης (classification head - σημαία trainable = False).  \n",
        "\n",
        "2. Εκπαιδέστε μόνο ένα ποσοστό των επιπέδων, το οποίο βρίσκεται προς την έξοδο του δικτύου. Οι σημαίες trainable εδώ θα πρέπει να οριστούν ανά επίπεδο.\n",
        "\n",
        "3. Αξιολογήστε τα αποτελέσματά σας, βάσει της ορθότητας του validation set και του test set σας."
      ]
    },
    {
      "cell_type": "markdown",
      "metadata": {
        "id": "iADQl3fWCk_w"
      },
      "source": [
        "### Βήμα 1.1:: Πάγωμα συνλεκτικής βάσης και εκπαίδευση κεφαλής ταξινόμησης"
      ]
    },
    {
      "cell_type": "code",
      "execution_count": null,
      "metadata": {
        "id": "ODTbBm7ICzEj",
        "colab": {
          "base_uri": "https://localhost:8080/"
        },
        "outputId": "2b0eadcb-4c52-44d4-c8a7-d22716b4489e"
      },
      "outputs": [
        {
          "output_type": "stream",
          "name": "stdout",
          "text": [
            "Downloading data from https://storage.googleapis.com/tensorflow/keras-applications/vgg19/vgg19_weights_tf_dim_ordering_tf_kernels_notop.h5\n",
            "80142336/80134624 [==============================] - 1s 0us/step\n",
            "80150528/80134624 [==============================] - 1s 0us/step\n"
          ]
        }
      ],
      "source": [
        "# Αρχικοποίηση προεκπαιδευμένου μοντέλου\n",
        "pretrained_model = tf.keras.applications.VGG19(input_shape=(32,32,3), include_top=False)\n",
        "pretrained_model.trainable = False"
      ]
    },
    {
      "cell_type": "code",
      "execution_count": null,
      "metadata": {
        "id": "OVdR5K2nC8Y6"
      },
      "outputs": [],
      "source": [
        "# Δημιουργία παραλλαγής μοντέλου MyCNN που χρησιμοποιεί ως βάση το προεκπαιδευμένο μοντέλο\n",
        "def MyCNN_with_transfer_learning(data_aug_flag, dropout_val):\n",
        "  model = models.Sequential()\n",
        "  model.add(pretrained_model)\n",
        "  model.add(layers.Flatten())\n",
        "  model.add(layers.Dense(200, activation='relu'))\n",
        "  model.add(dropout(dropout_val))\n",
        "  model.add(layers.Dense(20))\n",
        "  return model"
      ]
    },
    {
      "cell_type": "code",
      "execution_count": null,
      "metadata": {
        "id": "0JYObSNIDB_U",
        "colab": {
          "base_uri": "https://localhost:8080/"
        },
        "outputId": "90475d63-47f3-4e76-a971-b62b66c1acc3"
      },
      "outputs": [
        {
          "output_type": "stream",
          "name": "stdout",
          "text": [
            "Functional output shape: \t (1, 1, 1, 512)\n",
            "Flatten output shape: \t (1, 512)\n",
            "Dense output shape: \t (1, 200)\n",
            "Sequential output shape: \t (1, 200)\n",
            "Dense output shape: \t (1, 20)\n"
          ]
        }
      ],
      "source": [
        "X = tf.random.uniform((1, 32, 32, 3)) \n",
        "for layer in MyCNN_with_transfer_learning(True, 0.5).layers:\n",
        "    X = layer(X)\n",
        "    print(layer.__class__.__name__, 'output shape: \\t', X.shape)"
      ]
    },
    {
      "cell_type": "code",
      "execution_count": null,
      "metadata": {
        "id": "_PEjAZz4DDi8",
        "colab": {
          "base_uri": "https://localhost:8080/"
        },
        "outputId": "7cc6d8f5-98d4-4163-84f2-ca308952cf28"
      },
      "outputs": [
        {
          "output_type": "stream",
          "name": "stdout",
          "text": [
            "Epoch 1/10\n",
            "67/67 [==============================] - 131s 2s/step - loss: 2.2570 - accuracy: 0.3164 - val_loss: 1.7755 - val_accuracy: 0.4520\n",
            "Epoch 2/10\n",
            "67/67 [==============================] - 130s 2s/step - loss: 1.7345 - accuracy: 0.4631 - val_loss: 1.6002 - val_accuracy: 0.4980\n",
            "Epoch 3/10\n",
            "67/67 [==============================] - 130s 2s/step - loss: 1.5943 - accuracy: 0.5002 - val_loss: 1.5180 - val_accuracy: 0.5380\n",
            "Epoch 4/10\n",
            "67/67 [==============================] - 133s 2s/step - loss: 1.5026 - accuracy: 0.5224 - val_loss: 1.4699 - val_accuracy: 0.5593\n",
            "Epoch 5/10\n",
            "67/67 [==============================] - 130s 2s/step - loss: 1.4395 - accuracy: 0.5493 - val_loss: 1.4526 - val_accuracy: 0.5480\n",
            "Epoch 6/10\n",
            "67/67 [==============================] - 130s 2s/step - loss: 1.3819 - accuracy: 0.5567 - val_loss: 1.4173 - val_accuracy: 0.5640\n",
            "Epoch 7/10\n",
            "67/67 [==============================] - 131s 2s/step - loss: 1.3479 - accuracy: 0.5658 - val_loss: 1.4176 - val_accuracy: 0.5653\n",
            "Epoch 8/10\n",
            "67/67 [==============================] - 131s 2s/step - loss: 1.3008 - accuracy: 0.5832 - val_loss: 1.4075 - val_accuracy: 0.5713\n",
            "Epoch 9/10\n",
            "67/67 [==============================] - 131s 2s/step - loss: 1.2710 - accuracy: 0.5944 - val_loss: 1.3821 - val_accuracy: 0.5713\n",
            "Epoch 10/10\n",
            "67/67 [==============================] - 139s 2s/step - loss: 1.2312 - accuracy: 0.6064 - val_loss: 1.3657 - val_accuracy: 0.5707\n"
          ]
        }
      ],
      "source": [
        "# Μεταγλώττιση και εκπαίδευση μοντέλου\n",
        "MyCNN_model_transfer_learning = MyCNN_with_transfer_learning(False, 0.2)\n",
        "callback = callback_fun('loss', 0.05, 2)\n",
        "\n",
        "MyCNN_model_transfer_learning.compile(optimizer='Adam',\n",
        "              loss=tf.keras.losses.SparseCategoricalCrossentropy(from_logits=True),\n",
        "              metrics=['accuracy'])\n",
        "\n",
        "MyCNN_history_testing_transfer_learning = MyCNN_model_transfer_learning.fit(x_train, y_train_to20, epochs=10, batch_size=128,\n",
        "                    validation_data=(x_val, y_val_to20), callbacks=[callback])"
      ]
    },
    {
      "cell_type": "markdown",
      "metadata": {
        "id": "rRrHjbDRDc3_"
      },
      "source": [
        "### Βήμα 1.2:: Εκπαίδευση ποσοστού των επιπέδων, το οποίο βρίσκεται προς την έξοδο του δικτύου"
      ]
    },
    {
      "cell_type": "code",
      "execution_count": null,
      "metadata": {
        "id": "-ooMDbHmDwEM",
        "colab": {
          "base_uri": "https://localhost:8080/"
        },
        "outputId": "43a01a6f-e866-4547-ae78-d66f855b6996"
      },
      "outputs": [
        {
          "output_type": "stream",
          "name": "stdout",
          "text": [
            "1 InputLayer output shape: \t (1, 32, 32, 3)\n",
            "2 Conv2D output shape: \t (1, 32, 32, 64)\n",
            "3 Conv2D output shape: \t (1, 32, 32, 64)\n",
            "4 MaxPooling2D output shape: \t (1, 16, 16, 64)\n",
            "5 Conv2D output shape: \t (1, 16, 16, 128)\n",
            "6 Conv2D output shape: \t (1, 16, 16, 128)\n",
            "7 MaxPooling2D output shape: \t (1, 8, 8, 128)\n",
            "8 Conv2D output shape: \t (1, 8, 8, 256)\n",
            "9 Conv2D output shape: \t (1, 8, 8, 256)\n",
            "10 Conv2D output shape: \t (1, 8, 8, 256)\n",
            "11 Conv2D output shape: \t (1, 8, 8, 256)\n",
            "12 MaxPooling2D output shape: \t (1, 4, 4, 256)\n",
            "13 Conv2D output shape: \t (1, 4, 4, 512)\n",
            "14 Conv2D output shape: \t (1, 4, 4, 512)\n",
            "15 Conv2D output shape: \t (1, 4, 4, 512)\n",
            "16 Conv2D output shape: \t (1, 4, 4, 512)\n",
            "17 MaxPooling2D output shape: \t (1, 2, 2, 512)\n",
            "18 Conv2D output shape: \t (1, 2, 2, 512)\n",
            "19 Conv2D output shape: \t (1, 2, 2, 512)\n",
            "20 Conv2D output shape: \t (1, 2, 2, 512)\n",
            "21 Conv2D output shape: \t (1, 2, 2, 512)\n",
            "22 MaxPooling2D output shape: \t (1, 1, 1, 512)\n"
          ]
        }
      ],
      "source": [
        "# Έλεγχος επιπέδων προεκπαιδευμένου δικτύου\n",
        "pretrained_model_2 = tf.keras.applications.VGG19(input_shape=(32,32,3), include_top=False)\n",
        "\n",
        "X = tf.random.uniform((1, 32, 32, 3)) \n",
        "i = 1\n",
        "for layer in pretrained_model_2.layers:\n",
        "    X = layer(X)\n",
        "    print(i,layer.__class__.__name__, 'output shape: \\t', X.shape)\n",
        "    i+=1"
      ]
    },
    {
      "cell_type": "code",
      "execution_count": null,
      "metadata": {
        "id": "PP4X8VtrD0MM",
        "colab": {
          "base_uri": "https://localhost:8080/"
        },
        "outputId": "8c3fb641-f3c9-43df-c6cc-99e925dd9de1"
      },
      "outputs": [
        {
          "output_type": "stream",
          "name": "stdout",
          "text": [
            "1 False\n",
            "2 False\n",
            "3 False\n",
            "4 False\n",
            "5 False\n",
            "6 False\n",
            "7 False\n",
            "8 False\n",
            "9 False\n",
            "10 False\n",
            "11 True\n",
            "12 True\n",
            "13 True\n",
            "14 True\n",
            "15 True\n",
            "16 True\n",
            "17 True\n",
            "18 True\n",
            "19 True\n",
            "20 True\n",
            "21 True\n",
            "22 True\n"
          ]
        }
      ],
      "source": [
        "# Ορισμός σημαιών trainable ως True για τα επίπεδα 1-22\n",
        "i = 1\n",
        "for layer in pretrained_model_2.layers:\n",
        "  if(i<=10):\n",
        "    layer.trainable = False\n",
        "  print(i,layer.trainable)\n",
        "  i += 1"
      ]
    },
    {
      "cell_type": "code",
      "execution_count": null,
      "metadata": {
        "id": "kZnfuYqOD6oT"
      },
      "outputs": [],
      "source": [
        "# Δημιουργία παραλλαγής μοντέλου MyCNN που χρησιμοποιεί ως βάση το προεκπαιδευμένο μοντέλο 2\n",
        "def MyCNN_with_transfer_learning_2(data_aug_flag, dropout_val):\n",
        "  model = models.Sequential()\n",
        "  model.add(pretrained_model_2)\n",
        "  model.add(layers.Flatten())\n",
        "  model.add(layers.Dense(200, activation='relu'))\n",
        "  model.add(dropout(dropout_val))\n",
        "  model.add(layers.Dense(20))\n",
        "  return model"
      ]
    },
    {
      "cell_type": "code",
      "execution_count": null,
      "metadata": {
        "id": "IBdgtLwAEBeI",
        "colab": {
          "base_uri": "https://localhost:8080/"
        },
        "outputId": "a3ed0788-1d3c-4598-9546-1535706fd627"
      },
      "outputs": [
        {
          "output_type": "stream",
          "name": "stdout",
          "text": [
            "Functional output shape: \t (1, 1, 1, 512)\n",
            "Flatten output shape: \t (1, 512)\n",
            "Dense output shape: \t (1, 200)\n",
            "Sequential output shape: \t (1, 200)\n",
            "Dense output shape: \t (1, 20)\n"
          ]
        }
      ],
      "source": [
        "X = tf.random.uniform((1, 32, 32, 3)) \n",
        "for layer in MyCNN_with_transfer_learning_2(True, 0.5).layers:\n",
        "    X = layer(X)\n",
        "    print(layer.__class__.__name__, 'output shape: \\t', X.shape)"
      ]
    },
    {
      "cell_type": "code",
      "execution_count": null,
      "metadata": {
        "id": "WGYcIkfHEZJO",
        "colab": {
          "base_uri": "https://localhost:8080/"
        },
        "outputId": "777d9cf2-e479-4ee8-a016-4490f318be96"
      },
      "outputs": [
        {
          "output_type": "stream",
          "name": "stdout",
          "text": [
            "Epoch 1/10\n",
            "67/67 [==============================] - 1046s 16s/step - loss: 2.9555 - accuracy: 0.0761 - val_loss: 2.6422 - val_accuracy: 0.1233\n",
            "Epoch 2/10\n",
            "67/67 [==============================] - 1030s 15s/step - loss: 2.6473 - accuracy: 0.1246 - val_loss: 2.5169 - val_accuracy: 0.1633\n",
            "Epoch 3/10\n",
            "67/67 [==============================] - 1019s 15s/step - loss: 2.4498 - accuracy: 0.1638 - val_loss: 2.3962 - val_accuracy: 0.1767\n",
            "Epoch 4/10\n",
            "67/67 [==============================] - 1006s 15s/step - loss: 2.3659 - accuracy: 0.1896 - val_loss: 2.2153 - val_accuracy: 0.2433\n",
            "Epoch 5/10\n",
            "67/67 [==============================] - 1019s 15s/step - loss: 2.2910 - accuracy: 0.2124 - val_loss: 2.1823 - val_accuracy: 0.2620\n",
            "Epoch 6/10\n",
            "67/67 [==============================] - 1018s 15s/step - loss: 2.3061 - accuracy: 0.2168 - val_loss: 2.3526 - val_accuracy: 0.2073\n",
            "Epoch 7/10\n",
            "67/67 [==============================] - 1018s 15s/step - loss: 2.2478 - accuracy: 0.2309 - val_loss: 2.1819 - val_accuracy: 0.2680\n"
          ]
        }
      ],
      "source": [
        "# Μεταγλώττιση και εκπαίδευση μοντέλου\n",
        "MyCNN_model_transfer_learning_2 = MyCNN_with_transfer_learning_2(False, 0.2)\n",
        "callback = callback_fun('loss', 0.05, 2)\n",
        "\n",
        "MyCNN_model_transfer_learning_2.compile(optimizer='Adam',\n",
        "              loss=tf.keras.losses.SparseCategoricalCrossentropy(from_logits=True),\n",
        "              metrics=['accuracy'])\n",
        "\n",
        "MyCNN_history_testing_transfer_learning_2 = MyCNN_model_transfer_learning_2.fit(x_train, y_train_to20, epochs=10, batch_size=128,\n",
        "                    validation_data=(x_val, y_val_to20), callbacks=[callback])"
      ]
    },
    {
      "cell_type": "markdown",
      "metadata": {
        "id": "Ro3SlT4NEgfp"
      },
      "source": [
        "### Βήμα 1.3:: Αξιολόγηση"
      ]
    },
    {
      "cell_type": "code",
      "execution_count": null,
      "metadata": {
        "id": "NaNcK4oSEohI",
        "colab": {
          "base_uri": "https://localhost:8080/",
          "height": 300
        },
        "outputId": "48f98b3f-87a3-4af6-d9f6-c42006016ca4"
      },
      "outputs": [
        {
          "output_type": "stream",
          "name": "stdout",
          "text": [
            "63/63 - 27s - loss: 1.3933 - accuracy: 0.5655 - 27s/epoch - 425ms/step\n"
          ]
        },
        {
          "output_type": "display_data",
          "data": {
            "text/plain": [
              "<Figure size 432x288 with 1 Axes>"
            ],
            "image/png": "[encoded data removed]"
          },
          "metadata": {
            "needs_background": "light"
          }
        }
      ],
      "source": [
        "plt.plot(MyCNN_history_testing_transfer_learning.history['accuracy'], label='accuracy')\n",
        "plt.plot(MyCNN_history_testing_transfer_learning.history['val_accuracy'], label = 'val_accuracy')\n",
        "plt.xlabel('Epoch')\n",
        "plt.ylabel('Accuracy')\n",
        "plt.ylim([0, 1])\n",
        "plt.legend(loc='lower right')\n",
        "\n",
        "MyCNN__test_loss_testing_tl, MyCNN__test_acc_testing_tl = MyCNN_model_transfer_learning.evaluate(x_test,  y_test_to20, verbose=2)"
      ]
    },
    {
      "cell_type": "code",
      "execution_count": null,
      "metadata": {
        "id": "VOpMUzZWEp6Z",
        "colab": {
          "base_uri": "https://localhost:8080/",
          "height": 300
        },
        "outputId": "95fe4b7b-6f28-4b44-bf2a-5cdfd60f8b18"
      },
      "outputs": [
        {
          "output_type": "stream",
          "name": "stdout",
          "text": [
            "63/63 - 27s - loss: 2.2573 - accuracy: 0.2360 - 27s/epoch - 424ms/step\n"
          ]
        },
        {
          "output_type": "display_data",
          "data": {
            "text/plain": [
              "<Figure size 432x288 with 1 Axes>"
            ],
            "image/png": "[encoded data removed]"
          },
          "metadata": {
            "needs_background": "light"
          }
        }
      ],
      "source": [
        "plt.plot(MyCNN_history_testing_transfer_learning_2.history['accuracy'], label='accuracy')\n",
        "plt.plot(MyCNN_history_testing_transfer_learning_2.history['val_accuracy'], label = 'val_accuracy')\n",
        "plt.xlabel('Epoch')\n",
        "plt.ylabel('Accuracy')\n",
        "plt.ylim([0, 1])\n",
        "plt.legend(loc='lower right')\n",
        "\n",
        "MyCNN__test_loss_testing_tl_2, MyCNN__test_acc_testing_tl_2 = MyCNN_model_transfer_learning_2.evaluate(x_test,  y_test_to20, verbose=2)"
      ]
    },
    {
      "cell_type": "markdown",
      "metadata": {
        "id": "M_T6Y9EJDuOu"
      },
      "source": [
        "## Διαχείριση μνήμης (TFRecord)\n",
        "Η φόρτωση δεδομένων με τον τρόπο που το κάναμε παραπάνω στο απλό παράδειγμα υλοποίησης είναι πολύ βολική αλλά δεν είναι αποτελεσματική ως προς τη διαχείριση της μνήμης. Συγκεκριμένα, με τον τρόπο αυτό, τα δεδομένα αποθηκεύονται απευθείας σε μεταβλητές, οι οποίες όλες μαζί καταλαμβάνουν τη RAM της CPU ή της GPU, κάτι που κάνει αδύνατη τη διαχείριση μεγάλων datasets ή τον μεταχηματισμό των δεδομένων όπως όταν κάνουμε αύξηση δεδομένων (data augmentation).\n",
        "\n",
        "Για να παρακαμφθεί αυτό το πρόβλημα, υπάρχει η δυνατότητα της σειριοποίησης των δεδομένων (serialization) και της αποθήκευσής τους σε αρχεία μεσαίου μεγέθους (κάποιων MB) τα οποία μπορούν να αναγνωστούν γραμμικά.\n",
        "\n",
        "Το φορμάτ TFRecord είναι ένα φορμάτ που επιτρέπει την αποθήκευση σειράς δυαδικών εγγραφών. Διαβάστε σχετικά για το [TFRecord and tf.Example](https://www.tensorflow.org/tutorials/load_data/tfrecord) και [tf.data: Build TensorFlow input pipelines](https://www.tensorflow.org/guide/data). \n",
        "\n",
        "Σημειώστε ότι με τη μέθοδο αυτή θα πρέπει να γίνει import η `tensorflow_datasets` και να χρησιμοποιήσουμε την `tfds.load` ώστε να αποθηκευθεί το σύνολο δεδομένων σε αρχεία tfrecord στο δίσκο (δείτε [εδώ](https://colab.research.google.com/github/tensorflow/datasets/blob/master/docs/overview.ipynb) ένα παράδειγμα). Φυσικά μπορούμε να μετατρέψουμε και τα πρωτογενή δεδομένα (raw data) του dataset όπως αρχεία jpg σε φορματ tfrecord όπως [εδώ](https://towardsdatascience.com/working-with-tfrecords-and-tf-train-example-36d111b3ff4d).\n"
      ]
    }
  ],
  "metadata": {
    "colab": {
      "collapsed_sections": [],
      "name": "Lab 2_Team12.ipynb",
      "provenance": [],
      "toc_visible": true
    },
    "kernelspec": {
      "display_name": "Python 3",
      "name": "python3"
    }
  },
  "nbformat": 4,
  "nbformat_minor": 0
}